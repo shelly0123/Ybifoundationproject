{
  "nbformat": 4,
  "nbformat_minor": 0,
  "metadata": {
    "colab": {
      "provenance": []
    },
    "kernelspec": {
      "name": "python3",
      "display_name": "Python 3"
    },
    "language_info": {
      "name": "python"
    }
  },
  "cells": [
    {
      "cell_type": "markdown",
      "source": [
        "# **Movie Recommendation System**"
      ],
      "metadata": {
        "id": "XNo6bzIOGvqr"
      }
    },
    {
      "cell_type": "markdown",
      "source": [
        "# **Import Library**"
      ],
      "metadata": {
        "id": "tlOte7-ZUXwh"
      }
    },
    {
      "cell_type": "code",
      "execution_count": null,
      "metadata": {
        "id": "9gagftJ7MP0b"
      },
      "outputs": [],
      "source": [
        "import pandas as pd"
      ]
    },
    {
      "cell_type": "code",
      "source": [
        "import numpy as np"
      ],
      "metadata": {
        "id": "h5skfTrwUjoU"
      },
      "execution_count": null,
      "outputs": []
    },
    {
      "cell_type": "markdown",
      "source": [
        "# **Import Dataset**"
      ],
      "metadata": {
        "id": "Fe7OsA5FUoEE"
      }
    },
    {
      "cell_type": "code",
      "source": [
        "df = pd.read_csv('https://github.com/YBI-Foundation/Dataset/raw/refs/heads/main/Movies%20Recommendation.csv')"
      ],
      "metadata": {
        "id": "baM_65UuUjqp"
      },
      "execution_count": null,
      "outputs": []
    },
    {
      "cell_type": "markdown",
      "source": [],
      "metadata": {
        "id": "gY_fPu3qGSeS"
      }
    },
    {
      "cell_type": "code",
      "source": [
        "df.head()"
      ],
      "metadata": {
        "colab": {
          "base_uri": "https://localhost:8080/",
          "height": 672
        },
        "id": "iY2yR6j5Ujsu",
        "outputId": "7d1c249b-b1d2-48a3-e05c-ab6466050a80"
      },
      "execution_count": null,
      "outputs": [
        {
          "output_type": "execute_result",
          "data": {
            "text/plain": [
              "   Movie_ID      Movie_Title                       Movie_Genre Movie_Language  \\\n",
              "0         1       Four Rooms                      Crime Comedy             en   \n",
              "1         2        Star Wars  Adventure Action Science Fiction             en   \n",
              "2         3     Finding Nemo                  Animation Family             en   \n",
              "3         4     Forrest Gump              Comedy Drama Romance             en   \n",
              "4         5  American Beauty                             Drama             en   \n",
              "\n",
              "   Movie_Budget  Movie_Popularity Movie_Release_Date  Movie_Revenue  \\\n",
              "0       4000000         22.876230         09-12-1995        4300000   \n",
              "1      11000000        126.393695         25-05-1977      775398007   \n",
              "2      94000000         85.688789         30-05-2003      940335536   \n",
              "3      55000000        138.133331         06-07-1994      677945399   \n",
              "4      15000000         80.878605         15-09-1999      356296601   \n",
              "\n",
              "   Movie_Runtime  Movie_Vote  ...  \\\n",
              "0           98.0         6.5  ...   \n",
              "1          121.0         8.1  ...   \n",
              "2          100.0         7.6  ...   \n",
              "3          142.0         8.2  ...   \n",
              "4          122.0         7.9  ...   \n",
              "\n",
              "                                      Movie_Homepage  \\\n",
              "0                                                NaN   \n",
              "1  http://www.starwars.com/films/star-wars-episod...   \n",
              "2              http://movies.disney.com/finding-nemo   \n",
              "3                                                NaN   \n",
              "4                      http://www.dreamworks.com/ab/   \n",
              "\n",
              "                                      Movie_Keywords  \\\n",
              "0          hotel new year's eve witch bet hotel room   \n",
              "1        android galaxy hermit death star lightsaber   \n",
              "2  father son relationship harbor underwater fish...   \n",
              "3  vietnam veteran hippie mentally disabled runni...   \n",
              "4  male nudity female nudity adultery midlife cri...   \n",
              "\n",
              "                                      Movie_Overview  \\\n",
              "0  It's Ted the Bellhop's first night on the job....   \n",
              "1  Princess Leia is captured and held hostage by ...   \n",
              "2  Nemo, an adventurous young clownfish, is unexp...   \n",
              "3  A man with a low IQ has accomplished great thi...   \n",
              "4  Lester Burnham, a depressed suburban father in...   \n",
              "\n",
              "                              Movie_Production_House  \\\n",
              "0  [{\"name\": \"Miramax Films\", \"id\": 14}, {\"name\":...   \n",
              "1  [{\"name\": \"Lucasfilm\", \"id\": 1}, {\"name\": \"Twe...   \n",
              "2     [{\"name\": \"Pixar Animation Studios\", \"id\": 3}]   \n",
              "3          [{\"name\": \"Paramount Pictures\", \"id\": 4}]   \n",
              "4  [{\"name\": \"DreamWorks SKG\", \"id\": 27}, {\"name\"...   \n",
              "\n",
              "                            Movie_Production_Country  \\\n",
              "0  [{\"iso_3166_1\": \"US\", \"name\": \"United States o...   \n",
              "1  [{\"iso_3166_1\": \"US\", \"name\": \"United States o...   \n",
              "2  [{\"iso_3166_1\": \"US\", \"name\": \"United States o...   \n",
              "3  [{\"iso_3166_1\": \"US\", \"name\": \"United States o...   \n",
              "4  [{\"iso_3166_1\": \"US\", \"name\": \"United States o...   \n",
              "\n",
              "                      Movie_Spoken_Language  \\\n",
              "0  [{\"iso_639_1\": \"en\", \"name\": \"English\"}]   \n",
              "1  [{\"iso_639_1\": \"en\", \"name\": \"English\"}]   \n",
              "2  [{\"iso_639_1\": \"en\", \"name\": \"English\"}]   \n",
              "3  [{\"iso_639_1\": \"en\", \"name\": \"English\"}]   \n",
              "4  [{\"iso_639_1\": \"en\", \"name\": \"English\"}]   \n",
              "\n",
              "                                       Movie_Tagline  \\\n",
              "0  Twelve outrageous guests. Four scandalous requ...   \n",
              "1       A long time ago in a galaxy far, far away...   \n",
              "2  There are 3.7 trillion fish in the ocean, they...   \n",
              "3  The world will never be the same, once you've ...   \n",
              "4                                       Look closer.   \n",
              "\n",
              "                                          Movie_Cast  \\\n",
              "0  Tim Roth Antonio Banderas Jennifer Beals Madon...   \n",
              "1  Mark Hamill Harrison Ford Carrie Fisher Peter ...   \n",
              "2  Albert Brooks Ellen DeGeneres Alexander Gould ...   \n",
              "3  Tom Hanks Robin Wright Gary Sinise Mykelti Wil...   \n",
              "4  Kevin Spacey Annette Bening Thora Birch Wes Be...   \n",
              "\n",
              "                                          Movie_Crew   Movie_Director  \n",
              "0  [{'name': 'Allison Anders', 'gender': 1, 'depa...   Allison Anders  \n",
              "1  [{'name': 'George Lucas', 'gender': 2, 'depart...     George Lucas  \n",
              "2  [{'name': 'Andrew Stanton', 'gender': 2, 'depa...   Andrew Stanton  \n",
              "3  [{'name': 'Alan Silvestri', 'gender': 2, 'depa...  Robert Zemeckis  \n",
              "4  [{'name': 'Thomas Newman', 'gender': 2, 'depar...       Sam Mendes  \n",
              "\n",
              "[5 rows x 21 columns]"
            ],
            "text/html": [
              "\n",
              "  <div id=\"df-1a18a320-4a5c-4888-849c-3f6878fa4ea4\" class=\"colab-df-container\">\n",
              "    <div>\n",
              "<style scoped>\n",
              "    .dataframe tbody tr th:only-of-type {\n",
              "        vertical-align: middle;\n",
              "    }\n",
              "\n",
              "    .dataframe tbody tr th {\n",
              "        vertical-align: top;\n",
              "    }\n",
              "\n",
              "    .dataframe thead th {\n",
              "        text-align: right;\n",
              "    }\n",
              "</style>\n",
              "<table border=\"1\" class=\"dataframe\">\n",
              "  <thead>\n",
              "    <tr style=\"text-align: right;\">\n",
              "      <th></th>\n",
              "      <th>Movie_ID</th>\n",
              "      <th>Movie_Title</th>\n",
              "      <th>Movie_Genre</th>\n",
              "      <th>Movie_Language</th>\n",
              "      <th>Movie_Budget</th>\n",
              "      <th>Movie_Popularity</th>\n",
              "      <th>Movie_Release_Date</th>\n",
              "      <th>Movie_Revenue</th>\n",
              "      <th>Movie_Runtime</th>\n",
              "      <th>Movie_Vote</th>\n",
              "      <th>...</th>\n",
              "      <th>Movie_Homepage</th>\n",
              "      <th>Movie_Keywords</th>\n",
              "      <th>Movie_Overview</th>\n",
              "      <th>Movie_Production_House</th>\n",
              "      <th>Movie_Production_Country</th>\n",
              "      <th>Movie_Spoken_Language</th>\n",
              "      <th>Movie_Tagline</th>\n",
              "      <th>Movie_Cast</th>\n",
              "      <th>Movie_Crew</th>\n",
              "      <th>Movie_Director</th>\n",
              "    </tr>\n",
              "  </thead>\n",
              "  <tbody>\n",
              "    <tr>\n",
              "      <th>0</th>\n",
              "      <td>1</td>\n",
              "      <td>Four Rooms</td>\n",
              "      <td>Crime Comedy</td>\n",
              "      <td>en</td>\n",
              "      <td>4000000</td>\n",
              "      <td>22.876230</td>\n",
              "      <td>09-12-1995</td>\n",
              "      <td>4300000</td>\n",
              "      <td>98.0</td>\n",
              "      <td>6.5</td>\n",
              "      <td>...</td>\n",
              "      <td>NaN</td>\n",
              "      <td>hotel new year's eve witch bet hotel room</td>\n",
              "      <td>It's Ted the Bellhop's first night on the job....</td>\n",
              "      <td>[{\"name\": \"Miramax Films\", \"id\": 14}, {\"name\":...</td>\n",
              "      <td>[{\"iso_3166_1\": \"US\", \"name\": \"United States o...</td>\n",
              "      <td>[{\"iso_639_1\": \"en\", \"name\": \"English\"}]</td>\n",
              "      <td>Twelve outrageous guests. Four scandalous requ...</td>\n",
              "      <td>Tim Roth Antonio Banderas Jennifer Beals Madon...</td>\n",
              "      <td>[{'name': 'Allison Anders', 'gender': 1, 'depa...</td>\n",
              "      <td>Allison Anders</td>\n",
              "    </tr>\n",
              "    <tr>\n",
              "      <th>1</th>\n",
              "      <td>2</td>\n",
              "      <td>Star Wars</td>\n",
              "      <td>Adventure Action Science Fiction</td>\n",
              "      <td>en</td>\n",
              "      <td>11000000</td>\n",
              "      <td>126.393695</td>\n",
              "      <td>25-05-1977</td>\n",
              "      <td>775398007</td>\n",
              "      <td>121.0</td>\n",
              "      <td>8.1</td>\n",
              "      <td>...</td>\n",
              "      <td>http://www.starwars.com/films/star-wars-episod...</td>\n",
              "      <td>android galaxy hermit death star lightsaber</td>\n",
              "      <td>Princess Leia is captured and held hostage by ...</td>\n",
              "      <td>[{\"name\": \"Lucasfilm\", \"id\": 1}, {\"name\": \"Twe...</td>\n",
              "      <td>[{\"iso_3166_1\": \"US\", \"name\": \"United States o...</td>\n",
              "      <td>[{\"iso_639_1\": \"en\", \"name\": \"English\"}]</td>\n",
              "      <td>A long time ago in a galaxy far, far away...</td>\n",
              "      <td>Mark Hamill Harrison Ford Carrie Fisher Peter ...</td>\n",
              "      <td>[{'name': 'George Lucas', 'gender': 2, 'depart...</td>\n",
              "      <td>George Lucas</td>\n",
              "    </tr>\n",
              "    <tr>\n",
              "      <th>2</th>\n",
              "      <td>3</td>\n",
              "      <td>Finding Nemo</td>\n",
              "      <td>Animation Family</td>\n",
              "      <td>en</td>\n",
              "      <td>94000000</td>\n",
              "      <td>85.688789</td>\n",
              "      <td>30-05-2003</td>\n",
              "      <td>940335536</td>\n",
              "      <td>100.0</td>\n",
              "      <td>7.6</td>\n",
              "      <td>...</td>\n",
              "      <td>http://movies.disney.com/finding-nemo</td>\n",
              "      <td>father son relationship harbor underwater fish...</td>\n",
              "      <td>Nemo, an adventurous young clownfish, is unexp...</td>\n",
              "      <td>[{\"name\": \"Pixar Animation Studios\", \"id\": 3}]</td>\n",
              "      <td>[{\"iso_3166_1\": \"US\", \"name\": \"United States o...</td>\n",
              "      <td>[{\"iso_639_1\": \"en\", \"name\": \"English\"}]</td>\n",
              "      <td>There are 3.7 trillion fish in the ocean, they...</td>\n",
              "      <td>Albert Brooks Ellen DeGeneres Alexander Gould ...</td>\n",
              "      <td>[{'name': 'Andrew Stanton', 'gender': 2, 'depa...</td>\n",
              "      <td>Andrew Stanton</td>\n",
              "    </tr>\n",
              "    <tr>\n",
              "      <th>3</th>\n",
              "      <td>4</td>\n",
              "      <td>Forrest Gump</td>\n",
              "      <td>Comedy Drama Romance</td>\n",
              "      <td>en</td>\n",
              "      <td>55000000</td>\n",
              "      <td>138.133331</td>\n",
              "      <td>06-07-1994</td>\n",
              "      <td>677945399</td>\n",
              "      <td>142.0</td>\n",
              "      <td>8.2</td>\n",
              "      <td>...</td>\n",
              "      <td>NaN</td>\n",
              "      <td>vietnam veteran hippie mentally disabled runni...</td>\n",
              "      <td>A man with a low IQ has accomplished great thi...</td>\n",
              "      <td>[{\"name\": \"Paramount Pictures\", \"id\": 4}]</td>\n",
              "      <td>[{\"iso_3166_1\": \"US\", \"name\": \"United States o...</td>\n",
              "      <td>[{\"iso_639_1\": \"en\", \"name\": \"English\"}]</td>\n",
              "      <td>The world will never be the same, once you've ...</td>\n",
              "      <td>Tom Hanks Robin Wright Gary Sinise Mykelti Wil...</td>\n",
              "      <td>[{'name': 'Alan Silvestri', 'gender': 2, 'depa...</td>\n",
              "      <td>Robert Zemeckis</td>\n",
              "    </tr>\n",
              "    <tr>\n",
              "      <th>4</th>\n",
              "      <td>5</td>\n",
              "      <td>American Beauty</td>\n",
              "      <td>Drama</td>\n",
              "      <td>en</td>\n",
              "      <td>15000000</td>\n",
              "      <td>80.878605</td>\n",
              "      <td>15-09-1999</td>\n",
              "      <td>356296601</td>\n",
              "      <td>122.0</td>\n",
              "      <td>7.9</td>\n",
              "      <td>...</td>\n",
              "      <td>http://www.dreamworks.com/ab/</td>\n",
              "      <td>male nudity female nudity adultery midlife cri...</td>\n",
              "      <td>Lester Burnham, a depressed suburban father in...</td>\n",
              "      <td>[{\"name\": \"DreamWorks SKG\", \"id\": 27}, {\"name\"...</td>\n",
              "      <td>[{\"iso_3166_1\": \"US\", \"name\": \"United States o...</td>\n",
              "      <td>[{\"iso_639_1\": \"en\", \"name\": \"English\"}]</td>\n",
              "      <td>Look closer.</td>\n",
              "      <td>Kevin Spacey Annette Bening Thora Birch Wes Be...</td>\n",
              "      <td>[{'name': 'Thomas Newman', 'gender': 2, 'depar...</td>\n",
              "      <td>Sam Mendes</td>\n",
              "    </tr>\n",
              "  </tbody>\n",
              "</table>\n",
              "<p>5 rows × 21 columns</p>\n",
              "</div>\n",
              "    <div class=\"colab-df-buttons\">\n",
              "\n",
              "  <div class=\"colab-df-container\">\n",
              "    <button class=\"colab-df-convert\" onclick=\"convertToInteractive('df-1a18a320-4a5c-4888-849c-3f6878fa4ea4')\"\n",
              "            title=\"Convert this dataframe to an interactive table.\"\n",
              "            style=\"display:none;\">\n",
              "\n",
              "  <svg xmlns=\"http://www.w3.org/2000/svg\" height=\"24px\" viewBox=\"0 -960 960 960\">\n",
              "    <path d=\"M120-120v-720h720v720H120Zm60-500h600v-160H180v160Zm220 220h160v-160H400v160Zm0 220h160v-160H400v160ZM180-400h160v-160H180v160Zm440 0h160v-160H620v160ZM180-180h160v-160H180v160Zm440 0h160v-160H620v160Z\"/>\n",
              "  </svg>\n",
              "    </button>\n",
              "\n",
              "  <style>\n",
              "    .colab-df-container {\n",
              "      display:flex;\n",
              "      gap: 12px;\n",
              "    }\n",
              "\n",
              "    .colab-df-convert {\n",
              "      background-color: #E8F0FE;\n",
              "      border: none;\n",
              "      border-radius: 50%;\n",
              "      cursor: pointer;\n",
              "      display: none;\n",
              "      fill: #1967D2;\n",
              "      height: 32px;\n",
              "      padding: 0 0 0 0;\n",
              "      width: 32px;\n",
              "    }\n",
              "\n",
              "    .colab-df-convert:hover {\n",
              "      background-color: #E2EBFA;\n",
              "      box-shadow: 0px 1px 2px rgba(60, 64, 67, 0.3), 0px 1px 3px 1px rgba(60, 64, 67, 0.15);\n",
              "      fill: #174EA6;\n",
              "    }\n",
              "\n",
              "    .colab-df-buttons div {\n",
              "      margin-bottom: 4px;\n",
              "    }\n",
              "\n",
              "    [theme=dark] .colab-df-convert {\n",
              "      background-color: #3B4455;\n",
              "      fill: #D2E3FC;\n",
              "    }\n",
              "\n",
              "    [theme=dark] .colab-df-convert:hover {\n",
              "      background-color: #434B5C;\n",
              "      box-shadow: 0px 1px 3px 1px rgba(0, 0, 0, 0.15);\n",
              "      filter: drop-shadow(0px 1px 2px rgba(0, 0, 0, 0.3));\n",
              "      fill: #FFFFFF;\n",
              "    }\n",
              "  </style>\n",
              "\n",
              "    <script>\n",
              "      const buttonEl =\n",
              "        document.querySelector('#df-1a18a320-4a5c-4888-849c-3f6878fa4ea4 button.colab-df-convert');\n",
              "      buttonEl.style.display =\n",
              "        google.colab.kernel.accessAllowed ? 'block' : 'none';\n",
              "\n",
              "      async function convertToInteractive(key) {\n",
              "        const element = document.querySelector('#df-1a18a320-4a5c-4888-849c-3f6878fa4ea4');\n",
              "        const dataTable =\n",
              "          await google.colab.kernel.invokeFunction('convertToInteractive',\n",
              "                                                    [key], {});\n",
              "        if (!dataTable) return;\n",
              "\n",
              "        const docLinkHtml = 'Like what you see? Visit the ' +\n",
              "          '<a target=\"_blank\" href=https://colab.research.google.com/notebooks/data_table.ipynb>data table notebook</a>'\n",
              "          + ' to learn more about interactive tables.';\n",
              "        element.innerHTML = '';\n",
              "        dataTable['output_type'] = 'display_data';\n",
              "        await google.colab.output.renderOutput(dataTable, element);\n",
              "        const docLink = document.createElement('div');\n",
              "        docLink.innerHTML = docLinkHtml;\n",
              "        element.appendChild(docLink);\n",
              "      }\n",
              "    </script>\n",
              "  </div>\n",
              "\n",
              "\n",
              "<div id=\"df-7cf53d0e-3bfd-4e4c-aab0-5a5d1a040529\">\n",
              "  <button class=\"colab-df-quickchart\" onclick=\"quickchart('df-7cf53d0e-3bfd-4e4c-aab0-5a5d1a040529')\"\n",
              "            title=\"Suggest charts\"\n",
              "            style=\"display:none;\">\n",
              "\n",
              "<svg xmlns=\"http://www.w3.org/2000/svg\" height=\"24px\"viewBox=\"0 0 24 24\"\n",
              "     width=\"24px\">\n",
              "    <g>\n",
              "        <path d=\"M19 3H5c-1.1 0-2 .9-2 2v14c0 1.1.9 2 2 2h14c1.1 0 2-.9 2-2V5c0-1.1-.9-2-2-2zM9 17H7v-7h2v7zm4 0h-2V7h2v10zm4 0h-2v-4h2v4z\"/>\n",
              "    </g>\n",
              "</svg>\n",
              "  </button>\n",
              "\n",
              "<style>\n",
              "  .colab-df-quickchart {\n",
              "      --bg-color: #E8F0FE;\n",
              "      --fill-color: #1967D2;\n",
              "      --hover-bg-color: #E2EBFA;\n",
              "      --hover-fill-color: #174EA6;\n",
              "      --disabled-fill-color: #AAA;\n",
              "      --disabled-bg-color: #DDD;\n",
              "  }\n",
              "\n",
              "  [theme=dark] .colab-df-quickchart {\n",
              "      --bg-color: #3B4455;\n",
              "      --fill-color: #D2E3FC;\n",
              "      --hover-bg-color: #434B5C;\n",
              "      --hover-fill-color: #FFFFFF;\n",
              "      --disabled-bg-color: #3B4455;\n",
              "      --disabled-fill-color: #666;\n",
              "  }\n",
              "\n",
              "  .colab-df-quickchart {\n",
              "    background-color: var(--bg-color);\n",
              "    border: none;\n",
              "    border-radius: 50%;\n",
              "    cursor: pointer;\n",
              "    display: none;\n",
              "    fill: var(--fill-color);\n",
              "    height: 32px;\n",
              "    padding: 0;\n",
              "    width: 32px;\n",
              "  }\n",
              "\n",
              "  .colab-df-quickchart:hover {\n",
              "    background-color: var(--hover-bg-color);\n",
              "    box-shadow: 0 1px 2px rgba(60, 64, 67, 0.3), 0 1px 3px 1px rgba(60, 64, 67, 0.15);\n",
              "    fill: var(--button-hover-fill-color);\n",
              "  }\n",
              "\n",
              "  .colab-df-quickchart-complete:disabled,\n",
              "  .colab-df-quickchart-complete:disabled:hover {\n",
              "    background-color: var(--disabled-bg-color);\n",
              "    fill: var(--disabled-fill-color);\n",
              "    box-shadow: none;\n",
              "  }\n",
              "\n",
              "  .colab-df-spinner {\n",
              "    border: 2px solid var(--fill-color);\n",
              "    border-color: transparent;\n",
              "    border-bottom-color: var(--fill-color);\n",
              "    animation:\n",
              "      spin 1s steps(1) infinite;\n",
              "  }\n",
              "\n",
              "  @keyframes spin {\n",
              "    0% {\n",
              "      border-color: transparent;\n",
              "      border-bottom-color: var(--fill-color);\n",
              "      border-left-color: var(--fill-color);\n",
              "    }\n",
              "    20% {\n",
              "      border-color: transparent;\n",
              "      border-left-color: var(--fill-color);\n",
              "      border-top-color: var(--fill-color);\n",
              "    }\n",
              "    30% {\n",
              "      border-color: transparent;\n",
              "      border-left-color: var(--fill-color);\n",
              "      border-top-color: var(--fill-color);\n",
              "      border-right-color: var(--fill-color);\n",
              "    }\n",
              "    40% {\n",
              "      border-color: transparent;\n",
              "      border-right-color: var(--fill-color);\n",
              "      border-top-color: var(--fill-color);\n",
              "    }\n",
              "    60% {\n",
              "      border-color: transparent;\n",
              "      border-right-color: var(--fill-color);\n",
              "    }\n",
              "    80% {\n",
              "      border-color: transparent;\n",
              "      border-right-color: var(--fill-color);\n",
              "      border-bottom-color: var(--fill-color);\n",
              "    }\n",
              "    90% {\n",
              "      border-color: transparent;\n",
              "      border-bottom-color: var(--fill-color);\n",
              "    }\n",
              "  }\n",
              "</style>\n",
              "\n",
              "  <script>\n",
              "    async function quickchart(key) {\n",
              "      const quickchartButtonEl =\n",
              "        document.querySelector('#' + key + ' button');\n",
              "      quickchartButtonEl.disabled = true;  // To prevent multiple clicks.\n",
              "      quickchartButtonEl.classList.add('colab-df-spinner');\n",
              "      try {\n",
              "        const charts = await google.colab.kernel.invokeFunction(\n",
              "            'suggestCharts', [key], {});\n",
              "      } catch (error) {\n",
              "        console.error('Error during call to suggestCharts:', error);\n",
              "      }\n",
              "      quickchartButtonEl.classList.remove('colab-df-spinner');\n",
              "      quickchartButtonEl.classList.add('colab-df-quickchart-complete');\n",
              "    }\n",
              "    (() => {\n",
              "      let quickchartButtonEl =\n",
              "        document.querySelector('#df-7cf53d0e-3bfd-4e4c-aab0-5a5d1a040529 button');\n",
              "      quickchartButtonEl.style.display =\n",
              "        google.colab.kernel.accessAllowed ? 'block' : 'none';\n",
              "    })();\n",
              "  </script>\n",
              "</div>\n",
              "\n",
              "    </div>\n",
              "  </div>\n"
            ],
            "application/vnd.google.colaboratory.intrinsic+json": {
              "type": "dataframe",
              "variable_name": "df"
            }
          },
          "metadata": {},
          "execution_count": 5
        }
      ]
    },
    {
      "cell_type": "code",
      "source": [
        "df.info()"
      ],
      "metadata": {
        "colab": {
          "base_uri": "https://localhost:8080/"
        },
        "id": "lEO9qfKrUju-",
        "outputId": "350160f1-7d08-4339-fc24-1956d823e6c6"
      },
      "execution_count": null,
      "outputs": [
        {
          "output_type": "stream",
          "name": "stdout",
          "text": [
            "<class 'pandas.core.frame.DataFrame'>\n",
            "RangeIndex: 4760 entries, 0 to 4759\n",
            "Data columns (total 21 columns):\n",
            " #   Column                    Non-Null Count  Dtype  \n",
            "---  ------                    --------------  -----  \n",
            " 0   Movie_ID                  4760 non-null   int64  \n",
            " 1   Movie_Title               4760 non-null   object \n",
            " 2   Movie_Genre               4760 non-null   object \n",
            " 3   Movie_Language            4760 non-null   object \n",
            " 4   Movie_Budget              4760 non-null   int64  \n",
            " 5   Movie_Popularity          4760 non-null   float64\n",
            " 6   Movie_Release_Date        4760 non-null   object \n",
            " 7   Movie_Revenue             4760 non-null   int64  \n",
            " 8   Movie_Runtime             4758 non-null   float64\n",
            " 9   Movie_Vote                4760 non-null   float64\n",
            " 10  Movie_Vote_Count          4760 non-null   int64  \n",
            " 11  Movie_Homepage            1699 non-null   object \n",
            " 12  Movie_Keywords            4373 non-null   object \n",
            " 13  Movie_Overview            4757 non-null   object \n",
            " 14  Movie_Production_House    4760 non-null   object \n",
            " 15  Movie_Production_Country  4760 non-null   object \n",
            " 16  Movie_Spoken_Language     4760 non-null   object \n",
            " 17  Movie_Tagline             3942 non-null   object \n",
            " 18  Movie_Cast                4733 non-null   object \n",
            " 19  Movie_Crew                4760 non-null   object \n",
            " 20  Movie_Director            4738 non-null   object \n",
            "dtypes: float64(3), int64(4), object(14)\n",
            "memory usage: 781.1+ KB\n"
          ]
        }
      ]
    },
    {
      "cell_type": "code",
      "source": [
        "df.shape"
      ],
      "metadata": {
        "colab": {
          "base_uri": "https://localhost:8080/"
        },
        "id": "mgxR_abyUjw9",
        "outputId": "5f56b2d4-2208-41a6-8d87-63d7b39cd9bd"
      },
      "execution_count": null,
      "outputs": [
        {
          "output_type": "execute_result",
          "data": {
            "text/plain": [
              "(4760, 21)"
            ]
          },
          "metadata": {},
          "execution_count": 7
        }
      ]
    },
    {
      "cell_type": "code",
      "source": [
        "df.columns"
      ],
      "metadata": {
        "colab": {
          "base_uri": "https://localhost:8080/"
        },
        "id": "UUeE6tmQUjzP",
        "outputId": "8b1ab337-a54e-4a73-f8ba-a316112240b2"
      },
      "execution_count": null,
      "outputs": [
        {
          "output_type": "execute_result",
          "data": {
            "text/plain": [
              "Index(['Movie_ID', 'Movie_Title', 'Movie_Genre', 'Movie_Language',\n",
              "       'Movie_Budget', 'Movie_Popularity', 'Movie_Release_Date',\n",
              "       'Movie_Revenue', 'Movie_Runtime', 'Movie_Vote', 'Movie_Vote_Count',\n",
              "       'Movie_Homepage', 'Movie_Keywords', 'Movie_Overview',\n",
              "       'Movie_Production_House', 'Movie_Production_Country',\n",
              "       'Movie_Spoken_Language', 'Movie_Tagline', 'Movie_Cast', 'Movie_Crew',\n",
              "       'Movie_Director'],\n",
              "      dtype='object')"
            ]
          },
          "metadata": {},
          "execution_count": 8
        }
      ]
    },
    {
      "cell_type": "markdown",
      "source": [
        "# **Get Feature Selection**"
      ],
      "metadata": {
        "id": "OBiMPyAuVZdU"
      }
    },
    {
      "cell_type": "code",
      "source": [
        "df_features = df[['Movie_Genre','Movie_Keywords','Movie_Tagline','Movie_Cast','Movie_Director']].fillna('')"
      ],
      "metadata": {
        "id": "7_T5mcfJUj1d"
      },
      "execution_count": null,
      "outputs": []
    },
    {
      "cell_type": "code",
      "source": [
        "df_features.shape"
      ],
      "metadata": {
        "colab": {
          "base_uri": "https://localhost:8080/"
        },
        "id": "jOt4wwA7Uj3w",
        "outputId": "5dd7048f-e293-4589-b206-dd83861de9c0"
      },
      "execution_count": null,
      "outputs": [
        {
          "output_type": "execute_result",
          "data": {
            "text/plain": [
              "(4760, 5)"
            ]
          },
          "metadata": {},
          "execution_count": 10
        }
      ]
    },
    {
      "cell_type": "code",
      "source": [
        "df_features"
      ],
      "metadata": {
        "colab": {
          "base_uri": "https://localhost:8080/",
          "height": 1000
        },
        "id": "XSg_MR6CUj7E",
        "outputId": "c05ac8bf-c80b-4db5-f897-b6ff84769117"
      },
      "execution_count": null,
      "outputs": [
        {
          "output_type": "execute_result",
          "data": {
            "text/plain": [
              "                           Movie_Genre  \\\n",
              "0                         Crime Comedy   \n",
              "1     Adventure Action Science Fiction   \n",
              "2                     Animation Family   \n",
              "3                 Comedy Drama Romance   \n",
              "4                                Drama   \n",
              "...                                ...   \n",
              "4755                            Horror   \n",
              "4756               Comedy Family Drama   \n",
              "4757                    Thriller Drama   \n",
              "4758                            Family   \n",
              "4759                       Documentary   \n",
              "\n",
              "                                         Movie_Keywords  \\\n",
              "0             hotel new year's eve witch bet hotel room   \n",
              "1           android galaxy hermit death star lightsaber   \n",
              "2     father son relationship harbor underwater fish...   \n",
              "3     vietnam veteran hippie mentally disabled runni...   \n",
              "4     male nudity female nudity adultery midlife cri...   \n",
              "...                                                 ...   \n",
              "4755                                                      \n",
              "4756                                                      \n",
              "4757                     christian film sex trafficking   \n",
              "4758                                                      \n",
              "4759  music actors legendary perfomer classic hollyw...   \n",
              "\n",
              "                                          Movie_Tagline  \\\n",
              "0     Twelve outrageous guests. Four scandalous requ...   \n",
              "1          A long time ago in a galaxy far, far away...   \n",
              "2     There are 3.7 trillion fish in the ocean, they...   \n",
              "3     The world will never be the same, once you've ...   \n",
              "4                                          Look closer.   \n",
              "...                                                 ...   \n",
              "4755                The hot spot where Satan's waitin'.   \n",
              "4756           It’s better to stand out than to fit in.   \n",
              "4757           She never knew it could happen to her...   \n",
              "4758                                                      \n",
              "4759                                                      \n",
              "\n",
              "                                             Movie_Cast     Movie_Director  \n",
              "0     Tim Roth Antonio Banderas Jennifer Beals Madon...     Allison Anders  \n",
              "1     Mark Hamill Harrison Ford Carrie Fisher Peter ...       George Lucas  \n",
              "2     Albert Brooks Ellen DeGeneres Alexander Gould ...     Andrew Stanton  \n",
              "3     Tom Hanks Robin Wright Gary Sinise Mykelti Wil...    Robert Zemeckis  \n",
              "4     Kevin Spacey Annette Bening Thora Birch Wes Be...         Sam Mendes  \n",
              "...                                                 ...                ...  \n",
              "4755  Lisa Hart Carroll Michael Des Barres Paul Drak...         Pece Dingo  \n",
              "4756  Roni Akurati Brighton Sharbino Jason Lee Anjul...       Frank Lotito  \n",
              "4757  Nicole Smolen Kim Baldwin Ariana Stephens Brys...       Jaco Booyens  \n",
              "4758                                                                        \n",
              "4759                                    Tony Oppedisano  Simon Napier-Bell  \n",
              "\n",
              "[4760 rows x 5 columns]"
            ],
            "text/html": [
              "\n",
              "  <div id=\"df-f4d70b23-7e3b-47cf-ac98-990c023c4f57\" class=\"colab-df-container\">\n",
              "    <div>\n",
              "<style scoped>\n",
              "    .dataframe tbody tr th:only-of-type {\n",
              "        vertical-align: middle;\n",
              "    }\n",
              "\n",
              "    .dataframe tbody tr th {\n",
              "        vertical-align: top;\n",
              "    }\n",
              "\n",
              "    .dataframe thead th {\n",
              "        text-align: right;\n",
              "    }\n",
              "</style>\n",
              "<table border=\"1\" class=\"dataframe\">\n",
              "  <thead>\n",
              "    <tr style=\"text-align: right;\">\n",
              "      <th></th>\n",
              "      <th>Movie_Genre</th>\n",
              "      <th>Movie_Keywords</th>\n",
              "      <th>Movie_Tagline</th>\n",
              "      <th>Movie_Cast</th>\n",
              "      <th>Movie_Director</th>\n",
              "    </tr>\n",
              "  </thead>\n",
              "  <tbody>\n",
              "    <tr>\n",
              "      <th>0</th>\n",
              "      <td>Crime Comedy</td>\n",
              "      <td>hotel new year's eve witch bet hotel room</td>\n",
              "      <td>Twelve outrageous guests. Four scandalous requ...</td>\n",
              "      <td>Tim Roth Antonio Banderas Jennifer Beals Madon...</td>\n",
              "      <td>Allison Anders</td>\n",
              "    </tr>\n",
              "    <tr>\n",
              "      <th>1</th>\n",
              "      <td>Adventure Action Science Fiction</td>\n",
              "      <td>android galaxy hermit death star lightsaber</td>\n",
              "      <td>A long time ago in a galaxy far, far away...</td>\n",
              "      <td>Mark Hamill Harrison Ford Carrie Fisher Peter ...</td>\n",
              "      <td>George Lucas</td>\n",
              "    </tr>\n",
              "    <tr>\n",
              "      <th>2</th>\n",
              "      <td>Animation Family</td>\n",
              "      <td>father son relationship harbor underwater fish...</td>\n",
              "      <td>There are 3.7 trillion fish in the ocean, they...</td>\n",
              "      <td>Albert Brooks Ellen DeGeneres Alexander Gould ...</td>\n",
              "      <td>Andrew Stanton</td>\n",
              "    </tr>\n",
              "    <tr>\n",
              "      <th>3</th>\n",
              "      <td>Comedy Drama Romance</td>\n",
              "      <td>vietnam veteran hippie mentally disabled runni...</td>\n",
              "      <td>The world will never be the same, once you've ...</td>\n",
              "      <td>Tom Hanks Robin Wright Gary Sinise Mykelti Wil...</td>\n",
              "      <td>Robert Zemeckis</td>\n",
              "    </tr>\n",
              "    <tr>\n",
              "      <th>4</th>\n",
              "      <td>Drama</td>\n",
              "      <td>male nudity female nudity adultery midlife cri...</td>\n",
              "      <td>Look closer.</td>\n",
              "      <td>Kevin Spacey Annette Bening Thora Birch Wes Be...</td>\n",
              "      <td>Sam Mendes</td>\n",
              "    </tr>\n",
              "    <tr>\n",
              "      <th>...</th>\n",
              "      <td>...</td>\n",
              "      <td>...</td>\n",
              "      <td>...</td>\n",
              "      <td>...</td>\n",
              "      <td>...</td>\n",
              "    </tr>\n",
              "    <tr>\n",
              "      <th>4755</th>\n",
              "      <td>Horror</td>\n",
              "      <td></td>\n",
              "      <td>The hot spot where Satan's waitin'.</td>\n",
              "      <td>Lisa Hart Carroll Michael Des Barres Paul Drak...</td>\n",
              "      <td>Pece Dingo</td>\n",
              "    </tr>\n",
              "    <tr>\n",
              "      <th>4756</th>\n",
              "      <td>Comedy Family Drama</td>\n",
              "      <td></td>\n",
              "      <td>It’s better to stand out than to fit in.</td>\n",
              "      <td>Roni Akurati Brighton Sharbino Jason Lee Anjul...</td>\n",
              "      <td>Frank Lotito</td>\n",
              "    </tr>\n",
              "    <tr>\n",
              "      <th>4757</th>\n",
              "      <td>Thriller Drama</td>\n",
              "      <td>christian film sex trafficking</td>\n",
              "      <td>She never knew it could happen to her...</td>\n",
              "      <td>Nicole Smolen Kim Baldwin Ariana Stephens Brys...</td>\n",
              "      <td>Jaco Booyens</td>\n",
              "    </tr>\n",
              "    <tr>\n",
              "      <th>4758</th>\n",
              "      <td>Family</td>\n",
              "      <td></td>\n",
              "      <td></td>\n",
              "      <td></td>\n",
              "      <td></td>\n",
              "    </tr>\n",
              "    <tr>\n",
              "      <th>4759</th>\n",
              "      <td>Documentary</td>\n",
              "      <td>music actors legendary perfomer classic hollyw...</td>\n",
              "      <td></td>\n",
              "      <td>Tony Oppedisano</td>\n",
              "      <td>Simon Napier-Bell</td>\n",
              "    </tr>\n",
              "  </tbody>\n",
              "</table>\n",
              "<p>4760 rows × 5 columns</p>\n",
              "</div>\n",
              "    <div class=\"colab-df-buttons\">\n",
              "\n",
              "  <div class=\"colab-df-container\">\n",
              "    <button class=\"colab-df-convert\" onclick=\"convertToInteractive('df-f4d70b23-7e3b-47cf-ac98-990c023c4f57')\"\n",
              "            title=\"Convert this dataframe to an interactive table.\"\n",
              "            style=\"display:none;\">\n",
              "\n",
              "  <svg xmlns=\"http://www.w3.org/2000/svg\" height=\"24px\" viewBox=\"0 -960 960 960\">\n",
              "    <path d=\"M120-120v-720h720v720H120Zm60-500h600v-160H180v160Zm220 220h160v-160H400v160Zm0 220h160v-160H400v160ZM180-400h160v-160H180v160Zm440 0h160v-160H620v160ZM180-180h160v-160H180v160Zm440 0h160v-160H620v160Z\"/>\n",
              "  </svg>\n",
              "    </button>\n",
              "\n",
              "  <style>\n",
              "    .colab-df-container {\n",
              "      display:flex;\n",
              "      gap: 12px;\n",
              "    }\n",
              "\n",
              "    .colab-df-convert {\n",
              "      background-color: #E8F0FE;\n",
              "      border: none;\n",
              "      border-radius: 50%;\n",
              "      cursor: pointer;\n",
              "      display: none;\n",
              "      fill: #1967D2;\n",
              "      height: 32px;\n",
              "      padding: 0 0 0 0;\n",
              "      width: 32px;\n",
              "    }\n",
              "\n",
              "    .colab-df-convert:hover {\n",
              "      background-color: #E2EBFA;\n",
              "      box-shadow: 0px 1px 2px rgba(60, 64, 67, 0.3), 0px 1px 3px 1px rgba(60, 64, 67, 0.15);\n",
              "      fill: #174EA6;\n",
              "    }\n",
              "\n",
              "    .colab-df-buttons div {\n",
              "      margin-bottom: 4px;\n",
              "    }\n",
              "\n",
              "    [theme=dark] .colab-df-convert {\n",
              "      background-color: #3B4455;\n",
              "      fill: #D2E3FC;\n",
              "    }\n",
              "\n",
              "    [theme=dark] .colab-df-convert:hover {\n",
              "      background-color: #434B5C;\n",
              "      box-shadow: 0px 1px 3px 1px rgba(0, 0, 0, 0.15);\n",
              "      filter: drop-shadow(0px 1px 2px rgba(0, 0, 0, 0.3));\n",
              "      fill: #FFFFFF;\n",
              "    }\n",
              "  </style>\n",
              "\n",
              "    <script>\n",
              "      const buttonEl =\n",
              "        document.querySelector('#df-f4d70b23-7e3b-47cf-ac98-990c023c4f57 button.colab-df-convert');\n",
              "      buttonEl.style.display =\n",
              "        google.colab.kernel.accessAllowed ? 'block' : 'none';\n",
              "\n",
              "      async function convertToInteractive(key) {\n",
              "        const element = document.querySelector('#df-f4d70b23-7e3b-47cf-ac98-990c023c4f57');\n",
              "        const dataTable =\n",
              "          await google.colab.kernel.invokeFunction('convertToInteractive',\n",
              "                                                    [key], {});\n",
              "        if (!dataTable) return;\n",
              "\n",
              "        const docLinkHtml = 'Like what you see? Visit the ' +\n",
              "          '<a target=\"_blank\" href=https://colab.research.google.com/notebooks/data_table.ipynb>data table notebook</a>'\n",
              "          + ' to learn more about interactive tables.';\n",
              "        element.innerHTML = '';\n",
              "        dataTable['output_type'] = 'display_data';\n",
              "        await google.colab.output.renderOutput(dataTable, element);\n",
              "        const docLink = document.createElement('div');\n",
              "        docLink.innerHTML = docLinkHtml;\n",
              "        element.appendChild(docLink);\n",
              "      }\n",
              "    </script>\n",
              "  </div>\n",
              "\n",
              "\n",
              "<div id=\"df-c498f026-0cf8-469f-bae6-f515510de34b\">\n",
              "  <button class=\"colab-df-quickchart\" onclick=\"quickchart('df-c498f026-0cf8-469f-bae6-f515510de34b')\"\n",
              "            title=\"Suggest charts\"\n",
              "            style=\"display:none;\">\n",
              "\n",
              "<svg xmlns=\"http://www.w3.org/2000/svg\" height=\"24px\"viewBox=\"0 0 24 24\"\n",
              "     width=\"24px\">\n",
              "    <g>\n",
              "        <path d=\"M19 3H5c-1.1 0-2 .9-2 2v14c0 1.1.9 2 2 2h14c1.1 0 2-.9 2-2V5c0-1.1-.9-2-2-2zM9 17H7v-7h2v7zm4 0h-2V7h2v10zm4 0h-2v-4h2v4z\"/>\n",
              "    </g>\n",
              "</svg>\n",
              "  </button>\n",
              "\n",
              "<style>\n",
              "  .colab-df-quickchart {\n",
              "      --bg-color: #E8F0FE;\n",
              "      --fill-color: #1967D2;\n",
              "      --hover-bg-color: #E2EBFA;\n",
              "      --hover-fill-color: #174EA6;\n",
              "      --disabled-fill-color: #AAA;\n",
              "      --disabled-bg-color: #DDD;\n",
              "  }\n",
              "\n",
              "  [theme=dark] .colab-df-quickchart {\n",
              "      --bg-color: #3B4455;\n",
              "      --fill-color: #D2E3FC;\n",
              "      --hover-bg-color: #434B5C;\n",
              "      --hover-fill-color: #FFFFFF;\n",
              "      --disabled-bg-color: #3B4455;\n",
              "      --disabled-fill-color: #666;\n",
              "  }\n",
              "\n",
              "  .colab-df-quickchart {\n",
              "    background-color: var(--bg-color);\n",
              "    border: none;\n",
              "    border-radius: 50%;\n",
              "    cursor: pointer;\n",
              "    display: none;\n",
              "    fill: var(--fill-color);\n",
              "    height: 32px;\n",
              "    padding: 0;\n",
              "    width: 32px;\n",
              "  }\n",
              "\n",
              "  .colab-df-quickchart:hover {\n",
              "    background-color: var(--hover-bg-color);\n",
              "    box-shadow: 0 1px 2px rgba(60, 64, 67, 0.3), 0 1px 3px 1px rgba(60, 64, 67, 0.15);\n",
              "    fill: var(--button-hover-fill-color);\n",
              "  }\n",
              "\n",
              "  .colab-df-quickchart-complete:disabled,\n",
              "  .colab-df-quickchart-complete:disabled:hover {\n",
              "    background-color: var(--disabled-bg-color);\n",
              "    fill: var(--disabled-fill-color);\n",
              "    box-shadow: none;\n",
              "  }\n",
              "\n",
              "  .colab-df-spinner {\n",
              "    border: 2px solid var(--fill-color);\n",
              "    border-color: transparent;\n",
              "    border-bottom-color: var(--fill-color);\n",
              "    animation:\n",
              "      spin 1s steps(1) infinite;\n",
              "  }\n",
              "\n",
              "  @keyframes spin {\n",
              "    0% {\n",
              "      border-color: transparent;\n",
              "      border-bottom-color: var(--fill-color);\n",
              "      border-left-color: var(--fill-color);\n",
              "    }\n",
              "    20% {\n",
              "      border-color: transparent;\n",
              "      border-left-color: var(--fill-color);\n",
              "      border-top-color: var(--fill-color);\n",
              "    }\n",
              "    30% {\n",
              "      border-color: transparent;\n",
              "      border-left-color: var(--fill-color);\n",
              "      border-top-color: var(--fill-color);\n",
              "      border-right-color: var(--fill-color);\n",
              "    }\n",
              "    40% {\n",
              "      border-color: transparent;\n",
              "      border-right-color: var(--fill-color);\n",
              "      border-top-color: var(--fill-color);\n",
              "    }\n",
              "    60% {\n",
              "      border-color: transparent;\n",
              "      border-right-color: var(--fill-color);\n",
              "    }\n",
              "    80% {\n",
              "      border-color: transparent;\n",
              "      border-right-color: var(--fill-color);\n",
              "      border-bottom-color: var(--fill-color);\n",
              "    }\n",
              "    90% {\n",
              "      border-color: transparent;\n",
              "      border-bottom-color: var(--fill-color);\n",
              "    }\n",
              "  }\n",
              "</style>\n",
              "\n",
              "  <script>\n",
              "    async function quickchart(key) {\n",
              "      const quickchartButtonEl =\n",
              "        document.querySelector('#' + key + ' button');\n",
              "      quickchartButtonEl.disabled = true;  // To prevent multiple clicks.\n",
              "      quickchartButtonEl.classList.add('colab-df-spinner');\n",
              "      try {\n",
              "        const charts = await google.colab.kernel.invokeFunction(\n",
              "            'suggestCharts', [key], {});\n",
              "      } catch (error) {\n",
              "        console.error('Error during call to suggestCharts:', error);\n",
              "      }\n",
              "      quickchartButtonEl.classList.remove('colab-df-spinner');\n",
              "      quickchartButtonEl.classList.add('colab-df-quickchart-complete');\n",
              "    }\n",
              "    (() => {\n",
              "      let quickchartButtonEl =\n",
              "        document.querySelector('#df-c498f026-0cf8-469f-bae6-f515510de34b button');\n",
              "      quickchartButtonEl.style.display =\n",
              "        google.colab.kernel.accessAllowed ? 'block' : 'none';\n",
              "    })();\n",
              "  </script>\n",
              "</div>\n",
              "\n",
              "  <div id=\"id_4003b575-39e7-42a0-9ef9-2eaef143d3d7\">\n",
              "    <style>\n",
              "      .colab-df-generate {\n",
              "        background-color: #E8F0FE;\n",
              "        border: none;\n",
              "        border-radius: 50%;\n",
              "        cursor: pointer;\n",
              "        display: none;\n",
              "        fill: #1967D2;\n",
              "        height: 32px;\n",
              "        padding: 0 0 0 0;\n",
              "        width: 32px;\n",
              "      }\n",
              "\n",
              "      .colab-df-generate:hover {\n",
              "        background-color: #E2EBFA;\n",
              "        box-shadow: 0px 1px 2px rgba(60, 64, 67, 0.3), 0px 1px 3px 1px rgba(60, 64, 67, 0.15);\n",
              "        fill: #174EA6;\n",
              "      }\n",
              "\n",
              "      [theme=dark] .colab-df-generate {\n",
              "        background-color: #3B4455;\n",
              "        fill: #D2E3FC;\n",
              "      }\n",
              "\n",
              "      [theme=dark] .colab-df-generate:hover {\n",
              "        background-color: #434B5C;\n",
              "        box-shadow: 0px 1px 3px 1px rgba(0, 0, 0, 0.15);\n",
              "        filter: drop-shadow(0px 1px 2px rgba(0, 0, 0, 0.3));\n",
              "        fill: #FFFFFF;\n",
              "      }\n",
              "    </style>\n",
              "    <button class=\"colab-df-generate\" onclick=\"generateWithVariable('df_features')\"\n",
              "            title=\"Generate code using this dataframe.\"\n",
              "            style=\"display:none;\">\n",
              "\n",
              "  <svg xmlns=\"http://www.w3.org/2000/svg\" height=\"24px\"viewBox=\"0 0 24 24\"\n",
              "       width=\"24px\">\n",
              "    <path d=\"M7,19H8.4L18.45,9,17,7.55,7,17.6ZM5,21V16.75L18.45,3.32a2,2,0,0,1,2.83,0l1.4,1.43a1.91,1.91,0,0,1,.58,1.4,1.91,1.91,0,0,1-.58,1.4L9.25,21ZM18.45,9,17,7.55Zm-12,3A5.31,5.31,0,0,0,4.9,8.1,5.31,5.31,0,0,0,1,6.5,5.31,5.31,0,0,0,4.9,4.9,5.31,5.31,0,0,0,6.5,1,5.31,5.31,0,0,0,8.1,4.9,5.31,5.31,0,0,0,12,6.5,5.46,5.46,0,0,0,6.5,12Z\"/>\n",
              "  </svg>\n",
              "    </button>\n",
              "    <script>\n",
              "      (() => {\n",
              "      const buttonEl =\n",
              "        document.querySelector('#id_4003b575-39e7-42a0-9ef9-2eaef143d3d7 button.colab-df-generate');\n",
              "      buttonEl.style.display =\n",
              "        google.colab.kernel.accessAllowed ? 'block' : 'none';\n",
              "\n",
              "      buttonEl.onclick = () => {\n",
              "        google.colab.notebook.generateWithVariable('df_features');\n",
              "      }\n",
              "      })();\n",
              "    </script>\n",
              "  </div>\n",
              "\n",
              "    </div>\n",
              "  </div>\n"
            ],
            "application/vnd.google.colaboratory.intrinsic+json": {
              "type": "dataframe",
              "variable_name": "df_features",
              "summary": "{\n  \"name\": \"df_features\",\n  \"rows\": 4760,\n  \"fields\": [\n    {\n      \"column\": \"Movie_Genre\",\n      \"properties\": {\n        \"dtype\": \"category\",\n        \"num_unique_values\": 1164,\n        \"samples\": [\n          \"Family Animation Adventure\",\n          \"Adventure Science Fiction Action\",\n          \"Action Crime Drama Romance Thriller\"\n        ],\n        \"semantic_type\": \"\",\n        \"description\": \"\"\n      }\n    },\n    {\n      \"column\": \"Movie_Keywords\",\n      \"properties\": {\n        \"dtype\": \"string\",\n        \"num_unique_values\": 4203,\n        \"samples\": [\n          \"canada nazis sequel spin off ancient evil\",\n          \"sex professor wedding woman director columbia university\",\n          \"prophecy sea beach gold small town\"\n        ],\n        \"semantic_type\": \"\",\n        \"description\": \"\"\n      }\n    },\n    {\n      \"column\": \"Movie_Tagline\",\n      \"properties\": {\n        \"dtype\": \"string\",\n        \"num_unique_values\": 3928,\n        \"samples\": [\n          \"The messenger must be silenced.\",\n          \"It's not the house that's haunted.\",\n          \"The final hunt begins.\"\n        ],\n        \"semantic_type\": \"\",\n        \"description\": \"\"\n      }\n    },\n    {\n      \"column\": \"Movie_Cast\",\n      \"properties\": {\n        \"dtype\": \"string\",\n        \"num_unique_values\": 4715,\n        \"samples\": [\n          \"Robin Tunney Fairuza Balk Neve Campbell Rachel True Skeet Ulrich\",\n          \"Peter Sellers Christopher Plummer Herbert Lom Catherine Schell Peter Arne\",\n          \"John Wayne Laraine Day Cedric Hardwicke Judith Anderson Anthony Quinn\"\n        ],\n        \"semantic_type\": \"\",\n        \"description\": \"\"\n      }\n    },\n    {\n      \"column\": \"Movie_Director\",\n      \"properties\": {\n        \"dtype\": \"category\",\n        \"num_unique_values\": 2332,\n        \"samples\": [\n          \"Rob McKittrick\",\n          \"Terron R. Parsons\",\n          \"Cyrus Nowrasteh\"\n        ],\n        \"semantic_type\": \"\",\n        \"description\": \"\"\n      }\n    }\n  ]\n}"
            }
          },
          "metadata": {},
          "execution_count": 11
        }
      ]
    },
    {
      "cell_type": "code",
      "source": [
        "x=df_features['Movie_Genre'] + ' ' + df_features['Movie_Keywords'] + ' ' + df_features['Movie_Tagline'] + ' ' + df_features['Movie_Cast'] + ' ' + df_features['Movie_Director']"
      ],
      "metadata": {
        "id": "NdP4LUImVrPt"
      },
      "execution_count": null,
      "outputs": []
    },
    {
      "cell_type": "code",
      "source": [
        "x"
      ],
      "metadata": {
        "colab": {
          "base_uri": "https://localhost:8080/",
          "height": 458
        },
        "id": "ra3Drs_VVrSJ",
        "outputId": "6d5d2fbb-a528-48c6-bade-8665e4f03797"
      },
      "execution_count": null,
      "outputs": [
        {
          "output_type": "execute_result",
          "data": {
            "text/plain": [
              "0       Crime Comedy hotel new year's eve witch bet ho...\n",
              "1       Adventure Action Science Fiction android galax...\n",
              "2       Animation Family father son relationship harbo...\n",
              "3       Comedy Drama Romance vietnam veteran hippie me...\n",
              "4       Drama male nudity female nudity adultery midli...\n",
              "                              ...                        \n",
              "4755    Horror  The hot spot where Satan's waitin'. Li...\n",
              "4756    Comedy Family Drama  It’s better to stand out ...\n",
              "4757    Thriller Drama christian film sex trafficking ...\n",
              "4758                                           Family    \n",
              "4759    Documentary music actors legendary perfomer cl...\n",
              "Length: 4760, dtype: object"
            ],
            "text/html": [
              "<div>\n",
              "<style scoped>\n",
              "    .dataframe tbody tr th:only-of-type {\n",
              "        vertical-align: middle;\n",
              "    }\n",
              "\n",
              "    .dataframe tbody tr th {\n",
              "        vertical-align: top;\n",
              "    }\n",
              "\n",
              "    .dataframe thead th {\n",
              "        text-align: right;\n",
              "    }\n",
              "</style>\n",
              "<table border=\"1\" class=\"dataframe\">\n",
              "  <thead>\n",
              "    <tr style=\"text-align: right;\">\n",
              "      <th></th>\n",
              "      <th>0</th>\n",
              "    </tr>\n",
              "  </thead>\n",
              "  <tbody>\n",
              "    <tr>\n",
              "      <th>0</th>\n",
              "      <td>Crime Comedy hotel new year's eve witch bet ho...</td>\n",
              "    </tr>\n",
              "    <tr>\n",
              "      <th>1</th>\n",
              "      <td>Adventure Action Science Fiction android galax...</td>\n",
              "    </tr>\n",
              "    <tr>\n",
              "      <th>2</th>\n",
              "      <td>Animation Family father son relationship harbo...</td>\n",
              "    </tr>\n",
              "    <tr>\n",
              "      <th>3</th>\n",
              "      <td>Comedy Drama Romance vietnam veteran hippie me...</td>\n",
              "    </tr>\n",
              "    <tr>\n",
              "      <th>4</th>\n",
              "      <td>Drama male nudity female nudity adultery midli...</td>\n",
              "    </tr>\n",
              "    <tr>\n",
              "      <th>...</th>\n",
              "      <td>...</td>\n",
              "    </tr>\n",
              "    <tr>\n",
              "      <th>4755</th>\n",
              "      <td>Horror  The hot spot where Satan's waitin'. Li...</td>\n",
              "    </tr>\n",
              "    <tr>\n",
              "      <th>4756</th>\n",
              "      <td>Comedy Family Drama  It’s better to stand out ...</td>\n",
              "    </tr>\n",
              "    <tr>\n",
              "      <th>4757</th>\n",
              "      <td>Thriller Drama christian film sex trafficking ...</td>\n",
              "    </tr>\n",
              "    <tr>\n",
              "      <th>4758</th>\n",
              "      <td>Family</td>\n",
              "    </tr>\n",
              "    <tr>\n",
              "      <th>4759</th>\n",
              "      <td>Documentary music actors legendary perfomer cl...</td>\n",
              "    </tr>\n",
              "  </tbody>\n",
              "</table>\n",
              "<p>4760 rows × 1 columns</p>\n",
              "</div><br><label><b>dtype:</b> object</label>"
            ]
          },
          "metadata": {},
          "execution_count": 13
        }
      ]
    },
    {
      "cell_type": "code",
      "source": [
        "x.shape"
      ],
      "metadata": {
        "colab": {
          "base_uri": "https://localhost:8080/"
        },
        "id": "wUrKR8FOVrVf",
        "outputId": "318e63fe-c3d0-4491-e512-89f7d15526c2"
      },
      "execution_count": null,
      "outputs": [
        {
          "output_type": "execute_result",
          "data": {
            "text/plain": [
              "(4760,)"
            ]
          },
          "metadata": {},
          "execution_count": 14
        }
      ]
    },
    {
      "cell_type": "code",
      "source": [
        "from sklearn.feature_extraction.text import TfidfVectorizer"
      ],
      "metadata": {
        "id": "kG08ynGlVraJ"
      },
      "execution_count": null,
      "outputs": []
    },
    {
      "cell_type": "code",
      "source": [
        "tfidf = TfidfVectorizer()"
      ],
      "metadata": {
        "id": "ZuKT5d5PVrdC"
      },
      "execution_count": null,
      "outputs": []
    },
    {
      "cell_type": "code",
      "source": [
        "X = tfidf.fit_transform(x)"
      ],
      "metadata": {
        "id": "loRe3LbMVrfY"
      },
      "execution_count": null,
      "outputs": []
    },
    {
      "cell_type": "code",
      "source": [
        "X.shape"
      ],
      "metadata": {
        "colab": {
          "base_uri": "https://localhost:8080/"
        },
        "id": "HGDd1zu-Vri7",
        "outputId": "1436389c-83c6-48e0-b12b-26fac2d112e6"
      },
      "execution_count": null,
      "outputs": [
        {
          "output_type": "execute_result",
          "data": {
            "text/plain": [
              "(4760, 17258)"
            ]
          },
          "metadata": {},
          "execution_count": 18
        }
      ]
    },
    {
      "cell_type": "code",
      "source": [
        "print(X)"
      ],
      "metadata": {
        "colab": {
          "base_uri": "https://localhost:8080/"
        },
        "id": "--cKLJ-aV_nB",
        "outputId": "45a1ec31-f460-43af-f6c6-a2b22b329529"
      },
      "execution_count": null,
      "outputs": [
        {
          "output_type": "stream",
          "name": "stdout",
          "text": [
            "  (0, 3583)\t0.06486754376295062\n",
            "  (0, 3240)\t0.04527089872278055\n",
            "  (0, 7213)\t0.25146675849405775\n",
            "  (0, 10898)\t0.17625708810661284\n",
            "  (0, 17052)\t0.26079573581490934\n",
            "  (0, 5059)\t0.29553419178998613\n",
            "  (0, 16862)\t0.12768803549311025\n",
            "  (0, 1595)\t0.15687561633854538\n",
            "  (0, 13052)\t0.1465525095337543\n",
            "  (0, 15708)\t0.17654247479915475\n",
            "  (0, 11362)\t0.18801785343006192\n",
            "  (0, 6463)\t0.18801785343006192\n",
            "  (0, 5662)\t0.1465525095337543\n",
            "  (0, 13467)\t0.19712637387361423\n",
            "  (0, 12731)\t0.19712637387361423\n",
            "  (0, 614)\t0.07642616241686973\n",
            "  (0, 11244)\t0.08262965296941757\n",
            "  (0, 9206)\t0.15186283580984414\n",
            "  (0, 1495)\t0.19712637387361423\n",
            "  (0, 7454)\t0.14745635785412262\n",
            "  (0, 7071)\t0.19822417598406614\n",
            "  (0, 5499)\t0.11454057510303811\n",
            "  (0, 3878)\t0.11998399582562203\n",
            "  (0, 11242)\t0.07277788238484746\n",
            "  (0, 15219)\t0.09800472886453934\n",
            "  :\t:\n",
            "  (4757, 3485)\t0.199161573117024\n",
            "  (4757, 1184)\t0.18890726729447022\n",
            "  (4757, 14568)\t0.24255077606762876\n",
            "  (4757, 15508)\t0.24255077606762876\n",
            "  (4757, 5802)\t0.24255077606762876\n",
            "  (4757, 819)\t0.27474840155297187\n",
            "  (4757, 14195)\t0.28805858134028367\n",
            "  (4757, 2227)\t0.28805858134028367\n",
            "  (4757, 7691)\t0.28805858134028367\n",
            "  (4757, 1932)\t0.28805858134028367\n",
            "  (4758, 5238)\t1.0\n",
            "  (4759, 10666)\t0.15888268987343043\n",
            "  (4759, 1490)\t0.21197258705292082\n",
            "  (4759, 15431)\t0.19628653185946862\n",
            "  (4759, 5690)\t0.19534291014627303\n",
            "  (4759, 14051)\t0.20084315377640435\n",
            "  (4759, 4358)\t0.18306542312175342\n",
            "  (4759, 10761)\t0.3126617295732147\n",
            "  (4759, 7130)\t0.26419662449963793\n",
            "  (4759, 3058)\t0.2812896191863103\n",
            "  (4759, 14062)\t0.3237911628497312\n",
            "  (4759, 8902)\t0.3040290704566037\n",
            "  (4759, 205)\t0.3237911628497312\n",
            "  (4759, 11708)\t0.33947721804318337\n",
            "  (4759, 11264)\t0.33947721804318337\n"
          ]
        }
      ]
    },
    {
      "cell_type": "markdown",
      "source": [
        "# **Get Similarity Score using Cosine Similarity**"
      ],
      "metadata": {
        "id": "Yq-djvYrWF1a"
      }
    },
    {
      "cell_type": "code",
      "source": [
        "from sklearn.metrics.pairwise import cosine_similarity"
      ],
      "metadata": {
        "id": "2Fsf76k1V_pW"
      },
      "execution_count": null,
      "outputs": []
    },
    {
      "cell_type": "code",
      "source": [
        "Similarity_Score = cosine_similarity(X)"
      ],
      "metadata": {
        "id": "_z4y7SkKV_rn"
      },
      "execution_count": null,
      "outputs": []
    },
    {
      "cell_type": "code",
      "source": [
        "Similarity_Score"
      ],
      "metadata": {
        "colab": {
          "base_uri": "https://localhost:8080/"
        },
        "id": "FykHAi-vV_tn",
        "outputId": "87c3caf6-3822-4b30-bbef-9cedf8fd74b5"
      },
      "execution_count": null,
      "outputs": [
        {
          "output_type": "execute_result",
          "data": {
            "text/plain": [
              "array([[1.        , 0.01351235, 0.03570468, ..., 0.        , 0.        ,\n",
              "        0.        ],\n",
              "       [0.01351235, 1.        , 0.00806674, ..., 0.        , 0.        ,\n",
              "        0.        ],\n",
              "       [0.03570468, 0.00806674, 1.        , ..., 0.        , 0.08014876,\n",
              "        0.        ],\n",
              "       ...,\n",
              "       [0.        , 0.        , 0.        , ..., 1.        , 0.        ,\n",
              "        0.        ],\n",
              "       [0.        , 0.        , 0.08014876, ..., 0.        , 1.        ,\n",
              "        0.        ],\n",
              "       [0.        , 0.        , 0.        , ..., 0.        , 0.        ,\n",
              "        1.        ]])"
            ]
          },
          "metadata": {},
          "execution_count": 22
        }
      ]
    },
    {
      "cell_type": "code",
      "source": [
        "Similarity_Score.shape"
      ],
      "metadata": {
        "colab": {
          "base_uri": "https://localhost:8080/"
        },
        "id": "lqKvS3ZgV_vu",
        "outputId": "310748b3-06b7-44e0-fc10-1bd9bb3c0ab7"
      },
      "execution_count": null,
      "outputs": [
        {
          "output_type": "execute_result",
          "data": {
            "text/plain": [
              "(4760, 4760)"
            ]
          },
          "metadata": {},
          "execution_count": 23
        }
      ]
    },
    {
      "cell_type": "markdown",
      "source": [
        "# **Get Movie Name as Input from User and Validate for Closest Spelling**"
      ],
      "metadata": {
        "id": "mqx-eYpJWXPT"
      }
    },
    {
      "cell_type": "code",
      "source": [
        "Favorite_Movie_Name = input(' Enter your favorite movie name : ')"
      ],
      "metadata": {
        "colab": {
          "base_uri": "https://localhost:8080/"
        },
        "id": "P_0YBDivV_x6",
        "outputId": "434b1205-a276-47ca-ebce-736dbd6c9d07"
      },
      "execution_count": null,
      "outputs": [
        {
          "name": "stdout",
          "output_type": "stream",
          "text": [
            " Enter your favorite movie name : American Beauty\n"
          ]
        }
      ]
    },
    {
      "cell_type": "code",
      "source": [
        "All_Movies_Title_List = df['Movie_Title'].tolist()"
      ],
      "metadata": {
        "id": "VIFQ6j9IV_zj"
      },
      "execution_count": null,
      "outputs": []
    },
    {
      "cell_type": "code",
      "source": [
        "import difflib"
      ],
      "metadata": {
        "id": "ngmsPXigV_23"
      },
      "execution_count": null,
      "outputs": []
    },
    {
      "cell_type": "code",
      "source": [
        "Movie_Recommendation = difflib.get_close_matches(Favorite_Movie_Name, All_Movies_Title_List)\n",
        "print(Movie_Recommendation)"
      ],
      "metadata": {
        "colab": {
          "base_uri": "https://localhost:8080/"
        },
        "id": "9G4VgCmAWpQL",
        "outputId": "19409886-ff60-4ac8-885b-255564764354"
      },
      "execution_count": null,
      "outputs": [
        {
          "output_type": "stream",
          "name": "stdout",
          "text": [
            "['American Beauty', 'American Beast', 'American Heist']\n"
          ]
        }
      ]
    },
    {
      "cell_type": "code",
      "source": [
        "Close_Match = Movie_Recommendation[0]\n",
        "print(Close_Match)"
      ],
      "metadata": {
        "colab": {
          "base_uri": "https://localhost:8080/"
        },
        "id": "xyCILQJBWpSU",
        "outputId": "6c2bfbeb-4274-4e50-e372-3b49a3b35829"
      },
      "execution_count": null,
      "outputs": [
        {
          "output_type": "stream",
          "name": "stdout",
          "text": [
            "American Beauty\n"
          ]
        }
      ]
    },
    {
      "cell_type": "code",
      "source": [
        "Index_of_Close_Match_Movie = df[df.Movie_Title == Close_Match]['Movie_ID'].values[0]\n",
        "print(Index_of_Close_Match_Movie)"
      ],
      "metadata": {
        "colab": {
          "base_uri": "https://localhost:8080/"
        },
        "id": "W2ocs-AjWpUd",
        "outputId": "eadd4eb1-adb4-43b9-91dc-ce9b395b8717"
      },
      "execution_count": null,
      "outputs": [
        {
          "output_type": "stream",
          "name": "stdout",
          "text": [
            "5\n"
          ]
        }
      ]
    },
    {
      "cell_type": "code",
      "source": [
        "# getting a list of similar movies\n",
        "Recommendation_Score = list(enumerate(Similarity_Score[Index_of_Close_Match_Movie]))\n",
        "print(Recommendation_Score)"
      ],
      "metadata": {
        "colab": {
          "base_uri": "https://localhost:8080/"
        },
        "id": "Twuf50kDWpWy",
        "outputId": "b420ed20-3808-4155-f3de-33a4d6f8c626"
      },
      "execution_count": null,
      "outputs": [
        {
          "output_type": "stream",
          "name": "stdout",
          "text": [
            "[(0, 0.00587261476331117), (1, 0.014798802030248788), (2, 0.0), (3, 0.051991101182556704), (4, 0.0030907834083147806), (5, 1.0000000000000002), (6, 0.0), (7, 0.033098270930275266), (8, 0.003181298470234406), (9, 0.008007861686693426), (10, 0.021119521548410902), (11, 0.029151519581503006), (12, 0.0031281756116451507), (13, 0.0), (14, 0.039865931000102474), (15, 0.012390521250965283), (16, 0.002441559415285774), (17, 0.0), (18, 0.05041567800294472), (19, 0.002826289701550506), (20, 0.0639823697751402), (21, 0.011871390607326737), (22, 0.0), (23, 0.054730982878127866), (24, 0.001913223738954845), (25, 0.05132948307271069), (26, 0.028306705099380432), (27, 0.0), (28, 0.02639892672416919), (29, 0.002789561729610087), (30, 0.04203136500225513), (31, 0.0027549494714499373), (32, 0.0025688462164857235), (33, 0.011871706049625768), (34, 0.013978386758133055), (35, 0.0), (36, 0.0), (37, 0.0), (38, 0.009338796541247215), (39, 0.0), (40, 0.009166740332730614), (41, 0.0032595250316035692), (42, 0.01720986637149586), (43, 0.02539713407385111), (44, 0.01118234688219681), (45, 0.008212675026080637), (46, 0.0), (47, 0.007253356602653081), (48, 0.012231783824068698), (49, 0.008387616611658601), (50, 0.03458541865944816), (51, 0.011679693364116785), (52, 0.028931576350254846), (53, 0.09834463063047184), (54, 0.02561381166639335), (55, 0.017312155363243174), (56, 0.01686891120336946), (57, 0.0), (58, 0.007255738881815629), (59, 0.08851375533574954), (60, 0.002505827873611717), (61, 0.013262557079257383), (62, 0.003234140900933322), (63, 0.002331355479759503), (64, 0.007247539174537346), (65, 0.0), (66, 0.011560099974784733), (67, 0.0), (68, 0.020439935540988663), (69, 0.0), (70, 0.020426847015266723), (71, 0.003000999925685469), (72, 0.03227560284098183), (73, 0.0528185072939865), (74, 0.046012175151584706), (75, 0.007268073184721193), (76, 0.020579547434147444), (77, 0.0), (78, 0.0), (79, 0.019436872361486775), (80, 0.0), (81, 0.008096594790063834), (82, 0.00222293122607462), (83, 0.03372403219744964), (84, 0.04776099764261722), (85, 0.010679419651813767), (86, 0.007027813243804151), (87, 0.01071645034294507), (88, 0.0154037188372537), (89, 0.00921386083938455), (90, 0.01138841776521692), (91, 0.0), (92, 0.06138099023925915), (93, 0.0), (94, 0.0), (95, 0.0), (96, 0.0605853762397138), (97, 0.06172971303721913), (98, 0.05993495463924576), (99, 0.0161517895888657), (100, 0.0), (101, 0.0), (102, 0.0), (103, 0.0025372194206669495), (104, 0.0029478222404465274), (105, 0.036023750278429245), (106, 0.015206712889945644), (107, 0.003322339367046667), (108, 0.007898126987266094), (109, 0.02968679319413762), (110, 0.0), (111, 0.038513706910497394), (112, 0.010687439494328675), (113, 0.02959577521465848), (114, 0.019478273015007843), (115, 0.0810133155674648), (116, 0.00276471242211363), (117, 0.1070586667014112), (118, 0.0), (119, 0.019128980925922127), (120, 0.011448898741693535), (121, 0.06492515192869362), (122, 0.017203853382914507), (123, 0.021086069153309833), (124, 0.018038084841327552), (125, 0.0), (126, 0.030295333153078967), (127, 0.02917554624389309), (128, 0.0), (129, 0.0020455496365541113), (130, 0.0), (131, 0.008767068525912365), (132, 0.002597056933052898), (133, 0.0114935778071857), (134, 0.01688652513589748), (135, 0.01163612340277331), (136, 0.0027051087349641706), (137, 0.017322421100641413), (138, 0.007846350179369518), (139, 0.009168576270621752), (140, 0.002743987392534079), (141, 0.027578050785576767), (142, 0.015945636460853035), (143, 0.008572379468110052), (144, 0.0077657867557605785), (145, 0.016661143466806902), (146, 0.017871761932874985), (147, 0.009604276907138574), (148, 0.01798407275911766), (149, 0.017841284862093337), (150, 0.0), (151, 0.0), (152, 0.0), (153, 0.013687901755294085), (154, 0.002749641914107577), (155, 0.01937180233451674), (156, 0.0023796609243628103), (157, 0.0027898705116993685), (158, 0.0026276233778140005), (159, 0.0022926398689762156), (160, 0.00962798775387757), (161, 0.020879301796246662), (162, 0.008975395596232784), (163, 0.0), (164, 0.04247696434364334), (165, 0.002532292029459401), (166, 0.05264220703642698), (167, 0.002829904228739932), (168, 0.0), (169, 0.002878049335038529), (170, 0.01795621820927303), (171, 0.0), (172, 0.01113633149322165), (173, 0.011634558202421597), (174, 0.019258816127705754), (175, 0.03769439618895211), (176, 0.014976898005371702), (177, 0.009928125822565413), (178, 0.0030815415002194836), (179, 0.0), (180, 0.03742388811277312), (181, 0.04290562040980764), (182, 0.013540525496427635), (183, 0.05610053557740391), (184, 0.04572149966227531), (185, 0.0), (186, 0.0), (187, 0.029254002927778657), (188, 0.04528759510782297), (189, 0.010877406016543882), (190, 0.0450677444361461), (191, 0.007720739985483521), (192, 0.07100327127778379), (193, 0.09790211808987379), (194, 0.002350271838559246), (195, 0.025838077178384114), (196, 0.01699708782787604), (197, 0.057757953081107385), (198, 0.09687408774728139), (199, 0.01012218166360184), (200, 0.0025883735317707816), (201, 0.008525896534351117), (202, 0.007600244756389828), (203, 0.0027717179660145196), (204, 0.09288191638443813), (205, 0.03669515479097453), (206, 0.09831919740260645), (207, 0.00923018083871265), (208, 0.0031099603238923957), (209, 0.011201693094361056), (210, 0.044113443830359866), (211, 0.030239321468804557), (212, 0.0027414019940202633), (213, 0.0513240197116603), (214, 0.0), (215, 0.05235700345951524), (216, 0.03401145657551796), (217, 0.0732687543393516), (218, 0.0026743421203622273), (219, 0.01685754468832223), (220, 0.0), (221, 0.05077073825174379), (222, 0.0025782792532524634), (223, 0.0), (224, 0.00849346358320735), (225, 0.0), (226, 0.07063143276815317), (227, 0.012378594434459511), (228, 0.011038785478657878), (229, 0.013588612386372455), (230, 0.0), (231, 0.0), (232, 0.0), (233, 0.0), (234, 0.0), (235, 0.0033063522716559593), (236, 0.010427467113139455), (237, 0.039742431875325314), (238, 0.002987708887838799), (239, 0.023022590688509908), (240, 0.01773216682065956), (241, 0.0), (242, 0.01002834055199231), (243, 0.035101606460067214), (244, 0.018270023055477758), (245, 0.0), (246, 0.030766552424621), (247, 0.0028963743113847745), (248, 0.009717443181815295), (249, 0.02533587709838619), (250, 0.0), (251, 0.009514801001933899), (252, 0.002594752389653225), (253, 0.030653624895538963), (254, 0.012235723703583896), (255, 0.0030674936609811697), (256, 0.039683304160885745), (257, 0.014465665061784748), (258, 0.0), (259, 0.00860381646326923), (260, 0.0), (261, 0.0), (262, 0.03873133747826553), (263, 0.0), (264, 0.0), (265, 0.0), (266, 0.0022539205042466414), (267, 0.0024824378065507885), (268, 0.00261267375494709), (269, 0.0025135625383927913), (270, 0.0316455907144068), (271, 0.014913562943720106), (272, 0.0), (273, 0.0), (274, 0.012746339066493903), (275, 0.0), (276, 0.010467132266068956), (277, 0.03566512585178935), (278, 0.0025229241785785406), (279, 0.002742317136041297), (280, 0.011072106153469988), (281, 0.012532047751535007), (282, 0.01093635215448617), (283, 0.03031490970332031), (284, 0.0), (285, 0.025025277769560948), (286, 0.0025137128137117304), (287, 0.010416397519089531), (288, 0.0073487757920832515), (289, 0.0), (290, 0.0), (291, 0.017023215343489228), (292, 0.0028420804222144278), (293, 0.0020828319819316413), (294, 0.01525357762553101), (295, 0.013511701738826695), (296, 0.002195469690557926), (297, 0.0), (298, 0.0), (299, 0.011644260389490334), (300, 0.0), (301, 0.012319412389426583), (302, 0.015729870850457416), (303, 0.0), (304, 0.02690236074620536), (305, 0.0), (306, 0.007972834352814413), (307, 0.002747695681583238), (308, 0.0032756700458405857), (309, 0.009212554270823984), (310, 0.0), (311, 0.018601320077957784), (312, 0.0), (313, 0.0), (314, 0.007253878133614821), (315, 0.008679978444699856), (316, 0.0), (317, 0.03290906342982372), (318, 0.0032012662108481553), (319, 0.013544510602313422), (320, 0.0), (321, 0.029466199389080516), (322, 0.008521078864646807), (323, 0.019415367797801033), (324, 0.010675577532397602), (325, 0.010945260932714418), (326, 0.003587408025924383), (327, 0.0), (328, 0.0), (329, 0.028887809910595412), (330, 0.019451224953814898), (331, 0.0), (332, 0.0), (333, 0.014965658919817803), (334, 0.04567881287492419), (335, 0.08055162922242354), (336, 0.0), (337, 0.0), (338, 0.00789489655412627), (339, 0.0), (340, 0.012513037566459962), (341, 0.0), (342, 0.012093133341712086), (343, 0.02914961834704074), (344, 0.026407037685397355), (345, 0.032254279817866924), (346, 0.0029107720306230747), (347, 0.0), (348, 0.002899788093913127), (349, 0.039924756792408624), (350, 0.003189044702276033), (351, 0.0022348973960319716), (352, 0.0), (353, 0.002975103460419457), (354, 0.010657728212545592), (355, 0.0027011202321563215), (356, 0.002794158446459186), (357, 0.017462454500463624), (358, 0.018962858246358644), (359, 0.002688262210965001), (360, 0.027015667776014756), (361, 0.0), (362, 0.0), (363, 0.0), (364, 0.002520117148571046), (365, 0.0), (366, 0.020568450022924498), (367, 0.007828397051968257), (368, 0.009808936107722361), (369, 0.006254083243179482), (370, 0.01108314941661568), (371, 0.0032234038985637296), (372, 0.0027293859566712955), (373, 0.03410869054302112), (374, 0.014380540219559899), (375, 0.010380961757021141), (376, 0.02450897529199371), (377, 0.044576073906104824), (378, 0.0029418749160268366), (379, 0.01072524184868071), (380, 0.013379138033755865), (381, 0.02706454547764088), (382, 0.025950735421649447), (383, 0.014766310811302205), (384, 0.009182634447013392), (385, 0.018625569468136174), (386, 0.0), (387, 0.0027627026878690943), (388, 0.012681397718365895), (389, 0.0), (390, 0.0), (391, 0.02779862554894081), (392, 0.023056041540440612), (393, 0.0), (394, 0.007395183785496407), (395, 0.014412683274416185), (396, 0.010667809685970529), (397, 0.019208247133684783), (398, 0.016645384664087853), (399, 0.026806884497428424), (400, 0.002902433696189967), (401, 0.03358450592317135), (402, 0.00357102925926043), (403, 0.024520988695051642), (404, 0.0), (405, 0.009276816797640789), (406, 0.0029886958706491352), (407, 0.01169486814597669), (408, 0.02042671941839041), (409, 0.0), (410, 0.010775860361528906), (411, 0.0), (412, 0.02813786211144816), (413, 0.0), (414, 0.016299428680913143), (415, 0.0), (416, 0.041693663438259754), (417, 0.007590545269620717), (418, 0.030865199945605028), (419, 0.035076126182355956), (420, 0.0), (421, 0.0), (422, 0.027570281187136503), (423, 0.011559067053135896), (424, 0.0), (425, 0.0), (426, 0.0), (427, 0.010075329138769325), (428, 0.013159237120343906), (429, 0.011634284511331337), (430, 0.01568797752595581), (431, 0.017189208502478442), (432, 0.0024920310733500583), (433, 0.019001044107847913), (434, 0.056375090810300704), (435, 0.006626286476260609), (436, 0.003277416611255384), (437, 0.002779530941551202), (438, 0.008587166205629842), (439, 0.020180038981139486), (440, 0.021064831645504295), (441, 0.002420694361777702), (442, 0.0024289205321253115), (443, 0.01553754829294012), (444, 0.021682419882150722), (445, 0.01890781345896247), (446, 0.002857583044584856), (447, 0.0314196182553607), (448, 0.003381168819232414), (449, 0.0026493185716959917), (450, 0.0303613888863361), (451, 0.008690742724391784), (452, 0.036631582064792306), (453, 0.0022399620507120447), (454, 0.0), (455, 0.0020786578715515816), (456, 0.012271703680868128), (457, 0.04463919904909993), (458, 0.025381535884679694), (459, 0.0), (460, 0.0), (461, 0.009677175610472813), (462, 0.0), (463, 0.018307894551141013), (464, 0.01144892544007182), (465, 0.026411944024002987), (466, 0.011451181364590304), (467, 0.0), (468, 0.02433069451984068), (469, 0.02084355775436172), (470, 0.014168000300821056), (471, 0.0027355705624335087), (472, 0.011924417603080727), (473, 0.00265018799996459), (474, 0.031393190200134084), (475, 0.01917482203158725), (476, 0.05057641999238512), (477, 0.0), (478, 0.02206637866531913), (479, 0.011088023117973175), (480, 0.002570480247003558), (481, 0.02349582709047899), (482, 0.003057548280896235), (483, 0.024017338707940098), (484, 0.0), (485, 0.021169919007890236), (486, 0.03327923104736056), (487, 0.03884287994523147), (488, 0.002833397832864144), (489, 0.003504210946327742), (490, 0.0029007117268769526), (491, 0.0), (492, 0.008079122092231128), (493, 0.0031101886093940546), (494, 0.008209314187124893), (495, 0.0025908807747239315), (496, 0.0025009140303643472), (497, 0.017635775460414574), (498, 0.0), (499, 0.0031878929676129996), (500, 0.05293380359496411), (501, 0.015108567136400557), (502, 0.028966857021296075), (503, 0.019278209606463828), (504, 0.002947032260109219), (505, 0.002782806108586099), (506, 0.028770809285795864), (507, 0.0027505581376778498), (508, 0.0224189901059536), (509, 0.030538812823729347), (510, 0.009258493408339338), (511, 0.007880947368821846), (512, 0.030903511106909677), (513, 0.03242693914534766), (514, 0.0), (515, 0.05700686316521811), (516, 0.0), (517, 0.01990849464992142), (518, 0.003434139139302366), (519, 0.002586442585124117), (520, 0.007560874630354816), (521, 0.031831025464106676), (522, 0.0028434998713978647), (523, 0.012242426117888085), (524, 0.021959643221046054), (525, 0.0), (526, 0.003683582933048495), (527, 0.0023190469453787483), (528, 0.00881105395876105), (529, 0.0), (530, 0.029410208335250695), (531, 0.013982825678806057), (532, 0.00758819545254336), (533, 0.012485982051116845), (534, 0.010964180246196479), (535, 0.008538315773417763), (536, 0.0), (537, 0.0), (538, 0.0), (539, 0.007996520662265028), (540, 0.0), (541, 0.06446810294557924), (542, 0.013852764961021), (543, 0.05046625988628828), (544, 0.011265327588359854), (545, 0.007601669851248167), (546, 0.015985833588229865), (547, 0.0756388544120426), (548, 0.023544718664145942), (549, 0.0), (550, 0.0), (551, 0.03737738329458575), (552, 0.011694090346468029), (553, 0.006153864773834884), (554, 0.02105480045932205), (555, 0.017852721212339096), (556, 0.00836479372516204), (557, 0.0), (558, 0.010236552383284301), (559, 0.0), (560, 0.008196515865083583), (561, 0.006381024561831173), (562, 0.0022223355001506472), (563, 0.01824727870008734), (564, 0.00306890886254787), (565, 0.009810882278989096), (566, 0.023181806337637702), (567, 0.0), (568, 0.0), (569, 0.007928802495730474), (570, 0.0), (571, 0.0022585583591287796), (572, 0.026654854864268378), (573, 0.02410955304798425), (574, 0.0), (575, 0.03559033790267256), (576, 0.07883017205541629), (577, 0.007750116792274429), (578, 0.026533033392524878), (579, 0.0029694615283372998), (580, 0.03023091990310969), (581, 0.026835523745137722), (582, 0.0), (583, 0.022864857689111402), (584, 0.011486585199283533), (585, 0.0), (586, 0.0), (587, 0.003221623152726108), (588, 0.02913415443218989), (589, 0.0027148177355195806), (590, 0.0026998561475567446), (591, 0.0), (592, 0.0), (593, 0.002987822524746174), (594, 0.0026182845524699697), (595, 0.0), (596, 0.003282170560103641), (597, 0.0026332381852671115), (598, 0.0027293217396993034), (599, 0.0), (600, 0.0), (601, 0.0), (602, 0.0), (603, 0.0), (604, 0.03412240253335977), (605, 0.02206794502883401), (606, 0.061070093794308715), (607, 0.002257235757464943), (608, 0.0026553547100021868), (609, 0.009190113069422624), (610, 0.0), (611, 0.00470639005295663), (612, 0.01229765100418561), (613, 0.018408350812856647), (614, 0.00336097776520951), (615, 0.0), (616, 0.016216677703747864), (617, 0.029423350963058502), (618, 0.0), (619, 0.03319671298509278), (620, 0.0028135177600278837), (621, 0.0474897931397351), (622, 0.04256077976851931), (623, 0.003111179960548176), (624, 0.17284885497195412), (625, 0.0), (626, 0.012352049966538228), (627, 0.003966554872352831), (628, 0.0029534154310158316), (629, 0.08921421381514216), (630, 0.0), (631, 0.003011903593413782), (632, 0.034345584030086536), (633, 0.0), (634, 0.0), (635, 0.0), (636, 0.00295838939124069), (637, 0.011994387122441599), (638, 0.0647355548990956), (639, 0.0), (640, 0.0072442024698020045), (641, 0.024955879858945863), (642, 0.010004711551241817), (643, 0.010757293734700833), (644, 0.0027827373581553534), (645, 0.00946006893793297), (646, 0.07841542084148816), (647, 0.011786485612235631), (648, 0.0), (649, 0.015702328162124444), (650, 0.0), (651, 0.027930725632666114), (652, 0.011354753318585072), (653, 0.009658577415655869), (654, 0.008612816300471525), (655, 0.03043425793662662), (656, 0.009091101645017512), (657, 0.017280671837709018), (658, 0.01757422752092081), (659, 0.03600691134709896), (660, 0.0030599185259510557), (661, 0.0), (662, 0.024454116205898185), (663, 0.02412358758824693), (664, 0.007325127940611164), (665, 0.0203448165739447), (666, 0.0), (667, 0.03995335604557463), (668, 0.006465026705306106), (669, 0.02545902877825703), (670, 0.0036100657528758606), (671, 0.0), (672, 0.0026120859101890414), (673, 0.02482322470249808), (674, 0.0), (675, 0.012106183850918868), (676, 0.01076228786160182), (677, 0.01151162339907836), (678, 0.008908634195965237), (679, 0.009972803260309545), (680, 0.0031152914800404246), (681, 0.0), (682, 0.009190594958480878), (683, 0.012532361866317182), (684, 0.020275660890313324), (685, 0.030643058895990827), (686, 0.0), (687, 0.031302944524438485), (688, 0.02446706818548213), (689, 0.011519165228547743), (690, 0.04461944286529379), (691, 0.00236754548349656), (692, 0.06516906630207421), (693, 0.00285109445574182), (694, 0.022510144766252262), (695, 0.018253600289125108), (696, 0.011658627795835003), (697, 0.013489563217896652), (698, 0.0027715118560603345), (699, 0.0), (700, 0.0), (701, 0.012391933639568206), (702, 0.008096028686671017), (703, 0.05025753943037661), (704, 0.012592717886692263), (705, 0.02119187175817866), (706, 0.0023266656717557126), (707, 0.016399519573912995), (708, 0.021674789395971956), (709, 0.01449215502602143), (710, 0.008038993813890647), (711, 0.0), (712, 0.010233233138225849), (713, 0.008238480035922948), (714, 0.0), (715, 0.0032324909844870914), (716, 0.0030718025570648736), (717, 0.025689643563470775), (718, 0.025686814084245366), (719, 0.017744041167104943), (720, 0.0), (721, 0.047211854068644955), (722, 0.025192522511231937), (723, 0.018374425434814014), (724, 0.0), (725, 0.0), (726, 0.023254142567763245), (727, 0.0028780101606116697), (728, 0.003159473739941435), (729, 0.01625329073216742), (730, 0.0), (731, 0.002802116449508324), (732, 0.03291237848846514), (733, 0.035268952581731884), (734, 0.002743402387639494), (735, 0.0040000037246168026), (736, 0.0), (737, 0.016439578071213445), (738, 0.014257262403799192), (739, 0.05175288225720699), (740, 0.00777014323079544), (741, 0.0), (742, 0.02357471274448745), (743, 0.02386975021356988), (744, 0.0027090017172629512), (745, 0.007555474974034925), (746, 0.010257519912471522), (747, 0.0), (748, 0.0), (749, 0.002931090125587742), (750, 0.002984328462553961), (751, 0.01267539673846874), (752, 0.0), (753, 0.01950377676981544), (754, 0.0), (755, 0.002846803838980743), (756, 0.00922378040425067), (757, 0.008867418444692325), (758, 0.0), (759, 0.002667067419134325), (760, 0.022734750893309837), (761, 0.0029297642296376237), (762, 0.028908192333174668), (763, 0.01099472347886534), (764, 0.016996872467286754), (765, 0.0), (766, 0.0027104344430962167), (767, 0.010987385650824995), (768, 0.0), (769, 0.02362411961630855), (770, 0.0), (771, 0.02338405077798367), (772, 0.0), (773, 0.03631401155183756), (774, 0.0030352143130415554), (775, 0.0), (776, 0.0), (777, 0.017518085048335668), (778, 0.017050828904083423), (779, 0.0), (780, 0.0), (781, 0.03567489860461309), (782, 0.02776091773274476), (783, 0.003085806648262001), (784, 0.017139907227948687), (785, 0.00865849196201227), (786, 0.0779443235672489), (787, 0.04347711524878203), (788, 0.005379207649142427), (789, 0.0), (790, 0.030495999167797813), (791, 0.014431136312156336), (792, 0.011808580104305641), (793, 0.09735248327661347), (794, 0.03365706220597388), (795, 0.01931713421364884), (796, 0.0024319920472826166), (797, 0.009031017164308501), (798, 0.013909377712164337), (799, 0.010821910304777443), (800, 0.002632976803000221), (801, 0.015412208856419383), (802, 0.009468392847164626), (803, 0.0), (804, 0.013109496905045256), (805, 0.012422221392279487), (806, 0.020386167917230136), (807, 0.03652824580701043), (808, 0.02625251382693572), (809, 0.008883819910093606), (810, 0.017898608143364244), (811, 0.0), (812, 0.036190755403458445), (813, 0.021898656010511032), (814, 0.034680876359444716), (815, 0.002617046346786653), (816, 0.026134088667333404), (817, 0.014104934541583304), (818, 0.03400017622289548), (819, 0.015667878400546523), (820, 0.007643850972563569), (821, 0.015139184620843814), (822, 0.033904035073556486), (823, 0.003376495381232252), (824, 0.01538050534499241), (825, 0.007925558032220344), (826, 0.003124103942500977), (827, 0.015961567527452123), (828, 0.010486655316306841), (829, 0.018147047588069867), (830, 0.026363463309911572), (831, 0.020423509950786435), (832, 0.0029784936634104364), (833, 0.01854712770796539), (834, 0.011551320066753768), (835, 0.011011411758405237), (836, 0.0), (837, 0.008952463839076566), (838, 0.002723865457347313), (839, 0.013157979962113122), (840, 0.04217963319635654), (841, 0.0), (842, 0.009992070833935631), (843, 0.0024089899098979598), (844, 0.0063147767323046364), (845, 0.040468327780578225), (846, 0.008860666822227992), (847, 0.061277600186148355), (848, 0.041555043952663524), (849, 0.0668464788660891), (850, 0.014838351411166729), (851, 0.009724993530600717), (852, 0.002802124837831286), (853, 0.021964304474332653), (854, 0.03952231011774016), (855, 0.013297764206572645), (856, 0.04074132083212212), (857, 0.0032348039158445543), (858, 0.001977876272498834), (859, 0.008179688007267136), (860, 0.02635587909847232), (861, 0.0025225191468746847), (862, 0.007119108860832933), (863, 0.047460859519750466), (864, 0.011217328708218068), (865, 0.011893093074441464), (866, 0.038051289235831856), (867, 0.0028869862792365846), (868, 0.0027197681633090933), (869, 0.008378503358652345), (870, 0.010854891612139688), (871, 0.08815569846198817), (872, 0.003136015394725111), (873, 0.011248201785265359), (874, 0.009573346382592718), (875, 0.020497655869350165), (876, 0.012670981615204746), (877, 0.0), (878, 0.010485161560304882), (879, 0.011581633838825687), (880, 0.014366168390330948), (881, 0.0), (882, 0.0), (883, 0.0027982439292663034), (884, 0.03098212254696136), (885, 0.013073514110997678), (886, 0.012593903459538473), (887, 0.03237955583644685), (888, 0.01230340258222927), (889, 0.036082894719689826), (890, 0.003055098499225296), (891, 0.00911518944496985), (892, 0.02569637696912564), (893, 0.0), (894, 0.019568923757428414), (895, 0.010791120643022156), (896, 0.05416740344082522), (897, 0.002951607240329605), (898, 0.007795295803274202), (899, 0.00270029924947045), (900, 0.012560031161671224), (901, 0.028527107036171978), (902, 0.0), (903, 0.002745859533593504), (904, 0.05467534297099474), (905, 0.009453017285589404), (906, 0.016499119683932268), (907, 0.002693843795556959), (908, 0.01718842212750538), (909, 0.016745726790735754), (910, 0.0026815003351632113), (911, 0.0027751985341203517), (912, 0.007609204479793953), (913, 0.0), (914, 0.0), (915, 0.00786336162349815), (916, 0.03245066957896539), (917, 0.0026220207462913196), (918, 0.017411896858571578), (919, 0.0), (920, 0.09252791471272682), (921, 0.0027262789892681253), (922, 0.003286518506984808), (923, 0.0028210092935245625), (924, 0.04049869304098984), (925, 0.003368237575778448), (926, 0.0067492251488620045), (927, 0.01030338931265666), (928, 0.03566099407697014), (929, 0.038958920762024965), (930, 0.02540753877620284), (931, 0.008166160462420656), (932, 0.0), (933, 0.002991655141585153), (934, 0.002669729731402023), (935, 0.002724646270006832), (936, 0.002635719108544608), (937, 0.01296973666090672), (938, 0.008673878209661699), (939, 0.018632701722095895), (940, 0.03929464724061075), (941, 0.00274360791576382), (942, 0.009024848117692975), (943, 0.0), (944, 0.002729197480755242), (945, 0.011792439913260058), (946, 0.05931263398031095), (947, 0.030684487636103028), (948, 0.0102892958000349), (949, 0.003484321748884124), (950, 0.0), (951, 0.034162533812549065), (952, 0.0031665706648416354), (953, 0.00932587266683805), (954, 0.0), (955, 0.013731649047936733), (956, 0.022240589913243333), (957, 0.0026748250879501632), (958, 0.009600918990059897), (959, 0.023250574289663668), (960, 0.0), (961, 0.029152513883807185), (962, 0.01845206328620698), (963, 0.002738208688931469), (964, 0.0), (965, 0.0), (966, 0.0027658046527695695), (967, 0.014831232725056978), (968, 0.0026535377736527986), (969, 0.013711243824012169), (970, 0.0), (971, 0.008906979451798525), (972, 0.03798515264805272), (973, 0.0028860180475711542), (974, 0.009833155726596935), (975, 0.012575728708807712), (976, 0.019684366395389567), (977, 0.0), (978, 0.04435782224957702), (979, 0.009288320664593558), (980, 0.003027537597436787), (981, 0.010427632401469126), (982, 0.03917456232062322), (983, 0.0), (984, 0.01101752590252783), (985, 0.0033509355012343815), (986, 0.011092657403062013), (987, 0.024093275279546064), (988, 0.011026281608097738), (989, 0.03732733363408579), (990, 0.0), (991, 0.026443298988694193), (992, 0.012459285821721067), (993, 0.0029508732465320835), (994, 0.011281429078409611), (995, 0.0), (996, 0.0), (997, 0.0), (998, 0.003320781703619544), (999, 0.003318063875240838), (1000, 0.009984797372632567), (1001, 0.002791875843060773), (1002, 0.002791052117996638), (1003, 0.0), (1004, 0.002625611365851913), (1005, 0.008485120646656023), (1006, 0.0030604011028375236), (1007, 0.0030838549750770742), (1008, 0.0), (1009, 0.010275311506898255), (1010, 0.0), (1011, 0.0), (1012, 0.0), (1013, 0.022934404541747798), (1014, 0.0), (1015, 0.0401062603785966), (1016, 0.0), (1017, 0.010790079944840035), (1018, 0.026053494614228616), (1019, 0.005559485418012377), (1020, 0.0028103660142438564), (1021, 0.0029178559319815436), (1022, 0.025881977582446838), (1023, 0.0032927671800866073), (1024, 0.008511194476702308), (1025, 0.0), (1026, 0.07054814825043954), (1027, 0.0028011192603275624), (1028, 0.02944059214441208), (1029, 0.01102079614976844), (1030, 0.013003417250004878), (1031, 0.0), (1032, 0.023267425442356368), (1033, 0.01865268457812513), (1034, 0.07547506603012445), (1035, 0.0305049393125552), (1036, 0.03544690404008707), (1037, 0.0023829024840022976), (1038, 0.010636391889640882), (1039, 0.015028110443988506), (1040, 0.0022879318553489024), (1041, 0.010872382457684876), (1042, 0.009673679405000185), (1043, 0.021306924867357913), (1044, 0.0225022637973174), (1045, 0.0), (1046, 0.0), (1047, 0.008514077903305935), (1048, 0.0030440545374785565), (1049, 0.0034735117319280623), (1050, 0.00945732911403552), (1051, 0.0), (1052, 0.032942547007362336), (1053, 0.026755212727941), (1054, 0.007716352017957032), (1055, 0.02914672933636025), (1056, 0.012671143116884095), (1057, 0.0), (1058, 0.010016118790705335), (1059, 0.013297392592172285), (1060, 0.0028263061726838865), (1061, 0.01514715561249563), (1062, 0.014470891803438194), (1063, 0.0078956001192601), (1064, 0.013449398300110429), (1065, 0.0026773935716501744), (1066, 0.0), (1067, 0.01001839595391712), (1068, 0.05181605319490794), (1069, 0.0), (1070, 0.0), (1071, 0.06244218074051012), (1072, 0.019311530777614556), (1073, 0.0), (1074, 0.018733245856241764), (1075, 0.0030858423319262765), (1076, 0.044972835384419214), (1077, 0.0029926412551662326), (1078, 0.009244831247259461), (1079, 0.01860894837983593), (1080, 0.03643054219250844), (1081, 0.010714742766492655), (1082, 0.027710128638506137), (1083, 0.0030478451269172297), (1084, 0.06313606227815262), (1085, 0.010708435250320081), (1086, 0.008082341620479907), (1087, 0.0029781086257646603), (1088, 0.0025041068203755304), (1089, 0.0), (1090, 0.00759166283189874), (1091, 0.0), (1092, 0.026225414889140035), (1093, 0.0), (1094, 0.0), (1095, 0.0), (1096, 0.0028498353828103817), (1097, 0.0), (1098, 0.002388695923719624), (1099, 0.0), (1100, 0.002880848733903491), (1101, 0.032030200387214935), (1102, 0.0029073007333183906), (1103, 0.03518763615654491), (1104, 0.008601203700376453), (1105, 0.0), (1106, 0.0), (1107, 0.020101654145658572), (1108, 0.0), (1109, 0.0032481970866512547), (1110, 0.02843655793764634), (1111, 0.0), (1112, 0.0029176164366414518), (1113, 0.0), (1114, 0.0026980965594062475), (1115, 0.013132411348887325), (1116, 0.017824479233533714), (1117, 0.0028140743114343945), (1118, 0.02423372521879063), (1119, 0.021091212496598538), (1120, 0.0), (1121, 0.0036699896566766), (1122, 0.03826347768718754), (1123, 0.018530400180713866), (1124, 0.003036974005710303), (1125, 0.007852679710379302), (1126, 0.0), (1127, 0.0), (1128, 0.05279428346584699), (1129, 0.0), (1130, 0.061745797855679074), (1131, 0.002939105158493312), (1132, 0.018316318637507465), (1133, 0.010481490497017083), (1134, 0.0), (1135, 0.0), (1136, 0.01706007965956871), (1137, 0.02741712990898712), (1138, 0.002963221138610462), (1139, 0.020415466047734747), (1140, 0.036118653577644495), (1141, 0.011863469599218888), (1142, 0.0), (1143, 0.02551737783874582), (1144, 0.0023354570252850015), (1145, 0.004050703014205025), (1146, 0.024276787008157722), (1147, 0.0), (1148, 0.012533911721462584), (1149, 0.0), (1150, 0.01787041111233259), (1151, 0.021764136220408285), (1152, 0.0), (1153, 0.045478350864763734), (1154, 0.0), (1155, 0.0), (1156, 0.03943904235190134), (1157, 0.007939739766941463), (1158, 0.0), (1159, 0.0), (1160, 0.026262907383164183), (1161, 0.0026442811991366855), (1162, 0.008915333521259764), (1163, 0.0029241662354642494), (1164, 0.0), (1165, 0.04469211317133195), (1166, 0.016888897569303358), (1167, 0.01150785219793773), (1168, 0.03474025714295902), (1169, 0.003428373569137064), (1170, 0.002932620415992314), (1171, 0.0), (1172, 0.016588475569331212), (1173, 0.07743458529126529), (1174, 0.0029946544272695702), (1175, 0.06621728223904112), (1176, 0.002990166504484994), (1177, 0.012654308647769286), (1178, 0.0), (1179, 0.002928922942540588), (1180, 0.008060201023008048), (1181, 0.0), (1182, 0.002988709780872891), (1183, 0.010304062040160704), (1184, 0.012664500398904724), (1185, 0.020879146092041286), (1186, 0.010170308890673167), (1187, 0.03294097440336716), (1188, 0.0030746295000474246), (1189, 0.0), (1190, 0.0), (1191, 0.011628373982910886), (1192, 0.00306913489274519), (1193, 0.017321785769011565), (1194, 0.007139720141905422), (1195, 0.012072081461624019), (1196, 0.01157011949664967), (1197, 0.047625836940009755), (1198, 0.0), (1199, 0.002584092822996215), (1200, 0.06563838260595907), (1201, 0.0), (1202, 0.060043012264312925), (1203, 0.0027503929829906302), (1204, 0.0029720939857662285), (1205, 0.023094646384629686), (1206, 0.002738378199182707), (1207, 0.008266949826895936), (1208, 0.003734630677213849), (1209, 0.002441083650700634), (1210, 0.0), (1211, 0.0), (1212, 0.0), (1213, 0.007178425230950586), (1214, 0.006852208640523811), (1215, 0.009914361571420055), (1216, 0.02623390230156658), (1217, 0.0025431344694973406), (1218, 0.0), (1219, 0.010390884061611426), (1220, 0.0026439125251996125), (1221, 0.014388401870091367), (1222, 0.0), (1223, 0.011627493617130608), (1224, 0.0115881244145943), (1225, 0.012219078837596764), (1226, 0.02888617341439182), (1227, 0.0), (1228, 0.0), (1229, 0.012092272382429738), (1230, 0.007843592326019125), (1231, 0.007830646442170984), (1232, 0.0364882707051294), (1233, 0.009066726119344871), (1234, 0.011755345418499142), (1235, 0.0), (1236, 0.022499418300209253), (1237, 0.025117201613387197), (1238, 0.0), (1239, 0.010408658251866579), (1240, 0.0), (1241, 0.0024081356238829336), (1242, 0.0), (1243, 0.032723623264302684), (1244, 0.0), (1245, 0.0028395029273559674), (1246, 0.0), (1247, 0.002829331766522601), (1248, 0.030850215685340045), (1249, 0.024110924683552807), (1250, 0.011870075601771972), (1251, 0.040227924626276994), (1252, 0.010998591026093801), (1253, 0.010357488571331125), (1254, 0.0030022245186449507), (1255, 0.04670874535741801), (1256, 0.00817036682370644), (1257, 0.011413687217297932), (1258, 0.0), (1259, 0.007469040722214899), (1260, 0.009115586192190482), (1261, 0.024282002883757307), (1262, 0.0), (1263, 0.024759695637933916), (1264, 0.01337214490174499), (1265, 0.0), (1266, 0.0), (1267, 0.0), (1268, 0.0), (1269, 0.0), (1270, 0.007933080831715773), (1271, 0.01221914224531285), (1272, 0.020699305308518844), (1273, 0.0027878956182327452), (1274, 0.0), (1275, 0.012809073975397139), (1276, 0.018453173518437612), (1277, 0.0021905671800369507), (1278, 0.0), (1279, 0.025559978584221307), (1280, 0.0), (1281, 0.02876201264752068), (1282, 0.008736304096888746), (1283, 0.03365991613229467), (1284, 0.01127518927905076), (1285, 0.02403795209464039), (1286, 0.0028717668328621087), (1287, 0.0), (1288, 0.0), (1289, 0.0), (1290, 0.01707447575408633), (1291, 0.0), (1292, 0.02432880599927105), (1293, 0.0), (1294, 0.0030071620230378597), (1295, 0.032334200323611666), (1296, 0.007112212008860378), (1297, 0.059763643158592374), (1298, 0.0029131004028761626), (1299, 0.0), (1300, 0.014226916545659262), (1301, 0.0025592059565143956), (1302, 0.0), (1303, 0.00895037795596786), (1304, 0.03759607958930253), (1305, 0.002421710936815255), (1306, 0.027368136612041887), (1307, 0.0), (1308, 0.010626664877863653), (1309, 0.007406001338082536), (1310, 0.014953767488143395), (1311, 0.0), (1312, 0.009774608353662742), (1313, 0.0028865807616841616), (1314, 0.018371787311653235), (1315, 0.029015221714168805), (1316, 0.04462338686378738), (1317, 0.016005607132860977), (1318, 0.010329918467860376), (1319, 0.002873963286439667), (1320, 0.006414878240273827), (1321, 0.0343311565054904), (1322, 0.0), (1323, 0.014202798789669405), (1324, 0.014329488027368501), (1325, 0.012032309523727717), (1326, 0.013525280216491223), (1327, 0.0), (1328, 0.0), (1329, 0.010365573030237754), (1330, 0.016516441717728734), (1331, 0.010674600044893285), (1332, 0.0), (1333, 0.0), (1334, 0.042017966935728575), (1335, 0.019951194065624667), (1336, 0.0), (1337, 0.01132877186842587), (1338, 0.010918471233131038), (1339, 0.02296458056268348), (1340, 0.0615660480299279), (1341, 0.0), (1342, 0.008771437621127545), (1343, 0.009714347258843431), (1344, 0.02209900113302686), (1345, 0.0), (1346, 0.0), (1347, 0.0409778531695555), (1348, 0.0071180365801541915), (1349, 0.003300605311760088), (1350, 0.0028534222953300126), (1351, 0.036768938624794724), (1352, 0.012380956175646768), (1353, 0.027579261225111767), (1354, 0.026708746147783458), (1355, 0.0029997826534079474), (1356, 0.0024793495630807305), (1357, 0.010673998421291589), (1358, 0.0), (1359, 0.03744789749484171), (1360, 0.010103358328036431), (1361, 0.010669991999759834), (1362, 0.023417463986073632), (1363, 0.0), (1364, 0.003041690459409176), (1365, 0.009780919681884381), (1366, 0.0026423834915902606), (1367, 0.04759883419510873), (1368, 0.0), (1369, 0.009085946101812346), (1370, 0.0025258039460963593), (1371, 0.009077463423820169), (1372, 0.0027478889238907738), (1373, 0.0), (1374, 0.0), (1375, 0.013853185582442586), (1376, 0.0), (1377, 0.008954942891564675), (1378, 0.01948110987426891), (1379, 0.01500068728340759), (1380, 0.0), (1381, 0.0), (1382, 0.01195547555088063), (1383, 0.003306710284459061), (1384, 0.007701590360698219), (1385, 0.011115092812061977), (1386, 0.0), (1387, 0.0680107904455853), (1388, 0.008207384481550457), (1389, 0.0), (1390, 0.034342078660378444), (1391, 0.0), (1392, 0.011943633980420178), (1393, 0.00858047291657218), (1394, 0.031526327877962876), (1395, 0.0), (1396, 0.0), (1397, 0.002533180717137332), (1398, 0.016872811171133064), (1399, 0.0), (1400, 0.0030878374223213935), (1401, 0.029793103169862403), (1402, 0.023160424348940393), (1403, 0.0022506454504022605), (1404, 0.0027689959097818625), (1405, 0.007607597179439744), (1406, 0.007986615149872735), (1407, 0.011162725840640963), (1408, 0.023992239612882944), (1409, 0.003133862684072547), (1410, 0.033109393434277684), (1411, 0.01144564554007824), (1412, 0.01601447251889701), (1413, 0.0029729158705136057), (1414, 0.002613322745782908), (1415, 0.0024000240225712337), (1416, 0.01106857438308519), (1417, 0.0086654860296215), (1418, 0.012735464358634199), (1419, 0.029912547792799428), (1420, 0.021616793905254585), (1421, 0.01116611212951325), (1422, 0.0028521533944995204), (1423, 0.002599753848403922), (1424, 0.052928543307840505), (1425, 0.008802989167606896), (1426, 0.0), (1427, 0.002401284764053599), (1428, 0.05016358987753851), (1429, 0.01752227883796043), (1430, 0.009767116514504967), (1431, 0.008860907408975792), (1432, 0.00851216597822359), (1433, 0.002725273762540571), (1434, 0.002674470446525643), (1435, 0.008846898310593286), (1436, 0.02096875633399993), (1437, 0.0), (1438, 0.06097586921277699), (1439, 0.0030671237853642642), (1440, 0.01127250703101591), (1441, 0.0), (1442, 0.005800151526150203), (1443, 0.0), (1444, 0.051745412169588764), (1445, 0.01731114878476992), (1446, 0.002807172684852455), (1447, 0.016304668288102862), (1448, 0.012412564006475599), (1449, 0.0), (1450, 0.024161286779844485), (1451, 0.0), (1452, 0.0), (1453, 0.0), (1454, 0.014754845862846037), (1455, 0.008161872226879219), (1456, 0.010750922286582554), (1457, 0.008058666065957633), (1458, 0.0470443901969034), (1459, 0.008517699816071362), (1460, 0.0), (1461, 0.02878987632786209), (1462, 0.002686841574373397), (1463, 0.07512798298230514), (1464, 0.002399537758209757), (1465, 0.016904085206216), (1466, 0.019314804128180277), (1467, 0.0), (1468, 0.0), (1469, 0.021748533452790743), (1470, 0.025988532450221927), (1471, 0.00823216454249292), (1472, 0.07321265787973677), (1473, 0.03437630231783342), (1474, 0.02170175776123328), (1475, 0.0030537727833991244), (1476, 0.011734825819610578), (1477, 0.0027018933369912616), (1478, 0.010630403658476456), (1479, 0.026254334405247798), (1480, 0.027569781510654416), (1481, 0.010744373590138794), (1482, 0.007563765978449113), (1483, 0.011015027264952907), (1484, 0.025321062345409942), (1485, 0.009476895753532708), (1486, 0.0), (1487, 0.0), (1488, 0.002936694262047533), (1489, 0.04223134570792094), (1490, 0.0), (1491, 0.036028375702843854), (1492, 0.0642305389294209), (1493, 0.01012688130403782), (1494, 0.0030177680258011612), (1495, 0.0), (1496, 0.0), (1497, 0.0033431533817268474), (1498, 0.02167653460841364), (1499, 0.003279165551878916), (1500, 0.002894327342404357), (1501, 0.0), (1502, 0.0), (1503, 0.026230099881653215), (1504, 0.028900487379628168), (1505, 0.021068967328357557), (1506, 0.019124292740772098), (1507, 0.009357950394104364), (1508, 0.011469260954319839), (1509, 0.007583726145978362), (1510, 0.0029572644776883748), (1511, 0.017991282159827763), (1512, 0.0), (1513, 0.011564079123501872), (1514, 0.0027109997508986323), (1515, 0.0), (1516, 0.0030168050219841927), (1517, 0.011594937612956269), (1518, 0.01247457695023625), (1519, 0.0027088390304951153), (1520, 0.0), (1521, 0.010058372138481812), (1522, 0.0), (1523, 0.007392801114778442), (1524, 0.015850437407936513), (1525, 0.0), (1526, 0.0), (1527, 0.027079338042146284), (1528, 0.023816617392704527), (1529, 0.0), (1530, 0.0), (1531, 0.0), (1532, 0.019941496146213215), (1533, 0.04975069553089713), (1534, 0.0443269431435703), (1535, 0.0), (1536, 0.00849768247482022), (1537, 0.012400789610990512), (1538, 0.0026589230989680097), (1539, 0.0026120478411047958), (1540, 0.009546058645043872), (1541, 0.06061016016922217), (1542, 0.025614702053031506), (1543, 0.010671304084699766), (1544, 0.03647955424395278), (1545, 0.010072731225191412), (1546, 0.024907505056422405), (1547, 0.0034117643187720446), (1548, 0.0), (1549, 0.0), (1550, 0.013246231683656092), (1551, 0.03165650012851913), (1552, 0.0), (1553, 0.04955280745889118), (1554, 0.03815443149634065), (1555, 0.0027269911419716152), (1556, 0.0), (1557, 0.008891852452605525), (1558, 0.013549047422952916), (1559, 0.018181714328960576), (1560, 0.0), (1561, 0.01841391968365195), (1562, 0.019458883092677466), (1563, 0.0), (1564, 0.0), (1565, 0.03522023913848677), (1566, 0.02823713405941938), (1567, 0.007402427884181893), (1568, 0.0), (1569, 0.0), (1570, 0.00308069474845587), (1571, 0.009576144448015737), (1572, 0.0205072576150492), (1573, 0.0), (1574, 0.0029560819267853053), (1575, 0.02371656359691777), (1576, 0.0), (1577, 0.06023491457347864), (1578, 0.0), (1579, 0.020402161359527344), (1580, 0.0032324033723873827), (1581, 0.019631261851343944), (1582, 0.02074190093571629), (1583, 0.0), (1584, 0.015130944356548), (1585, 0.01911110371385822), (1586, 0.013206428983501878), (1587, 0.025673539697411756), (1588, 0.0), (1589, 0.030174042924741705), (1590, 0.0), (1591, 0.03460193961325507), (1592, 0.057930469215201674), (1593, 0.003549982541061518), (1594, 0.015040358182971378), (1595, 0.019552069727826655), (1596, 0.03515891345729999), (1597, 0.03620388724550976), (1598, 0.0028916718941819058), (1599, 0.011791467852121207), (1600, 0.0), (1601, 0.0), (1602, 0.0), (1603, 0.0), (1604, 0.0), (1605, 0.017580450952555626), (1606, 0.026211678054671388), (1607, 0.0), (1608, 0.002585669605622638), (1609, 0.0), (1610, 0.00801177823651396), (1611, 0.0), (1612, 0.0029170002770957135), (1613, 0.010925880876777615), (1614, 0.03493295117387936), (1615, 0.0), (1616, 0.01713436975199562), (1617, 0.00285979077736527), (1618, 0.0), (1619, 0.003121745987151477), (1620, 0.010380192138357083), (1621, 0.01094374017226177), (1622, 0.011448163991167664), (1623, 0.0), (1624, 0.015866181824038535), (1625, 0.002634089180671529), (1626, 0.0), (1627, 0.0025040136648033146), (1628, 0.03293086041328987), (1629, 0.011459110466730805), (1630, 0.007753811523601058), (1631, 0.0), (1632, 0.015885508513952203), (1633, 0.0), (1634, 0.011479850355223918), (1635, 0.0), (1636, 0.0), (1637, 0.020914396345604973), (1638, 0.0), (1639, 0.007325627437745379), (1640, 0.0), (1641, 0.002716427318200612), (1642, 0.013489799093205022), (1643, 0.03808945015791165), (1644, 0.0), (1645, 0.012977468785893176), (1646, 0.006962567274510999), (1647, 0.01985858013386975), (1648, 0.0021875887376345275), (1649, 0.008064612441464931), (1650, 0.002716312559944919), (1651, 0.0), (1652, 0.0), (1653, 0.024022781423662105), (1654, 0.018286461935803897), (1655, 0.0035632924285418253), (1656, 0.003358448369462972), (1657, 0.007815337593860707), (1658, 0.0032431624716158566), (1659, 0.0), (1660, 0.03022721379587777), (1661, 0.0), (1662, 0.015441977054552629), (1663, 0.0027596413151113478), (1664, 0.0), (1665, 0.010394086466842227), (1666, 0.0028887313157670963), (1667, 0.010230884886416405), (1668, 0.0), (1669, 0.0), (1670, 0.003083148237582225), (1671, 0.018659474867755474), (1672, 0.002681625801925372), (1673, 0.008055920379054029), (1674, 0.008914278319629489), (1675, 0.002668610141349945), (1676, 0.0), (1677, 0.01592048944289161), (1678, 0.0282455568563084), (1679, 0.023517671927378747), (1680, 0.01008200809510219), (1681, 0.00897160588030622), (1682, 0.010869379186006702), (1683, 0.04958760250288441), (1684, 0.0), (1685, 0.003099275436586199), (1686, 0.0), (1687, 0.011770168353411731), (1688, 0.0029870686319860102), (1689, 0.022772432861532237), (1690, 0.0026392238883177982), (1691, 0.030708941421796834), (1692, 0.0), (1693, 0.023129673725481203), (1694, 0.007255440131483397), (1695, 0.01400806289824088), (1696, 0.0), (1697, 0.0), (1698, 0.007474511509313127), (1699, 0.009088059146639517), (1700, 0.020685687514392974), (1701, 0.009196323126723888), (1702, 0.0), (1703, 0.05683493632657592), (1704, 0.011871638982893302), (1705, 0.008750649994565748), (1706, 0.023440396278339083), (1707, 0.0119873926135272), (1708, 0.0031462450654504304), (1709, 0.0), (1710, 0.018433435789562382), (1711, 0.0036734450813053323), (1712, 0.003131156857678294), (1713, 0.0), (1714, 0.007911569170892082), (1715, 0.0), (1716, 0.012449829764608445), (1717, 0.037104975021020024), (1718, 0.0), (1719, 0.0026437043761768733), (1720, 0.010462107212523957), (1721, 0.015293485357665799), (1722, 0.002958104991616736), (1723, 0.0), (1724, 0.02703427430491464), (1725, 0.0), (1726, 0.022273056622179245), (1727, 0.011542139766431158), (1728, 0.0), (1729, 0.0), (1730, 0.002670634682308488), (1731, 0.0), (1732, 0.0), (1733, 0.003211890370205448), (1734, 0.0), (1735, 0.00842730405454573), (1736, 0.0428491032207031), (1737, 0.00923058614593113), (1738, 0.01881369541872797), (1739, 0.06142014642055685), (1740, 0.011324280114339967), (1741, 0.016664182123989655), (1742, 0.0027697700046483823), (1743, 0.002493414870094272), (1744, 0.011049659900334201), (1745, 0.007406606169383104), (1746, 0.0), (1747, 0.048240757163130074), (1748, 0.0034296419831072876), (1749, 0.0), (1750, 0.009387408502701962), (1751, 0.0), (1752, 0.02663008585918719), (1753, 0.0), (1754, 0.012228900974816567), (1755, 0.0), (1756, 0.04620020165751364), (1757, 0.00852447192229808), (1758, 0.0), (1759, 0.002767804301535859), (1760, 0.002708353948583496), (1761, 0.022180868587684085), (1762, 0.02197647252657688), (1763, 0.016664289720083766), (1764, 0.010040015515231517), (1765, 0.0030296987040185973), (1766, 0.0), (1767, 0.01662526298247144), (1768, 0.011908636582637753), (1769, 0.0), (1770, 0.0), (1771, 0.0), (1772, 0.01010609915727028), (1773, 0.0), (1774, 0.02897695207974772), (1775, 0.010960485584377101), (1776, 0.028891886468371597), (1777, 0.01778015606226401), (1778, 0.0), (1779, 0.01430208375630059), (1780, 0.01884563872891332), (1781, 0.006953094149133779), (1782, 0.04823383256097708), (1783, 0.008142076938563057), (1784, 0.009538196210819895), (1785, 0.0), (1786, 0.0), (1787, 0.008195893535956986), (1788, 0.0), (1789, 0.007545952892502958), (1790, 0.0), (1791, 0.0), (1792, 0.003442471438427815), (1793, 0.01827449053377731), (1794, 0.03498677133533102), (1795, 0.009497867510428566), (1796, 0.01012875160717645), (1797, 0.007164180833000167), (1798, 0.0031447405900439413), (1799, 0.0), (1800, 0.0), (1801, 0.030962442798306834), (1802, 0.01789334531583631), (1803, 0.0), (1804, 0.0), (1805, 0.0031915580532745095), (1806, 0.021635866066112702), (1807, 0.0028733136786543746), (1808, 0.025945550531195363), (1809, 0.0), (1810, 0.0), (1811, 0.00290577227355639), (1812, 0.0), (1813, 0.027219778903433856), (1814, 0.002697187695110287), (1815, 0.009459582577828635), (1816, 0.007366310866468368), (1817, 0.010451515811703931), (1818, 0.008200135964722681), (1819, 0.002729078932563371), (1820, 0.020184802673508844), (1821, 0.011649164588538907), (1822, 0.0030922621692212335), (1823, 0.010775293240823838), (1824, 0.02853650145259442), (1825, 0.0), (1826, 0.002648881425188275), (1827, 0.029471311924620387), (1828, 0.0025276079255532376), (1829, 0.011433728670439416), (1830, 0.031889611485029945), (1831, 0.052143696052991295), (1832, 0.00834594818107077), (1833, 0.012480797445779747), (1834, 0.0), (1835, 0.029603816808614312), (1836, 0.012930796982383712), (1837, 0.0), (1838, 0.01908872199447709), (1839, 0.0), (1840, 0.0157465980627415), (1841, 0.0), (1842, 0.0), (1843, 0.022114465762969892), (1844, 0.0), (1845, 0.009794859259379821), (1846, 0.008429707360706801), (1847, 0.05634182256819155), (1848, 0.035265072026565286), (1849, 0.0), (1850, 0.007463772571637993), (1851, 0.003049679598029657), (1852, 0.016338547189402332), (1853, 0.01175039757663316), (1854, 0.03457109325916501), (1855, 0.0), (1856, 0.0175796029553536), (1857, 0.008518900946876417), (1858, 0.024175193546741747), (1859, 0.0), (1860, 0.003012564624684606), (1861, 0.008414558152357681), (1862, 0.01632393026124697), (1863, 0.009071771448975146), (1864, 0.002817485034259703), (1865, 0.0026574663202569865), (1866, 0.0031986018314956594), (1867, 0.02004762998477231), (1868, 0.0), (1869, 0.013196627205016284), (1870, 0.0), (1871, 0.0023314991537546326), (1872, 0.002962783297012822), (1873, 0.01051447455937684), (1874, 0.011997125180290585), (1875, 0.017869878222141363), (1876, 0.0029461572496685133), (1877, 0.0027952887139345585), (1878, 0.010997666818492534), (1879, 0.0), (1880, 0.0), (1881, 0.017329465990665403), (1882, 0.0028701169148501525), (1883, 0.021436294392804315), (1884, 0.002737952634198796), (1885, 0.0034322926041036378), (1886, 0.0023282942691428598), (1887, 0.0165174699954148), (1888, 0.04279520535604432), (1889, 0.0), (1890, 0.021634816523970313), (1891, 0.011482194124199211), (1892, 0.0026599649637448234), (1893, 0.0030896442148058293), (1894, 0.0), (1895, 0.008151633366478526), (1896, 0.0031075936209915703), (1897, 0.0031761075290626757), (1898, 0.0), (1899, 0.00806705663619561), (1900, 0.0), (1901, 0.0), (1902, 0.012174612461340186), (1903, 0.0), (1904, 0.0), (1905, 0.003193644653993415), (1906, 0.0), (1907, 0.026516546880609563), (1908, 0.0), (1909, 0.0033248947647486877), (1910, 0.0), (1911, 0.0), (1912, 0.01115013354423097), (1913, 0.0189053948883018), (1914, 0.0), (1915, 0.026448342495796452), (1916, 0.003086912453453192), (1917, 0.0), (1918, 0.07094625163838014), (1919, 0.022779032793845105), (1920, 0.05410173252735104), (1921, 0.0026179432968501844), (1922, 0.011206315523088862), (1923, 0.051758176684605875), (1924, 0.003346590166919069), (1925, 0.05314009675032464), (1926, 0.0), (1927, 0.0), (1928, 0.0), (1929, 0.0027925954768147636), (1930, 0.008747680521680335), (1931, 0.0029929462964678726), (1932, 0.008985473975853628), (1933, 0.021157300368739737), (1934, 0.0026155980820703442), (1935, 0.0), (1936, 0.11100897190029746), (1937, 0.016053635865412266), (1938, 0.0), (1939, 0.02193777954631929), (1940, 0.029478088141179887), (1941, 0.0), (1942, 0.011294231615822655), (1943, 0.02710773962308712), (1944, 0.039748203148848575), (1945, 0.008233834478261913), (1946, 0.003010149556184504), (1947, 0.00340056064196695), (1948, 0.0), (1949, 0.008471874763627651), (1950, 0.009460935671683308), (1951, 0.0031079490419372207), (1952, 0.0), (1953, 0.0), (1954, 0.010260261738066868), (1955, 0.0), (1956, 0.021954439907118182), (1957, 0.0), (1958, 0.02600647643119095), (1959, 0.0031687116483871823), (1960, 0.003243328247357058), (1961, 0.0), (1962, 0.0), (1963, 0.027315354007839632), (1964, 0.029460726642525588), (1965, 0.0), (1966, 0.011316430766853541), (1967, 0.010784429570322367), (1968, 0.027279192416129007), (1969, 0.0028269522775461174), (1970, 0.06225319300501565), (1971, 0.0167438739612455), (1972, 0.0), (1973, 0.03574882336032115), (1974, 0.01919890350464364), (1975, 0.0), (1976, 0.0), (1977, 0.002608133124793141), (1978, 0.017074684139877176), (1979, 0.01867806674184549), (1980, 0.002627400417360301), (1981, 0.031003206129129608), (1982, 0.010667239363312604), (1983, 0.03344126870746689), (1984, 0.0), (1985, 0.05419407210768305), (1986, 0.008081700774498343), (1987, 0.015444353783599173), (1988, 0.0), (1989, 0.00891628205695009), (1990, 0.03487105541070044), (1991, 0.0), (1992, 0.01571864368893887), (1993, 0.021148494509164124), (1994, 0.0), (1995, 0.0031498555966044096), (1996, 0.011190235618442453), (1997, 0.02093938229411156), (1998, 0.025410777063495257), (1999, 0.013155484812275828), (2000, 0.02390804138484417), (2001, 0.0), (2002, 0.0), (2003, 0.010147947057727143), (2004, 0.0027531930287708617), (2005, 0.007781007439127512), (2006, 0.0), (2007, 0.007898530904267384), (2008, 0.018961373104572368), (2009, 0.013793539994007974), (2010, 0.002313333583805558), (2011, 0.017694805836284053), (2012, 0.05808456407105719), (2013, 0.006894532100132508), (2014, 0.026888445303204583), (2015, 0.0), (2016, 0.05571658027584617), (2017, 0.0), (2018, 0.0), (2019, 0.011566259554319329), (2020, 0.0), (2021, 0.0), (2022, 0.0068627207085815555), (2023, 0.018149223841552223), (2024, 0.035528725928526794), (2025, 0.007138283094173013), (2026, 0.060081359428623415), (2027, 0.0028256555048381963), (2028, 0.0), (2029, 0.02109304804598628), (2030, 0.0), (2031, 0.002643373072487577), (2032, 0.0), (2033, 0.0), (2034, 0.009542669424859658), (2035, 0.0171430588521137), (2036, 0.0), (2037, 0.012097975286387397), (2038, 0.0), (2039, 0.0024640543087433224), (2040, 0.012264133119634363), (2041, 0.0), (2042, 0.09190487807903303), (2043, 0.007836071379295538), (2044, 0.012370592592453928), (2045, 0.03329258374166843), (2046, 0.0), (2047, 0.010235218538456122), (2048, 0.003015027046916546), (2049, 0.03967722151791658), (2050, 0.0), (2051, 0.003328189165867248), (2052, 0.0), (2053, 0.01146102973144613), (2054, 0.009086287154246595), (2055, 0.010061244122322819), (2056, 0.037095897958795504), (2057, 0.029405998103140936), (2058, 0.0), (2059, 0.0), (2060, 0.02947648239008662), (2061, 0.019748216626432398), (2062, 0.016042916154704875), (2063, 0.0), (2064, 0.020753759362990423), (2065, 0.009973484100827986), (2066, 0.00919287707729484), (2067, 0.002946941128362521), (2068, 0.002783548093582114), (2069, 0.03874486803121904), (2070, 0.016896930805873404), (2071, 0.0), (2072, 0.0030353991765190605), (2073, 0.0029854740992203877), (2074, 0.007639312709471622), (2075, 0.09192927437027046), (2076, 0.009362684626131736), (2077, 0.009966002028584811), (2078, 0.006882080466246034), (2079, 0.023173103380918554), (2080, 0.010725687588902843), (2081, 0.0), (2082, 0.041226432331392365), (2083, 0.07306759288470756), (2084, 0.0), (2085, 0.01094394137294623), (2086, 0.017646205294913616), (2087, 0.01903301973461021), (2088, 0.003069077417879745), (2089, 0.003442091504318577), (2090, 0.0), (2091, 0.0029701012360075383), (2092, 0.0), (2093, 0.050706897013073425), (2094, 0.0), (2095, 0.020962234862507412), (2096, 0.011832364063549282), (2097, 0.012080240120488465), (2098, 0.0), (2099, 0.002737981868461948), (2100, 0.018421486041878585), (2101, 0.0), (2102, 0.040282142933451726), (2103, 0.014192526026102936), (2104, 0.025564482694505182), (2105, 0.0031193026281239036), (2106, 0.0), (2107, 0.0315276041217359), (2108, 0.0032513324034488243), (2109, 0.002952845170108066), (2110, 0.007497733733153162), (2111, 0.002869398792272022), (2112, 0.021803449967250733), (2113, 0.0), (2114, 0.007285098997529008), (2115, 0.0), (2116, 0.003161574361506885), (2117, 0.0028098516365757274), (2118, 0.058242329757033404), (2119, 0.007580690744555338), (2120, 0.008063487961159329), (2121, 0.002788766583423695), (2122, 0.028304211146674356), (2123, 0.0030320435119649877), (2124, 0.027864909114527936), (2125, 0.0), (2126, 0.011448454005475556), (2127, 0.0024591538204808117), (2128, 0.0), (2129, 0.03125712571106975), (2130, 0.020519679512881035), (2131, 0.021217431733294045), (2132, 0.00967655424780747), (2133, 0.002770720325782821), (2134, 0.0032765749477346295), (2135, 0.007891184324455304), (2136, 0.0), (2137, 0.004151810818641354), (2138, 0.0), (2139, 0.0), (2140, 0.0), (2141, 0.0027998984532759588), (2142, 0.0034164345667045035), (2143, 0.026878784262500125), (2144, 0.0029547865044831866), (2145, 0.01468104866664172), (2146, 0.002503387689778889), (2147, 0.009184974307265293), (2148, 0.030865613178758574), (2149, 0.002737009866534213), (2150, 0.0), (2151, 0.003123213639014147), (2152, 0.07494490684474618), (2153, 0.05509091501523734), (2154, 0.01421939059697496), (2155, 0.002980536265557217), (2156, 0.0), (2157, 0.058651290288236416), (2158, 0.05655552349796264), (2159, 0.021458247635940057), (2160, 0.0), (2161, 0.0), (2162, 0.023201371419833035), (2163, 0.010335063891132402), (2164, 0.0), (2165, 0.055669327685833055), (2166, 0.030852137137890333), (2167, 0.0), (2168, 0.0), (2169, 0.0029482645088875392), (2170, 0.010891098325927525), (2171, 0.0), (2172, 0.0), (2173, 0.0028845508934734606), (2174, 0.011003616063194022), (2175, 0.0), (2176, 0.06459340334748373), (2177, 0.0), (2178, 0.016365478548346007), (2179, 0.0), (2180, 0.01200716252520138), (2181, 0.02463694107915051), (2182, 0.0), (2183, 0.0), (2184, 0.007676314864374598), (2185, 0.019444583013024076), (2186, 0.0), (2187, 0.013293347672652077), (2188, 0.01413574252923008), (2189, 0.004112002994426053), (2190, 0.003157544462434173), (2191, 0.0026270862897789294), (2192, 0.00294999267251915), (2193, 0.002955976242293872), (2194, 0.03969734652719536), (2195, 0.04046937711340454), (2196, 0.031998335704039066), (2197, 0.0), (2198, 0.0), (2199, 0.03876372068213571), (2200, 0.0), (2201, 0.0027249971544865605), (2202, 0.0), (2203, 0.007918185893612371), (2204, 0.009872507172918763), (2205, 0.00809992518515985), (2206, 0.007810945761177743), (2207, 0.0), (2208, 0.009171513800106916), (2209, 0.003261203007123064), (2210, 0.019595347730832886), (2211, 0.0024545273927659974), (2212, 0.011077065780235148), (2213, 0.011979391562808583), (2214, 0.01207000894560201), (2215, 0.01093141392789705), (2216, 0.02784122788196074), (2217, 0.012192097554446685), (2218, 0.0), (2219, 0.0), (2220, 0.0), (2221, 0.012117163621850769), (2222, 0.01707438260947603), (2223, 0.00333066994208845), (2224, 0.010533945258679985), (2225, 0.015140732997262282), (2226, 0.0028643679791141193), (2227, 0.022464289004416306), (2228, 0.010576439044870057), (2229, 0.012131679839566981), (2230, 0.014968792610630976), (2231, 0.0), (2232, 0.011377904687731642), (2233, 0.0), (2234, 0.0), (2235, 0.008397050425702199), (2236, 0.002658159545968565), (2237, 0.01710889629440432), (2238, 0.0), (2239, 0.008440927744954356), (2240, 0.039176956261386155), (2241, 0.0), (2242, 0.018496448275096587), (2243, 0.0), (2244, 0.0), (2245, 0.008358003558509443), (2246, 0.0), (2247, 0.0), (2248, 0.002633529154816945), (2249, 0.0), (2250, 0.07252623559726025), (2251, 0.02712846415178801), (2252, 0.008804667123953752), (2253, 0.0), (2254, 0.011912576350050181), (2255, 0.003779327089280889), (2256, 0.03914323897850246), (2257, 0.0037714599695300773), (2258, 0.011390248229432952), (2259, 0.0), (2260, 0.03850026522550276), (2261, 0.0), (2262, 0.0), (2263, 0.0), (2264, 0.04405135558980532), (2265, 0.0026593047060830023), (2266, 0.003606939887100748), (2267, 0.0), (2268, 0.002829085648719884), (2269, 0.03782540083263778), (2270, 0.0025309927293468253), (2271, 0.019210957559706754), (2272, 0.023321387205020753), (2273, 0.0239594278681669), (2274, 0.00796213750067528), (2275, 0.02278488175562622), (2276, 0.01678793458807352), (2277, 0.0029694245251640572), (2278, 0.0), (2279, 0.035354094033420866), (2280, 0.018500334946370284), (2281, 0.01148031791535819), (2282, 0.0), (2283, 0.0), (2284, 0.011161027154667255), (2285, 0.002635872460861765), (2286, 0.003743561132583192), (2287, 0.016882735212125494), (2288, 0.0030984645686281216), (2289, 0.002909044205367285), (2290, 0.0), (2291, 0.0), (2292, 0.0029835008317452604), (2293, 0.0031930306722110155), (2294, 0.0), (2295, 0.011277627834040377), (2296, 0.013886107430258211), (2297, 0.021711466015357797), (2298, 0.0), (2299, 0.004684313701759013), (2300, 0.0331985023155797), (2301, 0.0026795922665171137), (2302, 0.003327202985172477), (2303, 0.0027627508685447062), (2304, 0.009130451122076515), (2305, 0.0), (2306, 0.00370616775741432), (2307, 0.0), (2308, 0.020687322966547617), (2309, 0.0027982548335167426), (2310, 0.003916589770660395), (2311, 0.02041766506973614), (2312, 0.0), (2313, 0.09243700904429014), (2314, 0.0), (2315, 0.007975995518538547), (2316, 0.008752984416659764), (2317, 0.04708350017656063), (2318, 0.023110333700105113), (2319, 0.015141634532509728), (2320, 0.016944313420739182), (2321, 0.011405361936947349), (2322, 0.024568482498583857), (2323, 0.029410754567873947), (2324, 0.007559025220030968), (2325, 0.0), (2326, 0.00679487908240793), (2327, 0.008067915342840841), (2328, 0.0), (2329, 0.0), (2330, 0.009149182020884893), (2331, 0.007099965808464042), (2332, 0.0), (2333, 0.0), (2334, 0.020332758350948756), (2335, 0.0), (2336, 0.008125934926952882), (2337, 0.012330076330435796), (2338, 0.002646596745570645), (2339, 0.0), (2340, 0.07392782518162397), (2341, 0.0), (2342, 0.0), (2343, 0.0), (2344, 0.019500213541434944), (2345, 0.012140889736123497), (2346, 0.012621886080004294), (2347, 0.01234891219667498), (2348, 0.0027591885786612392), (2349, 0.004055918156841284), (2350, 0.02500570219173065), (2351, 0.013901053182583065), (2352, 0.06851217714807352), (2353, 0.022805511213119082), (2354, 0.002932249693857818), (2355, 0.012151502612243986), (2356, 0.003274663427391546), (2357, 0.018766250706021434), (2358, 0.0489051496858421), (2359, 0.0024449798213401945), (2360, 0.010292569413669034), (2361, 0.020681183539483318), (2362, 0.002685214461093247), (2363, 0.010098661558048823), (2364, 0.0), (2365, 0.034134226700289025), (2366, 0.024987922843503093), (2367, 0.0028040336051611886), (2368, 0.012519497502290613), (2369, 0.0), (2370, 0.0030518583884523126), (2371, 0.0), (2372, 0.012950120442299989), (2373, 0.0), (2374, 0.0029687663447145363), (2375, 0.012724719070223479), (2376, 0.0), (2377, 0.0), (2378, 0.0034473781876337164), (2379, 0.004227572955711213), (2380, 0.0), (2381, 0.0), (2382, 0.012485676518336269), (2383, 0.00908617522781865), (2384, 0.02417382561980473), (2385, 0.003085319737651154), (2386, 0.002994895041660609), (2387, 0.0029229590544432474), (2388, 0.007192736743247418), (2389, 0.0), (2390, 0.003211282141293326), (2391, 0.012370937342181167), (2392, 0.0038247677252776814), (2393, 0.012360781725804274), (2394, 0.003086643493958199), (2395, 0.022865899311650024), (2396, 0.011687964486694184), (2397, 0.01177995713722576), (2398, 0.008792808465706627), (2399, 0.002703999543087166), (2400, 0.013100640476618837), (2401, 0.011256830468292142), (2402, 0.010489544440724523), (2403, 0.016799041632305355), (2404, 0.03813448933771303), (2405, 0.01204672039247594), (2406, 0.02320405707185714), (2407, 0.004049237757311987), (2408, 0.021933615198509053), (2409, 0.034768149610276786), (2410, 0.024229850417982344), (2411, 0.0033169889064620663), (2412, 0.019751544521534783), (2413, 0.022767479592062264), (2414, 0.027064713634759253), (2415, 0.0035545356285831904), (2416, 0.002887075918830362), (2417, 0.0034298100221102413), (2418, 0.020667400501547264), (2419, 0.003077559786651302), (2420, 0.0), (2421, 0.0), (2422, 0.018926422330476495), (2423, 0.03752873772566149), (2424, 0.007406944198184999), (2425, 0.0037965170514612243), (2426, 0.0), (2427, 0.022647905146407833), (2428, 0.0032327655470873987), (2429, 0.007575042674949518), (2430, 0.036514842931044886), (2431, 0.0), (2432, 0.02092151904322992), (2433, 0.0), (2434, 0.06136338662636601), (2435, 0.021433205585441213), (2436, 0.0032740138559311286), (2437, 0.003324930745951842), (2438, 0.024103791816416767), (2439, 0.0), (2440, 0.01661744296406675), (2441, 0.010878039833507706), (2442, 0.0), (2443, 0.008822305335901722), (2444, 0.07656645760068978), (2445, 0.018683563655433735), (2446, 0.0027207479495452254), (2447, 0.03178644979135188), (2448, 0.02546340152338773), (2449, 0.008709405838567936), (2450, 0.0), (2451, 0.0), (2452, 0.0), (2453, 0.0026923104170805223), (2454, 0.0035372506655322734), (2455, 0.027549541528334248), (2456, 0.0), (2457, 0.010419112584387089), (2458, 0.012691631417844094), (2459, 0.0035654720042457965), (2460, 0.007541292189681193), (2461, 0.011230405970935293), (2462, 0.017752237465415717), (2463, 0.002879406306356714), (2464, 0.012174978101072315), (2465, 0.031471642500088104), (2466, 0.020023820450720063), (2467, 0.00282622180257549), (2468, 0.03901721278900605), (2469, 0.0281781347844548), (2470, 0.0), (2471, 0.0), (2472, 0.0), (2473, 0.002789801445642011), (2474, 0.02817657068342038), (2475, 0.0031502344695208467), (2476, 0.0), (2477, 0.014513768071902338), (2478, 0.0033627833489323646), (2479, 0.018501399692496524), (2480, 0.02082759488214331), (2481, 0.002439445405519995), (2482, 0.002700115597232905), (2483, 0.0), (2484, 0.02606971619240655), (2485, 0.0), (2486, 0.009330036127765111), (2487, 0.0638463115760725), (2488, 0.01415532525277363), (2489, 0.01131313852574553), (2490, 0.0042220834509773845), (2491, 0.0), (2492, 0.0029476629322551517), (2493, 0.0224037310768748), (2494, 0.025043929692553063), (2495, 0.002929070220852154), (2496, 0.002739435191769955), (2497, 0.009701280814390508), (2498, 0.0), (2499, 0.02307753713919295), (2500, 0.0), (2501, 0.0), (2502, 0.03507923124728721), (2503, 0.0), (2504, 0.0), (2505, 0.01618706465202108), (2506, 0.0), (2507, 0.003182126974820773), (2508, 0.0), (2509, 0.01103926225763608), (2510, 0.0), (2511, 0.026142997421642132), (2512, 0.03976658537540595), (2513, 0.020130567053001525), (2514, 0.03740857076963766), (2515, 0.0), (2516, 0.0111297286669372), (2517, 0.04773608580086505), (2518, 0.0), (2519, 0.008429176317226962), (2520, 0.0025393824716658303), (2521, 0.015162208528835822), (2522, 0.024243416380348933), (2523, 0.0), (2524, 0.0065848001945231814), (2525, 0.002758384500735785), (2526, 0.04723843587922458), (2527, 0.002519446346838873), (2528, 0.045166572046033845), (2529, 0.004252244412307089), (2530, 0.003723153450966833), (2531, 0.01207124913713057), (2532, 0.0), (2533, 0.002946242341433235), (2534, 0.01605486572475134), (2535, 0.00324671596514186), (2536, 0.0), (2537, 0.026746997372499352), (2538, 0.03195013599325861), (2539, 0.007511937266572748), (2540, 0.002791877247862836), (2541, 0.017226213060081243), (2542, 0.0), (2543, 0.0), (2544, 0.0), (2545, 0.003051906929340708), (2546, 0.042609928501651094), (2547, 0.0), (2548, 0.009705825500973835), (2549, 0.011795491648659742), (2550, 0.029674354565662413), (2551, 0.0), (2552, 0.02621295519588855), (2553, 0.013096346710761443), (2554, 0.037193088766875396), (2555, 0.006662250719193535), (2556, 0.002716247521548244), (2557, 0.003633036149174397), (2558, 0.013435176343649342), (2559, 0.003850801119366528), (2560, 0.003362036490658548), (2561, 0.0030561021680535405), (2562, 0.0), (2563, 0.002422692702270589), (2564, 0.0), (2565, 0.029742008183280648), (2566, 0.0), (2567, 0.0), (2568, 0.003582667634926132), (2569, 0.0028945272731978676), (2570, 0.003447729382124839), (2571, 0.021339045253830995), (2572, 0.0027748734534644047), (2573, 0.0), (2574, 0.010239281894412084), (2575, 0.01272904627100296), (2576, 0.0), (2577, 0.0), (2578, 0.009818375351779146), (2579, 0.0032834833867492206), (2580, 0.010343743187953962), (2581, 0.05161991919894038), (2582, 0.0), (2583, 0.0), (2584, 0.007978919581278441), (2585, 0.014954291105571291), (2586, 0.016748639793516658), (2587, 0.04037669030046276), (2588, 0.012474428497002943), (2589, 0.016340457849041225), (2590, 0.0), (2591, 0.02147560483503843), (2592, 0.0032429559839091864), (2593, 0.017953962339719614), (2594, 0.0), (2595, 0.0031772373008735694), (2596, 0.0), (2597, 0.0), (2598, 0.022647474116973744), (2599, 0.0), (2600, 0.010309791854734032), (2601, 0.020294543184052022), (2602, 0.009211158482516562), (2603, 0.03752700134867373), (2604, 0.0), (2605, 0.0), (2606, 0.0029495601808829874), (2607, 0.009950447838531157), (2608, 0.0), (2609, 0.003124486101674955), (2610, 0.0030957717480113735), (2611, 0.002513101487698569), (2612, 0.011186431210185185), (2613, 0.017171121032456327), (2614, 0.006361432752814864), (2615, 0.040332217790873974), (2616, 0.0), (2617, 0.0359386673214765), (2618, 0.046457438319118693), (2619, 0.00352764319999307), (2620, 0.0), (2621, 0.00965815364038496), (2622, 0.05092177599334816), (2623, 0.0033162177885785417), (2624, 0.026192781025964767), (2625, 0.012754187971892737), (2626, 0.03503283045098919), (2627, 0.008839758626352043), (2628, 0.003834738754152827), (2629, 0.003325270300770095), (2630, 0.0), (2631, 0.022119538656487994), (2632, 0.002860473736041223), (2633, 0.003075317175721243), (2634, 0.002737115882987074), (2635, 0.009575100273377905), (2636, 0.00869586161994329), (2637, 0.0), (2638, 0.012613139163114824), (2639, 0.0), (2640, 0.0030649882862332396), (2641, 0.0), (2642, 0.002822282473328709), (2643, 0.003788512582108717), (2644, 0.0), (2645, 0.014286628089542508), (2646, 0.0), (2647, 0.0029669076907067175), (2648, 0.03291457939423611), (2649, 0.02722378798982651), (2650, 0.022947551297660636), (2651, 0.0027714914455484675), (2652, 0.024904583677742658), (2653, 0.0028267632536711947), (2654, 0.0), (2655, 0.0038820164247120596), (2656, 0.0), (2657, 0.0), (2658, 0.0), (2659, 0.0), (2660, 0.013255131477299585), (2661, 0.039387358202182046), (2662, 0.012835811944148312), (2663, 0.0), (2664, 0.003122962549800766), (2665, 0.013611471336723985), (2666, 0.0), (2667, 0.0), (2668, 0.011422241622221184), (2669, 0.0), (2670, 0.0), (2671, 0.0063557487808579135), (2672, 0.0), (2673, 0.02588677901913369), (2674, 0.00269652116444999), (2675, 0.00907126082001483), (2676, 0.0), (2677, 0.0), (2678, 0.004770729147797737), (2679, 0.002771930202785761), (2680, 0.020805628133717956), (2681, 0.015928745680579854), (2682, 0.0), (2683, 0.0), (2684, 0.01686554733332919), (2685, 0.0), (2686, 0.010063811336070465), (2687, 0.0028819968456911945), (2688, 0.0), (2689, 0.022269796423175045), (2690, 0.0), (2691, 0.0), (2692, 0.009639835665946629), (2693, 0.0), (2694, 0.003902028726104568), (2695, 0.011114825442718548), (2696, 0.003405231084648283), (2697, 0.009088047816715043), (2698, 0.024001451302790404), (2699, 0.008073032574124317), (2700, 0.0), (2701, 0.0), (2702, 0.0033480153906301465), (2703, 0.0), (2704, 0.0), (2705, 0.003171820958643436), (2706, 0.02672706048099464), (2707, 0.0034380306631454543), (2708, 0.0), (2709, 0.011651203834678443), (2710, 0.03354001952409), (2711, 0.016467668793430625), (2712, 0.003129841570235652), (2713, 0.0), (2714, 0.030617890564479045), (2715, 0.0), (2716, 0.0028215893902058696), (2717, 0.0), (2718, 0.033401838001341916), (2719, 0.0), (2720, 0.027224735999065736), (2721, 0.0025453373534709126), (2722, 0.004112276689816527), (2723, 0.0031416401062135716), (2724, 0.002602994945481591), (2725, 0.0031328172733992156), (2726, 0.0), (2727, 0.023836370433434954), (2728, 0.01054287869213319), (2729, 0.0), (2730, 0.0), (2731, 0.003932065041090527), (2732, 0.0), (2733, 0.0), (2734, 0.006877727162914367), (2735, 0.0027046475047192114), (2736, 0.025777864745408587), (2737, 0.0), (2738, 0.003456917059769911), (2739, 0.058739718511785576), (2740, 0.00329823564719247), (2741, 0.0026375347939599533), (2742, 0.007587144785942147), (2743, 0.002511498900071413), (2744, 0.0030359376185135623), (2745, 0.037213470500897766), (2746, 0.013658654462769267), (2747, 0.0025382365202990427), (2748, 0.003185399781942893), (2749, 0.018474555666759512), (2750, 0.03900147542344524), (2751, 0.007749293280831968), (2752, 0.010617689346294045), (2753, 0.0025806294664784935), (2754, 0.046870814577508496), (2755, 0.003097509653605543), (2756, 0.010417161364380298), (2757, 0.10738351731067615), (2758, 0.0024878542281254416), (2759, 0.010235335047729395), (2760, 0.015531983764058479), (2761, 0.01677854300404297), (2762, 0.039781693616613115), (2763, 0.0), (2764, 0.004173388104039719), (2765, 0.0027844437681657083), (2766, 0.06702214435778774), (2767, 0.0022853824253711123), (2768, 0.01578016863577264), (2769, 0.0034575684916778745), (2770, 0.013700931231493898), (2771, 0.03747275681858659), (2772, 0.0034700120495207753), (2773, 0.0), (2774, 0.0), (2775, 0.003976745098192731), (2776, 0.00315495505225767), (2777, 0.025840032331287104), (2778, 0.0035420700894415865), (2779, 0.0027963860146769702), (2780, 0.041512372481951325), (2781, 0.010428445714963546), (2782, 0.003260824989635477), (2783, 0.0029479928624503416), (2784, 0.011346629904573172), (2785, 0.018969838536060064), (2786, 0.015608698036513397), (2787, 0.0), (2788, 0.008319403353170112), (2789, 0.0), (2790, 0.020142487858911116), (2791, 0.007494398494747253), (2792, 0.00310346615511591), (2793, 0.0), (2794, 0.0), (2795, 0.014019283994935353), (2796, 0.0033523429293879615), (2797, 0.0035854671375773286), (2798, 0.011761866510328265), (2799, 0.04829006300898524), (2800, 0.0027675757427087656), (2801, 0.009010662326566865), (2802, 0.0028643648630571968), (2803, 0.0026658099865966727), (2804, 0.0), (2805, 0.0091853451045443), (2806, 0.018349066165039847), (2807, 0.0), (2808, 0.04804642807806665), (2809, 0.006166732138393008), (2810, 0.0), (2811, 0.012753603437032857), (2812, 0.018339292880569694), (2813, 0.028236664786241147), (2814, 0.0), (2815, 0.016440048270443333), (2816, 0.01714324555537184), (2817, 0.021645500750309632), (2818, 0.0), (2819, 0.011127398431839977), (2820, 0.0), (2821, 0.031809849719949546), (2822, 0.0074680786546876985), (2823, 0.0), (2824, 0.0), (2825, 0.008072761734739675), (2826, 0.014653297391222288), (2827, 0.009771267478677495), (2828, 0.0), (2829, 0.0), (2830, 0.03466115781054531), (2831, 0.03114164242390815), (2832, 0.003844306150492872), (2833, 0.0072840216142491), (2834, 0.0036342158398356013), (2835, 0.0), (2836, 0.01643953731705649), (2837, 0.0), (2838, 0.00374361587792745), (2839, 0.0), (2840, 0.0032671303938598037), (2841, 0.025803173010537823), (2842, 0.0165632646782769), (2843, 0.0), (2844, 0.002419361956713368), (2845, 0.05487987895961894), (2846, 0.0306819963861224), (2847, 0.0), (2848, 0.0035756179480619247), (2849, 0.011736021457437731), (2850, 0.0), (2851, 0.01064659550928101), (2852, 0.0), (2853, 0.04713508715994717), (2854, 0.02579785462310224), (2855, 0.0), (2856, 0.016978858169253885), (2857, 0.014297527003268482), (2858, 0.004152042594178134), (2859, 0.018485183331855934), (2860, 0.0), (2861, 0.0038827638000607954), (2862, 0.0027299803376015165), (2863, 0.0030203634725637367), (2864, 0.0), (2865, 0.0), (2866, 0.0), (2867, 0.012891435510318756), (2868, 0.026044918346467317), (2869, 0.0), (2870, 0.003971060924701301), (2871, 0.017621455984996745), (2872, 0.0033719356937143563), (2873, 0.0), (2874, 0.0075843414815822685), (2875, 0.0), (2876, 0.0024465293508523665), (2877, 0.014529753042919763), (2878, 0.037938456581659445), (2879, 0.003567467956623212), (2880, 0.01781620731628041), (2881, 0.003317654852120306), (2882, 0.0031831909155924936), (2883, 0.003964086575516241), (2884, 0.013370861458576536), (2885, 0.0), (2886, 0.010591099376003638), (2887, 0.002968175437264695), (2888, 0.08832955528246805), (2889, 0.004032524241918498), (2890, 0.021514790922120136), (2891, 0.0), (2892, 0.01099478023830932), (2893, 0.0033219208048498178), (2894, 0.013785354318621646), (2895, 0.003506320868758286), (2896, 0.0), (2897, 0.007805451468091853), (2898, 0.0), (2899, 0.022502203916158935), (2900, 0.0029200139248026485), (2901, 0.0037609938773819213), (2902, 0.0021544423350040543), (2903, 0.012449163972538289), (2904, 0.015160077473961222), (2905, 0.0), (2906, 0.0), (2907, 0.002716765772940952), (2908, 0.02392895900824091), (2909, 0.002856924271537885), (2910, 0.010861547173620551), (2911, 0.003048694237857111), (2912, 0.03484904012196731), (2913, 0.01340541957115574), (2914, 0.003312876477640933), (2915, 0.003185561925702757), (2916, 0.0032811741628014637), (2917, 0.0023073075892864454), (2918, 0.007872895780620259), (2919, 0.03389060488135574), (2920, 0.0026802262216573196), (2921, 0.00968268543701766), (2922, 0.0), (2923, 0.003946881449237799), (2924, 0.015579276034117944), (2925, 0.01826369436582956), (2926, 0.003063536104524032), (2927, 0.0), (2928, 0.0), (2929, 0.007717736881715851), (2930, 0.0), (2931, 0.035199022880070666), (2932, 0.014677482322366969), (2933, 0.00983641294621084), (2934, 0.06201918291309455), (2935, 0.0), (2936, 0.0033160238753450855), (2937, 0.020929769764705935), (2938, 0.0), (2939, 0.010177766026499965), (2940, 0.003130984596401367), (2941, 0.0), (2942, 0.016871767785575757), (2943, 0.0029188011060985192), (2944, 0.008458358043620636), (2945, 0.0028674413416942797), (2946, 0.0028828367101679975), (2947, 0.0), (2948, 0.010641784769938182), (2949, 0.05548504548783982), (2950, 0.015708946739376603), (2951, 0.0), (2952, 0.009903393954772646), (2953, 0.0031006291047843766), (2954, 0.0026747262216447383), (2955, 0.0), (2956, 0.03158002650815522), (2957, 0.030137752846569124), (2958, 0.025013682109132514), (2959, 0.0), (2960, 0.0), (2961, 0.010927051921858671), (2962, 0.00777631559785504), (2963, 0.017964649645322198), (2964, 0.0031302726663113485), (2965, 0.04240813010484856), (2966, 0.003561040671736182), (2967, 0.018646442321465853), (2968, 0.04851062237792318), (2969, 0.01208872742705694), (2970, 0.0031223480910657114), (2971, 0.007110364313482794), (2972, 0.0027611797196430117), (2973, 0.0), (2974, 0.003288848079519274), (2975, 0.010175846220023281), (2976, 0.00262410841360492), (2977, 0.0029993577369998243), (2978, 0.0317287441991584), (2979, 0.0), (2980, 0.0028729257116602764), (2981, 0.04420573861100233), (2982, 0.009847846809449794), (2983, 0.0), (2984, 0.039611391172781556), (2985, 0.009661259172229703), (2986, 0.023017872181373227), (2987, 0.0033817964187864416), (2988, 0.0540913040254835), (2989, 0.04339619103300888), (2990, 0.0), (2991, 0.02544217895576188), (2992, 0.0), (2993, 0.017580323812691867), (2994, 0.008224781460538635), (2995, 0.0027762730833775498), (2996, 0.025033271064657345), (2997, 0.002768757541425598), (2998, 0.004397686527090822), (2999, 0.0029127185263099703), (3000, 0.013754042020719878), (3001, 0.009589444718925876), (3002, 0.0), (3003, 0.0032541111755811114), (3004, 0.023968462881392535), (3005, 0.021233352154907254), (3006, 0.0478523840882613), (3007, 0.003129431599425598), (3008, 0.0), (3009, 0.0), (3010, 0.04373475727046702), (3011, 0.018499275172897588), (3012, 0.04254842649174695), (3013, 0.003304519039547349), (3014, 0.013759649827374994), (3015, 0.003712022759384712), (3016, 0.0030072253634764595), (3017, 0.0), (3018, 0.03483414660199983), (3019, 0.012923107368896259), (3020, 0.0035561769060263376), (3021, 0.010991364515221135), (3022, 0.0), (3023, 0.0), (3024, 0.00958155718477904), (3025, 0.05506737634277806), (3026, 0.01610350872167909), (3027, 0.0026359857689151616), (3028, 0.002830749747191465), (3029, 0.0), (3030, 0.003968359850102981), (3031, 0.00357833141162172), (3032, 0.003278872995842237), (3033, 0.0), (3034, 0.016676152327774377), (3035, 0.0027886983258612716), (3036, 0.0027850365381351058), (3037, 0.0030920705233480716), (3038, 0.0), (3039, 0.0), (3040, 0.08171422164086448), (3041, 0.0), (3042, 0.040348486003074585), (3043, 0.04633567436709836), (3044, 0.015887917145806903), (3045, 0.006748337873435997), (3046, 0.0028730772004945584), (3047, 0.0), (3048, 0.0), (3049, 0.0), (3050, 0.00268381529174542), (3051, 0.0041785021875711025), (3052, 0.004001159097086473), (3053, 0.0), (3054, 0.0), (3055, 0.003986070838958984), (3056, 0.026412003288488608), (3057, 0.0027480111591989035), (3058, 0.0), (3059, 0.0), (3060, 0.01759218621178531), (3061, 0.0), (3062, 0.003247633466320059), (3063, 0.015304960326193273), (3064, 0.0031874621315749678), (3065, 0.0024881577242365357), (3066, 0.0), (3067, 0.0028938596322544575), (3068, 0.0), (3069, 0.02560671380463711), (3070, 0.007299674831930385), (3071, 0.028792877598433145), (3072, 0.0034046637280097753), (3073, 0.0), (3074, 0.0035939698172016104), (3075, 0.00284497818905909), (3076, 0.01452828238219979), (3077, 0.00991967672288897), (3078, 0.0), (3079, 0.0), (3080, 0.0), (3081, 0.022901486410258527), (3082, 0.007696333043051641), (3083, 0.029293787881685157), (3084, 0.015458893238960124), (3085, 0.027875996500874252), (3086, 0.021340134212941467), (3087, 0.02090269156283136), (3088, 0.0), (3089, 0.07354192001378548), (3090, 0.017018626728843893), (3091, 0.002451890761546137), (3092, 0.011347781717636325), (3093, 0.002882870520438094), (3094, 0.0034275565565396893), (3095, 0.011918136210931931), (3096, 0.002546377867902107), (3097, 0.03952131344679334), (3098, 0.0), (3099, 0.014965569144872161), (3100, 0.0), (3101, 0.014841239994566735), (3102, 0.010705645339419768), (3103, 0.01746527844445867), (3104, 0.0), (3105, 0.0), (3106, 0.0), (3107, 0.0), (3108, 0.0026291396924816948), (3109, 0.009216007072599019), (3110, 0.022294023309153543), (3111, 0.012023151611451198), (3112, 0.015673159692002597), (3113, 0.002987765406033491), (3114, 0.0), (3115, 0.025792797639833775), (3116, 0.0032189804446246043), (3117, 0.02196192459806389), (3118, 0.007583354094548128), (3119, 0.015219026907731196), (3120, 0.02105997970564131), (3121, 0.008081366553060632), (3122, 0.002794491485741987), (3123, 0.0035730624225454722), (3124, 0.0), (3125, 0.0029437982942008213), (3126, 0.0), (3127, 0.02396435758011528), (3128, 0.003692594354266794), (3129, 0.009024642764169338), (3130, 0.0), (3131, 0.012459833913269302), (3132, 0.0), (3133, 0.008133610504928406), (3134, 0.0), (3135, 0.0), (3136, 0.0), (3137, 0.005437630374850189), (3138, 0.0), (3139, 0.004147378563718784), (3140, 0.003686550335583209), (3141, 0.010119961177965814), (3142, 0.0377852583505776), (3143, 0.0), (3144, 0.006443103542624981), (3145, 0.06294646076495715), (3146, 0.021766703173029967), (3147, 0.020561607111961085), (3148, 0.0033166302144964806), (3149, 0.10359517295076148), (3150, 0.020399824996463582), (3151, 0.0027903937743205156), (3152, 0.0022859037000285028), (3153, 0.011927146465038629), (3154, 0.06265790225555096), (3155, 0.011177069908125337), (3156, 0.0), (3157, 0.0032604987434851243), (3158, 0.03009310985507165), (3159, 0.003625484996823934), (3160, 0.010229872983961998), (3161, 0.037759310064626295), (3162, 0.0), (3163, 0.0), (3164, 0.0), (3165, 0.003364558652559113), (3166, 0.0040633267193800485), (3167, 0.04964769104732634), (3168, 0.028272248191692394), (3169, 0.016985206683539145), (3170, 0.0027867865959345216), (3171, 0.010559867123139206), (3172, 0.0), (3173, 0.0028848463554959547), (3174, 0.042120152476865326), (3175, 0.011255843220177524), (3176, 0.0), (3177, 0.011063003274421581), (3178, 0.004631425687564098), (3179, 0.05581812386999849), (3180, 0.0), (3181, 0.012690766565697498), (3182, 0.002984050038890964), (3183, 0.0032077533287206503), (3184, 0.003146306630319048), (3185, 0.0), (3186, 0.0033214631492754485), (3187, 0.0030826185609703198), (3188, 0.019135607515499854), (3189, 0.00909151968605665), (3190, 0.01349507027306312), (3191, 0.0), (3192, 0.009027646770861788), (3193, 0.0), (3194, 0.002764906651656665), (3195, 0.0028827381495005085), (3196, 0.00328480627105102), (3197, 0.0), (3198, 0.0030261116969434523), (3199, 0.015670658296345126), (3200, 0.020338922666749738), (3201, 0.0), (3202, 0.0), (3203, 0.0), (3204, 0.0), (3205, 0.0), (3206, 0.0035441903075676944), (3207, 0.0), (3208, 0.009096494957801845), (3209, 0.008849982501076173), (3210, 0.011197586694113994), (3211, 0.0025362692632787615), (3212, 0.0), (3213, 0.021046637709521688), (3214, 0.0027966031635552595), (3215, 0.014473868932681952), (3216, 0.002915040343697575), (3217, 0.0), (3218, 0.029890459267909727), (3219, 0.015136823542793418), (3220, 0.0028629363307816204), (3221, 0.013025722786073057), (3222, 0.0), (3223, 0.012583197778832616), (3224, 0.003049792852794374), (3225, 0.013765850288219292), (3226, 0.025351291323809595), (3227, 0.0029536049017770466), (3228, 0.0035549566713666946), (3229, 0.0), (3230, 0.0033818765979533195), (3231, 0.0), (3232, 0.014710571715300946), (3233, 0.0030135743347671374), (3234, 0.049574336069239285), (3235, 0.003122775633918245), (3236, 0.0), (3237, 0.011440314498158813), (3238, 0.002520930072060863), (3239, 0.0036932050984538342), (3240, 0.005661452096789097), (3241, 0.02030156533930309), (3242, 0.012160611885070878), (3243, 0.06307764296048277), (3244, 0.007926966169230987), (3245, 0.008256533426289781), (3246, 0.011103913153146726), (3247, 0.007826286423756743), (3248, 0.0032669563669065387), (3249, 0.035066420011648954), (3250, 0.0), (3251, 0.0), (3252, 0.00244087900462041), (3253, 0.0), (3254, 0.009470527751136942), (3255, 0.0), (3256, 0.0), (3257, 0.003529696050665818), (3258, 0.003185333268440861), (3259, 0.017744127087442278), (3260, 0.011364188027039321), (3261, 0.0), (3262, 0.00376919111704006), (3263, 0.0), (3264, 0.02054767118620649), (3265, 0.02903721590610318), (3266, 0.0), (3267, 0.01007288494788423), (3268, 0.0027958480218162897), (3269, 0.012529117728230189), (3270, 0.0), (3271, 0.003165137549412676), (3272, 0.03613394985993698), (3273, 0.00326122524280771), (3274, 0.09187570777583107), (3275, 0.012974967615149317), (3276, 0.0044219398607563565), (3277, 0.0), (3278, 0.0026635921548402667), (3279, 0.02798105114414164), (3280, 0.007608069916810131), (3281, 0.01293738155117487), (3282, 0.003798917532837747), (3283, 0.014846193473694076), (3284, 0.0026828725648728627), (3285, 0.06025390365640826), (3286, 0.0), (3287, 0.0), (3288, 0.0), (3289, 0.03339997564013305), (3290, 0.003014594430174129), (3291, 0.00393651137903847), (3292, 0.019027081718433706), (3293, 0.010507169147860554), (3294, 0.0), (3295, 0.0), (3296, 0.003331722148374237), (3297, 0.04649331970842404), (3298, 0.04079595241746611), (3299, 0.0029108176353429705), (3300, 0.010884804706933588), (3301, 0.0022939096780114697), (3302, 0.003569117410876476), (3303, 0.03741497250996542), (3304, 0.017620567067068212), (3305, 0.0351447316168426), (3306, 0.017669069051604633), (3307, 0.0034027056260836565), (3308, 0.015903600126024167), (3309, 0.0), (3310, 0.01095797853179264), (3311, 0.0026498226068916594), (3312, 0.009491377689894944), (3313, 0.028452243791384103), (3314, 0.003106772536440921), (3315, 0.011064737577075864), (3316, 0.002253329262046646), (3317, 0.04044201838769587), (3318, 0.03673801749601924), (3319, 0.015455552675168384), (3320, 0.0), (3321, 0.008006567481524795), (3322, 0.0037700834738500083), (3323, 0.0), (3324, 0.0), (3325, 0.0052336960894327775), (3326, 0.043599092065097475), (3327, 0.010389274440543361), (3328, 0.015733779309981818), (3329, 0.0122809029728292), (3330, 0.0718658151980631), (3331, 0.002441861605395058), (3332, 0.06769162801247033), (3333, 0.018273027993780264), (3334, 0.008597871395130158), (3335, 0.013572803811847311), (3336, 0.021545616729662088), (3337, 0.0224972940231382), (3338, 0.0), (3339, 0.0), (3340, 0.0), (3341, 0.002937532319586197), (3342, 0.010755492421808205), (3343, 0.029799795141570065), (3344, 0.049152353644988184), (3345, 0.0), (3346, 0.029699702218067604), (3347, 0.0024586266499796562), (3348, 0.011209262325237848), (3349, 0.0030391233699844106), (3350, 0.0), (3351, 0.003057288187507004), (3352, 0.012918326239220158), (3353, 0.0030454330799074836), (3354, 0.003688062345536093), (3355, 0.016768592105370746), (3356, 0.006526646663479912), (3357, 0.0036411849689575258), (3358, 0.0035563165764508956), (3359, 0.003409066031837952), (3360, 0.011932533670586111), (3361, 0.01568394807407059), (3362, 0.018955006160471286), (3363, 0.02431670134960961), (3364, 0.040230967095732234), (3365, 0.0020657739531168757), (3366, 0.0), (3367, 0.016594400640366797), (3368, 0.0), (3369, 0.002702020467028491), (3370, 0.054850983692381935), (3371, 0.018353652272196798), (3372, 0.003076489220017268), (3373, 0.012494554483641618), (3374, 0.027459772366033662), (3375, 0.024340098059938576), (3376, 0.002501436146741359), (3377, 0.03414555581199886), (3378, 0.0), (3379, 0.0028719387153382614), (3380, 0.03592326524877934), (3381, 0.05703153469046845), (3382, 0.011583639379573655), (3383, 0.0), (3384, 0.029004575137588896), (3385, 0.0), (3386, 0.02541170670978688), (3387, 0.011599492224075685), (3388, 0.012203643271410219), (3389, 0.05242336484143791), (3390, 0.01103585767675768), (3391, 0.006530735620052418), (3392, 0.04059700679953304), (3393, 0.0025193818714847518), (3394, 0.04615902936731012), (3395, 0.019939324113801858), (3396, 0.0033788300044101734), (3397, 0.0), (3398, 0.0), (3399, 0.0027367661781224654), (3400, 0.0), (3401, 0.023006328826263064), (3402, 0.018963135792776448), (3403, 0.01688525109574182), (3404, 0.0), (3405, 0.0), (3406, 0.04999470901291966), (3407, 0.010421688509477486), (3408, 0.029002602543798855), (3409, 0.0024991895910105957), (3410, 0.00235725589635419), (3411, 0.0), (3412, 0.00285693139969679), (3413, 0.0035184745683722227), (3414, 0.016315690427427903), (3415, 0.0), (3416, 0.0636956194509545), (3417, 0.003226315339019773), (3418, 0.010074422227127035), (3419, 0.0033805388972281657), (3420, 0.0), (3421, 0.01528037415314931), (3422, 0.012284043733792783), (3423, 0.022309707294694257), (3424, 0.0), (3425, 0.003394198587758438), (3426, 0.0), (3427, 0.008686050172817972), (3428, 0.0), (3429, 0.0), (3430, 0.00243828020492903), (3431, 0.002352338110734688), (3432, 0.0), (3433, 0.022539362698062552), (3434, 0.0031164155240953574), (3435, 0.024835784601748553), (3436, 0.002948163154625389), (3437, 0.011621422646603052), (3438, 0.0), (3439, 0.01510560796478471), (3440, 0.0), (3441, 0.014455754575074396), (3442, 0.0), (3443, 0.0), (3444, 0.0), (3445, 0.0030000087969769937), (3446, 0.0), (3447, 0.0028624217074012946), (3448, 0.0), (3449, 0.0031654202587369992), (3450, 0.022383547207127635), (3451, 0.0), (3452, 0.0229711443145698), (3453, 0.03758680536926543), (3454, 0.016207040239569537), (3455, 0.0026896954372789546), (3456, 0.00590998116862646), (3457, 0.0), (3458, 0.015131754619126714), (3459, 0.0), (3460, 0.054382975002784724), (3461, 0.026763301179614427), (3462, 0.01179075037652598), (3463, 0.0108355978402064), (3464, 0.017831697158443544), (3465, 0.018823872399884038), (3466, 0.02527461998768201), (3467, 0.0), (3468, 0.0), (3469, 0.0), (3470, 0.02818223197469009), (3471, 0.010680951865007195), (3472, 0.0), (3473, 0.0187753119301024), (3474, 0.012206498105806325), (3475, 0.018931126973752384), (3476, 0.0), (3477, 0.03638218902567232), (3478, 0.0029293360048133683), (3479, 0.03744292109630333), (3480, 0.0), (3481, 0.0), (3482, 0.0), (3483, 0.011753741517047906), (3484, 0.007196378995215799), (3485, 0.0), (3486, 0.0), (3487, 0.0028164536132854563), (3488, 0.02617557697019615), (3489, 0.0), (3490, 0.0), (3491, 0.002940829383781445), (3492, 0.01947367760513486), (3493, 0.0030660058840853116), (3494, 0.011720890158581581), (3495, 0.0), (3496, 0.0031443547830446944), (3497, 0.012655310546798734), (3498, 0.022871278138503134), (3499, 0.002877736581962952), (3500, 0.0027177134961295975), (3501, 0.0029776400023967162), (3502, 0.0), (3503, 0.002808938278029858), (3504, 0.01063291257571022), (3505, 0.0), (3506, 0.013358836027090464), (3507, 0.008471262805546593), (3508, 0.008042045076498477), (3509, 0.0), (3510, 0.011324035746857124), (3511, 0.0030835192552235192), (3512, 0.004491871242562191), (3513, 0.0), (3514, 0.0030581203242974722), (3515, 0.0), (3516, 0.012596987398241775), (3517, 0.020188036471488053), (3518, 0.0), (3519, 0.0), (3520, 0.0), (3521, 0.0036087948657532974), (3522, 0.0), (3523, 0.02795036465774479), (3524, 0.015805144413024497), (3525, 0.017647899434014888), (3526, 0.0029978472411879464), (3527, 0.0030280275441319656), (3528, 0.009676102471049075), (3529, 0.01279733116335095), (3530, 0.0), (3531, 0.007926058326655312), (3532, 0.0), (3533, 0.02568167301120885), (3534, 0.004837651831303539), (3535, 0.009676491292824817), (3536, 0.015123389348087019), (3537, 0.003633386440455788), (3538, 0.0023357498604658954), (3539, 0.030018846219254783), (3540, 0.02274095333123447), (3541, 0.00294665502256906), (3542, 0.0029971407773489896), (3543, 0.0), (3544, 0.00356574421285777), (3545, 0.01640755765865071), (3546, 0.0021855041506026445), (3547, 0.01352611746399035), (3548, 0.002408928477362138), (3549, 0.0), (3550, 0.0), (3551, 0.002956523194831637), (3552, 0.004764253624510176), (3553, 0.011002234842736288), (3554, 0.032501997388816976), (3555, 0.0), (3556, 0.04669376093068921), (3557, 0.0028725779767908776), (3558, 0.002704394848491577), (3559, 0.0), (3560, 0.0032913725085521404), (3561, 0.0039710044410797354), (3562, 0.0), (3563, 0.01844333461208289), (3564, 0.011627631657172352), (3565, 0.0028990762882618536), (3566, 0.015563196132856765), (3567, 0.0), (3568, 0.0), (3569, 0.0025115308384354796), (3570, 0.00812067544419695), (3571, 0.002995410677671671), (3572, 0.01289388965397796), (3573, 0.0), (3574, 0.0), (3575, 0.015721118746603653), (3576, 0.0), (3577, 0.018012867795698138), (3578, 0.0), (3579, 0.00988675318167282), (3580, 0.021701499166985324), (3581, 0.0), (3582, 0.007872305405110455), (3583, 0.0), (3584, 0.0), (3585, 0.016148359156335695), (3586, 0.008794468776833219), (3587, 0.003299801869424189), (3588, 0.0), (3589, 0.035296126971696776), (3590, 0.0031116797542817642), (3591, 0.031133211661790453), (3592, 0.0), (3593, 0.03324217035736985), (3594, 0.0251220625839011), (3595, 0.0), (3596, 0.011463016628635754), (3597, 0.02747678605117096), (3598, 0.0), (3599, 0.0030585803032382917), (3600, 0.0), (3601, 0.0031240828939741675), (3602, 0.026400089709130426), (3603, 0.0), (3604, 0.0), (3605, 0.0), (3606, 0.0029867502889540133), (3607, 0.019862154288270414), (3608, 0.0019080174902503732), (3609, 0.0), (3610, 0.02397525557335428), (3611, 0.015263366654123353), (3612, 0.01110537593178747), (3613, 0.0036131333071439914), (3614, 0.07625724280817897), (3615, 0.0027585202445938716), (3616, 0.0036427385257927244), (3617, 0.01915565805931417), (3618, 0.0031050503132541846), (3619, 0.0), (3620, 0.04489432908773262), (3621, 0.0034469654563565335), (3622, 0.0), (3623, 0.003021849783435289), (3624, 0.014440406050203712), (3625, 0.0), (3626, 0.015525259539602793), (3627, 0.01348601882641077), (3628, 0.0), (3629, 0.0025157478504461875), (3630, 0.0), (3631, 0.0), (3632, 0.0), (3633, 0.02248672823997116), (3634, 0.13779224634532378), (3635, 0.003960476939475303), (3636, 0.003018793054835957), (3637, 0.018894143756901308), (3638, 0.018172300470652318), (3639, 0.022271124483851247), (3640, 0.012380332857784074), (3641, 0.002829084715173164), (3642, 0.02142156772266523), (3643, 0.002975896408775772), (3644, 0.0), (3645, 0.008367405847926283), (3646, 0.010952197025699877), (3647, 0.0028820832315816333), (3648, 0.0), (3649, 0.01875287314229148), (3650, 0.02739303295325339), (3651, 0.016673757543830606), (3652, 0.0090293842461466), (3653, 0.02949050256754724), (3654, 0.003080770598873393), (3655, 0.03344652950137269), (3656, 0.03797410421618581), (3657, 0.002472016966097308), (3658, 0.014138310336265423), (3659, 0.052865810836320894), (3660, 0.010705206515269367), (3661, 0.0033408869218138912), (3662, 0.016560044197572572), (3663, 0.0), (3664, 0.04819696023783603), (3665, 0.00292235796668513), (3666, 0.0361849820451536), (3667, 0.023733241082002022), (3668, 0.002479445401925579), (3669, 0.0024824703530544373), (3670, 0.02294173999960919), (3671, 0.0), (3672, 0.004162513828017424), (3673, 0.0029174655610020254), (3674, 0.04190907670463735), (3675, 0.027115727873569546), (3676, 0.0), (3677, 0.021360640432979958), (3678, 0.0031163409918769968), (3679, 0.0), (3680, 0.003312499121410468), (3681, 0.0), (3682, 0.01835413000907976), (3683, 0.02221778373079869), (3684, 0.03343887719208766), (3685, 0.008489284802317719), (3686, 0.0), (3687, 0.0036587617442557945), (3688, 0.0), (3689, 0.0030299420430783728), (3690, 0.022181585030177562), (3691, 0.0027873926162294057), (3692, 0.0031540254666782637), (3693, 0.007383201677714789), (3694, 0.03550393340276885), (3695, 0.0), (3696, 0.0028249768046800417), (3697, 0.0), (3698, 0.0), (3699, 0.023233959295473318), (3700, 0.028334134299448775), (3701, 0.0030031078750024794), (3702, 0.0), (3703, 0.0), (3704, 0.0031655889042365684), (3705, 0.0026507029560799943), (3706, 0.0028588178310758614), (3707, 0.002981391421440525), (3708, 0.009435195736907613), (3709, 0.0), (3710, 0.0), (3711, 0.007529102949142461), (3712, 0.0), (3713, 0.006813218131769036), (3714, 0.0032018537655419347), (3715, 0.0), (3716, 0.0), (3717, 0.0), (3718, 0.008024073155034232), (3719, 0.0028591893627954203), (3720, 0.025910468769048966), (3721, 0.0), (3722, 0.0), (3723, 0.0), (3724, 0.0), (3725, 0.002727550394458645), (3726, 0.05774077385386814), (3727, 0.002904403678824459), (3728, 0.04956081569074125), (3729, 0.0033948312865808208), (3730, 0.0), (3731, 0.03961034646235649), (3732, 0.03307666525435625), (3733, 0.0027899101659083427), (3734, 0.0027628673127760577), (3735, 0.018334086920589854), (3736, 0.0), (3737, 0.003270957619703828), (3738, 0.033389972184672406), (3739, 0.011710032407368445), (3740, 0.014738970371713098), (3741, 0.038657440701476045), (3742, 0.013313557787659497), (3743, 0.0), (3744, 0.0), (3745, 0.0034458929161197732), (3746, 0.0), (3747, 0.011094257024754401), (3748, 0.0), (3749, 0.0031939426654111302), (3750, 0.005851686647251201), (3751, 0.04757552815007292), (3752, 0.014043414599743929), (3753, 0.0), (3754, 0.0033971752657905654), (3755, 0.002588922719550567), (3756, 0.009080511227495867), (3757, 0.003159905868874457), (3758, 0.0), (3759, 0.013333704147341911), (3760, 0.0), (3761, 0.0), (3762, 0.003816307650248972), (3763, 0.0034522980248952837), (3764, 0.0), (3765, 0.002845501598561609), (3766, 0.01323844944402975), (3767, 0.0026908883902362363), (3768, 0.008781035653916953), (3769, 0.017323474133474792), (3770, 0.0030632529757212497), (3771, 0.0031728295799226323), (3772, 0.016586838759529657), (3773, 0.0), (3774, 0.02051413870482576), (3775, 0.007583424695115056), (3776, 0.0), (3777, 0.024034019590687482), (3778, 0.020213247387624776), (3779, 0.0035372628353273223), (3780, 0.012367107912133248), (3781, 0.0031386419836250375), (3782, 0.0), (3783, 0.0), (3784, 0.0027882335969694606), (3785, 0.0), (3786, 0.0), (3787, 0.0), (3788, 0.0), (3789, 0.0), (3790, 0.021098688444065518), (3791, 0.0), (3792, 0.011779029325476482), (3793, 0.0), (3794, 0.007739989135613925), (3795, 0.0026203669860631303), (3796, 0.0), (3797, 0.014865342029136712), (3798, 0.0), (3799, 0.0027767704964865975), (3800, 0.0), (3801, 0.030814107036461487), (3802, 0.035268476736471085), (3803, 0.0), (3804, 0.003267697945244321), (3805, 0.0), (3806, 0.008861494764198794), (3807, 0.030099920333131563), (3808, 0.027877123308343486), (3809, 0.003001300644031124), (3810, 0.0), (3811, 0.034756279655472), (3812, 0.008807595363934237), (3813, 0.012637913546935383), (3814, 0.010331783565764184), (3815, 0.0), (3816, 0.012753869400480745), (3817, 0.0), (3818, 0.0), (3819, 0.018651964871077502), (3820, 0.0), (3821, 0.002456667212181178), (3822, 0.02189245276512957), (3823, 0.0), (3824, 0.0), (3825, 0.0), (3826, 0.0028161832774942475), (3827, 0.002872138898826108), (3828, 0.01403958113539629), (3829, 0.002722985948895728), (3830, 0.016877942913956008), (3831, 0.027533071098472767), (3832, 0.0035760982338105336), (3833, 0.021334670320885086), (3834, 0.0), (3835, 0.001764251692444918), (3836, 0.0), (3837, 0.028540428059490856), (3838, 0.0), (3839, 0.012390546885977908), (3840, 0.0), (3841, 0.0026269757623609865), (3842, 0.016998424494962805), (3843, 0.01071249638623756), (3844, 0.0), (3845, 0.020297483179841508), (3846, 0.0), (3847, 0.028039074378870234), (3848, 0.03557042988013686), (3849, 0.017475364654119474), (3850, 0.0992716469259085), (3851, 0.0), (3852, 0.0), (3853, 0.04997680865721587), (3854, 0.010265742893258626), (3855, 0.009828060160316957), (3856, 0.01818129322108515), (3857, 0.014920421543768927), (3858, 0.013354938092010044), (3859, 0.0), (3860, 0.0074091439038516185), (3861, 0.0), (3862, 0.0115939689583122), (3863, 0.0026322907890033906), (3864, 0.0), (3865, 0.0), (3866, 0.05592226501591026), (3867, 0.05599336796096235), (3868, 0.07816331829980418), (3869, 0.0), (3870, 0.0), (3871, 0.0), (3872, 0.010121976142188176), (3873, 0.003132279559628136), (3874, 0.017823422676369126), (3875, 0.0023809725174954535), (3876, 0.010632153932633587), (3877, 0.0032614944953184267), (3878, 0.0038500426456645133), (3879, 0.0), (3880, 0.002555669457248235), (3881, 0.0), (3882, 0.003082997308875706), (3883, 0.012654001913091073), (3884, 0.01695829468253624), (3885, 0.0), (3886, 0.011184587737195507), (3887, 0.0), (3888, 0.02737751374176154), (3889, 0.01456874227679315), (3890, 0.002834007322149813), (3891, 0.01569008927292463), (3892, 0.003808025311363441), (3893, 0.003164552224956858), (3894, 0.0025690850519153336), (3895, 0.01703494267965843), (3896, 0.0), (3897, 0.0), (3898, 0.002779828820599372), (3899, 0.008898425862455355), (3900, 0.002816819027164976), (3901, 0.003532772221694548), (3902, 0.06538315367132239), (3903, 0.0033553046712061965), (3904, 0.03849531560534405), (3905, 0.008643981597524214), (3906, 0.0028820964061698853), (3907, 0.0), (3908, 0.011799379054750212), (3909, 0.0), (3910, 0.011793671513325246), (3911, 0.02943613646731795), (3912, 0.00884067023624007), (3913, 0.002704353820760402), (3914, 0.0), (3915, 0.014590974691055308), (3916, 0.0), (3917, 0.002817867544882897), (3918, 0.0), (3919, 0.014042767076020403), (3920, 0.020156489324780445), (3921, 0.0), (3922, 0.0036161801745431834), (3923, 0.0), (3924, 0.012203023995808039), (3925, 0.004360228458551747), (3926, 0.008667269053406338), (3927, 0.0024382235217317), (3928, 0.002446907155402987), (3929, 0.0), (3930, 0.0), (3931, 0.019381658788057005), (3932, 0.005403623671497441), (3933, 0.0), (3934, 0.0), (3935, 0.003451775549620016), (3936, 0.0), (3937, 0.0), (3938, 0.011389065514766622), (3939, 0.0039015305036522985), (3940, 0.0), (3941, 0.01040291258333792), (3942, 0.014206349408669638), (3943, 0.0), (3944, 0.0), (3945, 0.00852990697711585), (3946, 0.019011444208698002), (3947, 0.03452595793065548), (3948, 0.01461550851125132), (3949, 0.011233167266830475), (3950, 0.0), (3951, 0.022750414720984793), (3952, 0.003359308556696499), (3953, 0.002665276434397183), (3954, 0.002764640943584323), (3955, 0.026794045872180698), (3956, 0.02861893571988011), (3957, 0.0024144962015143594), (3958, 0.009007851607090124), (3959, 0.019961674820392183), (3960, 0.033759977301779584), (3961, 0.039965801695405145), (3962, 0.003289936434060934), (3963, 0.0), (3964, 0.0), (3965, 0.010031841599761823), (3966, 0.008070451389324596), (3967, 0.0032382535093460553), (3968, 0.0), (3969, 0.0), (3970, 0.0), (3971, 0.0), (3972, 0.0), (3973, 0.020759062097316004), (3974, 0.010425103866291677), (3975, 0.015180035503415073), (3976, 0.029315667794321237), (3977, 0.052913497294897305), (3978, 0.01838292449170285), (3979, 0.0), (3980, 0.01741246486818115), (3981, 0.0), (3982, 0.021699703178539923), (3983, 0.008677362098324216), (3984, 0.011674761879595324), (3985, 0.01831376702980977), (3986, 0.05459922170077189), (3987, 0.0031199421256232385), (3988, 0.0), (3989, 0.0), (3990, 0.004043317737146379), (3991, 0.015624875243445368), (3992, 0.012548464641207133), (3993, 0.01554526520787653), (3994, 0.0), (3995, 0.0), (3996, 0.0), (3997, 0.0), (3998, 0.0), (3999, 0.01366899666903954), (4000, 0.01101115612332152), (4001, 0.0), (4002, 0.02259936512434109), (4003, 0.012864837234034457), (4004, 0.03672085686119418), (4005, 0.029958547630836156), (4006, 0.010497890820544083), (4007, 0.011619653442435979), (4008, 0.012086491521317827), (4009, 0.0), (4010, 0.0), (4011, 0.0352966882593777), (4012, 0.0), (4013, 0.0031892540776908914), (4014, 0.0029638940791016162), (4015, 0.0024164151637486417), (4016, 0.002921264258622595), (4017, 0.003975136569662455), (4018, 0.008952881631609478), (4019, 0.0037973618269247457), (4020, 0.013178782505071155), (4021, 0.0), (4022, 0.030951797394216732), (4023, 0.04115574849925091), (4024, 0.003163377565552161), (4025, 0.0030390182246910593), (4026, 0.036425411040373896), (4027, 0.03491042094141474), (4028, 0.012767023245372867), (4029, 0.010293921862036584), (4030, 0.0034286754621362004), (4031, 0.019368113529151732), (4032, 0.0034181142573609003), (4033, 0.020840406737074314), (4034, 0.0), (4035, 0.007529393036292702), (4036, 0.002862218311422753), (4037, 0.0), (4038, 0.030928845290234496), (4039, 0.0), (4040, 0.0), (4041, 0.0), (4042, 0.0032353931494703246), (4043, 0.0), (4044, 0.0), (4045, 0.0695284127203514), (4046, 0.0032113367785757104), (4047, 0.0), (4048, 0.01215283541628865), (4049, 0.0029729526104774746), (4050, 0.011603437890373314), (4051, 0.0032681016728912326), (4052, 0.0030959500377922057), (4053, 0.010073084741904596), (4054, 0.0031061149845819603), (4055, 0.014943974532665057), (4056, 0.013360818396336602), (4057, 0.0), (4058, 0.02699765345452806), (4059, 0.036148969659094955), (4060, 0.022599811195160913), (4061, 0.0), (4062, 0.0035480228188278645), (4063, 0.009693889482286428), (4064, 0.0), (4065, 0.0), (4066, 0.0025725111253441764), (4067, 0.047302728983261086), (4068, 0.011277938941433278), (4069, 0.002829418174446549), (4070, 0.008654957043416872), (4071, 0.0), (4072, 0.0), (4073, 0.008434213587911701), (4074, 0.01208912336762736), (4075, 0.0034180503560228446), (4076, 0.0), (4077, 0.0), (4078, 0.0), (4079, 0.00303667140619509), (4080, 0.002626518143803528), (4081, 0.014656141260204002), (4082, 0.004138191635946862), (4083, 0.0030582537062521504), (4084, 0.0), (4085, 0.0027880609097031524), (4086, 0.009363895872224052), (4087, 0.0031843954661063827), (4088, 0.016748893422025447), (4089, 0.022997241695255854), (4090, 0.0), (4091, 0.0), (4092, 0.0033150092441866807), (4093, 0.008359134521824699), (4094, 0.008757740014331812), (4095, 0.009421054297153335), (4096, 0.007079591818046918), (4097, 0.009476328198759505), (4098, 0.0030026924032358826), (4099, 0.0), (4100, 0.0), (4101, 0.0031972121781354574), (4102, 0.041594310696607385), (4103, 0.0), (4104, 0.0025965246054126083), (4105, 0.00917266701584129), (4106, 0.0), (4107, 0.003617103085277734), (4108, 0.013031507502203978), (4109, 0.007829799805379574), (4110, 0.007679981019913846), (4111, 0.003135903469088476), (4112, 0.0), (4113, 0.003253631935509065), (4114, 0.0319971376567221), (4115, 0.0), (4116, 0.024799692900689826), (4117, 0.003343892526647237), (4118, 0.008812284085402385), (4119, 0.0), (4120, 0.0), (4121, 0.0378511581099656), (4122, 0.010148790049415038), (4123, 0.01172136426836475), (4124, 0.021523979987498228), (4125, 0.010909767759160579), (4126, 0.03262518320175473), (4127, 0.0), (4128, 0.02512960218868434), (4129, 0.00283538530655785), (4130, 0.03254810924357972), (4131, 0.0), (4132, 0.0031530948348753767), (4133, 0.0031941076913986257), (4134, 0.0), (4135, 0.002970878696926251), (4136, 0.0030515811773313205), (4137, 0.011689009779831571), (4138, 0.003246952008628207), (4139, 0.0028287243370013907), (4140, 0.0032006341601034088), (4141, 0.017183877608974524), (4142, 0.0037451579894694983), (4143, 0.002633153044302347), (4144, 0.009792278655153674), (4145, 0.003441009070629605), (4146, 0.0), (4147, 0.0035668379695908414), (4148, 0.07246191622194452), (4149, 0.0), (4150, 0.011923635526762375), (4151, 0.019233768907753072), (4152, 0.01105082778840365), (4153, 0.01914433195448172), (4154, 0.0026469795151078607), (4155, 0.021100438852535916), (4156, 0.0025677857532476946), (4157, 0.0), (4158, 0.014226063921444824), (4159, 0.08763000272587518), (4160, 0.003284331118377847), (4161, 0.01568032240210797), (4162, 0.0), (4163, 0.0033962147356365975), (4164, 0.007462883931072417), (4165, 0.007535899211556346), (4166, 0.0), (4167, 0.0), (4168, 0.0), (4169, 0.032744810274454264), (4170, 0.02092054622143165), (4171, 0.008185949963804742), (4172, 0.0038726204344677237), (4173, 0.009258430345057137), (4174, 0.01066093094296311), (4175, 0.003119192531699643), (4176, 0.02306098057580522), (4177, 0.00965468648259771), (4178, 0.02268589368343011), (4179, 0.017679256688440614), (4180, 0.0), (4181, 0.0), (4182, 0.018689764579095484), (4183, 0.0028411655518386326), (4184, 0.008205149272420251), (4185, 0.0), (4186, 0.007921247722557513), (4187, 0.03562912357770426), (4188, 0.0), (4189, 0.0351806141380837), (4190, 0.0), (4191, 0.0), (4192, 0.01074986956186246), (4193, 0.00955258090093875), (4194, 0.0), (4195, 0.0), (4196, 0.0), (4197, 0.05579216750798285), (4198, 0.021827226960994657), (4199, 0.010735079349872766), (4200, 0.016120457013288486), (4201, 0.0), (4202, 0.0416393545905579), (4203, 0.026367414610529216), (4204, 0.01386145932527658), (4205, 0.01738146099669731), (4206, 0.0027825243709348477), (4207, 0.009391198703948687), (4208, 0.0), (4209, 0.017860500871149994), (4210, 0.0), (4211, 0.0), (4212, 0.0), (4213, 0.0027854742575205145), (4214, 0.01179653957802624), (4215, 0.01373867692975665), (4216, 0.04399586262663996), (4217, 0.022496888692766483), (4218, 0.008464384405971161), (4219, 0.0), (4220, 0.002584183671661539), (4221, 0.003916510832243011), (4222, 0.003928650517958214), (4223, 0.0), (4224, 0.0), (4225, 0.003075001938075032), (4226, 0.011483470566904517), (4227, 0.038660819299183816), (4228, 0.002894019982696727), (4229, 0.0), (4230, 0.0037533685906917494), (4231, 0.011841944567722817), (4232, 0.009650883616339073), (4233, 0.00865522733096286), (4234, 0.0), (4235, 0.007487447934019317), (4236, 0.0), (4237, 0.014716704468119098), (4238, 0.0), (4239, 0.0), (4240, 0.009446508575980488), (4241, 0.0), (4242, 0.02394328098837772), (4243, 0.0033348118343568644), (4244, 0.012717675058737311), (4245, 0.0031473041942434794), (4246, 0.018248197900375917), (4247, 0.010180303010337198), (4248, 0.0), (4249, 0.0030224566515136653), (4250, 0.0), (4251, 0.0), (4252, 0.029208905509732236), (4253, 0.07105992694405994), (4254, 0.0027505034001232462), (4255, 0.019765218061543834), (4256, 0.03165518593230832), (4257, 0.0027595119469516413), (4258, 0.0), (4259, 0.003253808993328965), (4260, 0.0), (4261, 0.00606282860260009), (4262, 0.03191421813939419), (4263, 0.060656464374055294), (4264, 0.0), (4265, 0.008648319817216784), (4266, 0.0029558958836820868), (4267, 0.028287039087982403), (4268, 0.01105629703679233), (4269, 0.0031420985664801686), (4270, 0.0), (4271, 0.010707491878062875), (4272, 0.0), (4273, 0.0029976246386612436), (4274, 0.017566323809527457), (4275, 0.010891111598918956), (4276, 0.0), (4277, 0.010609229181045229), (4278, 0.0), (4279, 0.0), (4280, 0.017273910594138398), (4281, 0.012140283420429328), (4282, 0.0026964701821904536), (4283, 0.0029859943700383047), (4284, 0.0028742171814084834), (4285, 0.0), (4286, 0.10459469972358303), (4287, 0.029044367323679304), (4288, 0.03564812703161603), (4289, 0.008697619721841509), (4290, 0.0), (4291, 0.025072624125419152), (4292, 0.009896726022674423), (4293, 0.012387508515997875), (4294, 0.0), (4295, 0.0320110049377968), (4296, 0.002551570367299712), (4297, 0.0), (4298, 0.0238735194263278), (4299, 0.05592593948173272), (4300, 0.0117371723608597), (4301, 0.002173332992580403), (4302, 0.0), (4303, 0.0), (4304, 0.012056591097488089), (4305, 0.0), (4306, 0.0036215930263734505), (4307, 0.02818916497525015), (4308, 0.003212424486347309), (4309, 0.01311140371415476), (4310, 0.008662131023196911), (4311, 0.05438851468388722), (4312, 0.0), (4313, 0.0), (4314, 0.0), (4315, 0.0), (4316, 0.0), (4317, 0.0), (4318, 0.0030953875692994602), (4319, 0.0), (4320, 0.002921889924781172), (4321, 0.031027918592879705), (4322, 0.0), (4323, 0.0), (4324, 0.0299699821032249), (4325, 0.007579621606573211), (4326, 0.0026856710000208377), (4327, 0.010236834456337045), (4328, 0.0), (4329, 0.07473277777635405), (4330, 0.0029309627761622244), (4331, 0.0), (4332, 0.0), (4333, 0.013033415015921607), (4334, 0.0030276160188657405), (4335, 0.009307927049844364), (4336, 0.0028294800289357033), (4337, 0.011663174235382072), (4338, 0.0), (4339, 0.0), (4340, 0.0030296735994608257), (4341, 0.019653621410298788), (4342, 0.0), (4343, 0.0025910398420078895), (4344, 0.0025040345111485276), (4345, 0.0138254796951232), (4346, 0.0), (4347, 0.0), (4348, 0.00269387779564642), (4349, 0.0028804428460867727), (4350, 0.0026403312856749885), (4351, 0.0), (4352, 0.0), (4353, 0.007514823648543012), (4354, 0.003064390745752381), (4355, 0.0031207224894793154), (4356, 0.010772007256436261), (4357, 0.00312254788465672), (4358, 0.0), (4359, 0.021854208882838483), (4360, 0.0), (4361, 0.0030476630790948634), (4362, 0.0028682644148885317), (4363, 0.0030680456608206935), (4364, 0.0), (4365, 0.0), (4366, 0.015128312854226885), (4367, 0.0), (4368, 0.04632902958030083), (4369, 0.015454854006976633), (4370, 0.0), (4371, 0.003141275842040401), (4372, 0.0), (4373, 0.0), (4374, 0.0397775692427994), (4375, 0.0), (4376, 0.0), (4377, 0.011951864921064391), (4378, 0.0), (4379, 0.03932049929469749), (4380, 0.01663252291358211), (4381, 0.00283987014370053), (4382, 0.014093964292999694), (4383, 0.0), (4384, 0.0), (4385, 0.0), (4386, 0.0025264199738662956), (4387, 0.010824427036484058), (4388, 0.008898786450824816), (4389, 0.013195265112690088), (4390, 0.03948967370886237), (4391, 0.049152083769684905), (4392, 0.012263362659822448), (4393, 0.0), (4394, 0.019310174585077007), (4395, 0.0028497817481589944), (4396, 0.003277356546110378), (4397, 0.003260129104542835), (4398, 0.003384907084453478), (4399, 0.044674099799609755), (4400, 0.003734236167736266), (4401, 0.03327099332879129), (4402, 0.010710155881164408), (4403, 0.027537492814963198), (4404, 0.03816280029091988), (4405, 0.0), (4406, 0.0), (4407, 0.015150460300210705), (4408, 0.0), (4409, 0.0029120002214878676), (4410, 0.031392442587634135), (4411, 0.0025095610887709294), (4412, 0.0034314644925474203), (4413, 0.0), (4414, 0.0), (4415, 0.0), (4416, 0.0034481071307324476), (4417, 0.0), (4418, 0.0038472563423685015), (4419, 0.0030538291392147006), (4420, 0.0030888362616246), (4421, 0.0), (4422, 0.003027161504899767), (4423, 0.01890037314167778), (4424, 0.0292345393668767), (4425, 0.0), (4426, 0.0), (4427, 0.05394663110588191), (4428, 0.0027815494905500454), (4429, 0.002543416802095775), (4430, 0.0030669843702478645), (4431, 0.0031327404199442584), (4432, 0.002563963631544439), (4433, 0.034492753262143516), (4434, 0.03194869003870376), (4435, 0.022855791114041728), (4436, 0.008811781205143511), (4437, 0.007783818150999688), (4438, 0.008296156649499004), (4439, 0.0), (4440, 0.010450593529106263), (4441, 0.0), (4442, 0.010767641467112513), (4443, 0.003588492915255731), (4444, 0.003837260003089759), (4445, 0.021687566134509804), (4446, 0.021347048433401624), (4447, 0.0), (4448, 0.0152216789502876), (4449, 0.0), (4450, 0.007243928401882194), (4451, 0.0), (4452, 0.0), (4453, 0.018499220038220264), (4454, 0.0), (4455, 0.0), (4456, 0.011993698003171533), (4457, 0.0), (4458, 0.0034936799049072064), (4459, 0.0), (4460, 0.009808840025547022), (4461, 0.0028200308182440063), (4462, 0.0), (4463, 0.0), (4464, 0.0), (4465, 0.0528597990192211), (4466, 0.010937796019713892), (4467, 0.0), (4468, 0.0075554099621003255), (4469, 0.013870151018961562), (4470, 0.0030201078076426253), (4471, 0.039096440818256153), (4472, 0.044003679013157444), (4473, 0.024484699798984134), (4474, 0.011688597442916396), (4475, 0.009982675782929721), (4476, 0.00250663217806239), (4477, 0.012969296051203493), (4478, 0.01771368173005145), (4479, 0.0026979507926821952), (4480, 0.0), (4481, 0.0078077186863497825), (4482, 0.010418161776704847), (4483, 0.0), (4484, 0.00390562507874936), (4485, 0.02852139375091276), (4486, 0.008470198133459736), (4487, 0.09654728312293358), (4488, 0.010096774322295514), (4489, 0.03158326535942217), (4490, 0.013736191279674268), (4491, 0.0), (4492, 0.0), (4493, 0.0), (4494, 0.0033092862873627072), (4495, 0.0031376393377001164), (4496, 0.0), (4497, 0.021186189620508597), (4498, 0.02582503380988108), (4499, 0.0158887481115174), (4500, 0.0), (4501, 0.0029595330708432313), (4502, 0.01013897454584132), (4503, 0.019922981094009834), (4504, 0.014067516990525343), (4505, 0.0031006866501503984), (4506, 0.0), (4507, 0.07301493097622991), (4508, 0.0), (4509, 0.0), (4510, 0.021034767253735185), (4511, 0.03579625487997188), (4512, 0.022205593992809088), (4513, 0.0), (4514, 0.0), (4515, 0.009629177790213028), (4516, 0.0033590619688452167), (4517, 0.01351466376229446), (4518, 0.014137733479566615), (4519, 0.0), (4520, 0.0028998474975747857), (4521, 0.003656346402717556), (4522, 0.0031923093799423245), (4523, 0.0028022183503225357), (4524, 0.0), (4525, 0.0), (4526, 0.0), (4527, 0.0), (4528, 0.01582897001880762), (4529, 0.003927632078994617), (4530, 0.002864863587026973), (4531, 0.012302676894224788), (4532, 0.014470040699984933), (4533, 0.0029980079874934672), (4534, 0.010216184547719758), (4535, 0.003278709578516205), (4536, 0.0027986604845260856), (4537, 0.0), (4538, 0.024956147873244825), (4539, 0.0), (4540, 0.0031475628169895836), (4541, 0.0), (4542, 0.05191423373570848), (4543, 0.00787109878649007), (4544, 0.003654289171915738), (4545, 0.03370246699996364), (4546, 0.003786462827677675), (4547, 0.013435106788016014), (4548, 0.0), (4549, 0.012919462194992131), (4550, 0.0028398080355518554), (4551, 0.012285546071904144), (4552, 0.0), (4553, 0.007145418266957319), (4554, 0.02703965496463568), (4555, 0.02196734558404312), (4556, 0.012147396300471607), (4557, 0.01981055477683632), (4558, 0.0), (4559, 0.0), (4560, 0.0), (4561, 0.0), (4562, 0.014467890924814378), (4563, 0.0030038146573961805), (4564, 0.0), (4565, 0.0), (4566, 0.003087997531432592), (4567, 0.0027996781700045394), (4568, 0.0), (4569, 0.019055549575533296), (4570, 0.0), (4571, 0.023160752743690505), (4572, 0.0035951452770505315), (4573, 0.0028397386096869663), (4574, 0.01240183752674228), (4575, 0.0030994334976650103), (4576, 0.0028452013559104837), (4577, 0.0), (4578, 0.0), (4579, 0.0031574510808075663), (4580, 0.018446283135590512), (4581, 0.047102152260115986), (4582, 0.02411446635796144), (4583, 0.010612909757799127), (4584, 0.017135585011076447), (4585, 0.0), (4586, 0.0), (4587, 0.026505836159583643), (4588, 0.0), (4589, 0.0034286583732554415), (4590, 0.010371633507327584), (4591, 0.00272443516673273), (4592, 0.0), (4593, 0.003257322130980834), (4594, 0.022921022201359838), (4595, 0.0), (4596, 0.0), (4597, 0.0), (4598, 0.025568473588961096), (4599, 0.024897348779831574), (4600, 0.007919048136134789), (4601, 0.0032062811786490453), (4602, 0.0032139531608548896), (4603, 0.03357163548872598), (4604, 0.029939713346560235), (4605, 0.02165766758034674), (4606, 0.003708523294406646), (4607, 0.004253714643366445), (4608, 0.0025994992437739714), (4609, 0.0), (4610, 0.009316818107564767), (4611, 0.0039045464749432935), (4612, 0.0036467381415955934), (4613, 0.0), (4614, 0.002798030073962813), (4615, 0.0), (4616, 0.0027059812293198267), (4617, 0.015182856986844694), (4618, 0.0), (4619, 0.01224826207860447), (4620, 0.002676485474096021), (4621, 0.0), (4622, 0.0), (4623, 0.024613039174817275), (4624, 0.0030717396277597153), (4625, 0.0030415611573066338), (4626, 0.0023683385729680695), (4627, 0.0025135555332484426), (4628, 0.05961945027038562), (4629, 0.0030558488437017815), (4630, 0.0), (4631, 0.0), (4632, 0.003453514562062132), (4633, 0.0034426065168815688), (4634, 0.0027333875878921615), (4635, 0.0), (4636, 0.0024703011028809198), (4637, 0.01317260631055167), (4638, 0.0026721385591421975), (4639, 0.00905477171973834), (4640, 0.0029347466558591606), (4641, 0.11174012773281286), (4642, 0.0), (4643, 0.003013200795611746), (4644, 0.0), (4645, 0.0), (4646, 0.0), (4647, 0.0), (4648, 0.017134907841669485), (4649, 0.002690179927537525), (4650, 0.0033758710138751587), (4651, 0.012730932406183611), (4652, 0.0022390414192699328), (4653, 0.012842635297020634), (4654, 0.0), (4655, 0.0), (4656, 0.008811868550916643), (4657, 0.032027242821635375), (4658, 0.010672432842983274), (4659, 0.00933799972094526), (4660, 0.0036122198727105647), (4661, 0.0025966009800442594), (4662, 0.0), (4663, 0.01911023675272418), (4664, 0.049562963516941734), (4665, 0.0), (4666, 0.0), (4667, 0.0), (4668, 0.002886372851506087), (4669, 0.024774823939945602), (4670, 0.0028060125360327786), (4671, 0.0), (4672, 0.0), (4673, 0.010751964351697018), (4674, 0.0023527460513243924), (4675, 0.0), (4676, 0.0), (4677, 0.0029607629355871325), (4678, 0.0), (4679, 0.024551641812386553), (4680, 0.0031320227604740244), (4681, 0.0), (4682, 0.01607679166379474), (4683, 0.010539453233092978), (4684, 0.05833021142188175), (4685, 0.002875946599435389), (4686, 0.0029471880999447386), (4687, 0.0028642893983110325), (4688, 0.0), (4689, 0.0), (4690, 0.015537822026369188), (4691, 0.0), (4692, 0.00365660012340573), (4693, 0.0028454670078408716), (4694, 0.0034418770613266142), (4695, 0.01227369703026979), (4696, 0.019095061072705165), (4697, 0.0), (4698, 0.0), (4699, 0.0249201069307894), (4700, 0.0), (4701, 0.0034912785220895864), (4702, 0.0), (4703, 0.0), (4704, 0.004001822739333496), (4705, 0.04257605394506902), (4706, 0.0032544542040404316), (4707, 0.00915270147791317), (4708, 0.008587269120206706), (4709, 0.011107541059203547), (4710, 0.024645508716159198), (4711, 0.0), (4712, 0.06365749560074765), (4713, 0.003391034419572792), (4714, 0.0), (4715, 0.0029368864449017657), (4716, 0.0), (4717, 0.02297776545443186), (4718, 0.0032853367815349702), (4719, 0.005673460711612521), (4720, 0.02010971231960604), (4721, 0.013073311740974437), (4722, 0.020893900196989), (4723, 0.0035815952707566935), (4724, 0.013684432788232868), (4725, 0.010563446988084625), (4726, 0.0406225641850233), (4727, 0.00877866663396807), (4728, 0.0), (4729, 0.0028137755744139245), (4730, 0.0), (4731, 0.003316617946783376), (4732, 0.00319503919227602), (4733, 0.002444195299949228), (4734, 0.0031657013412032834), (4735, 0.01313632112332577), (4736, 0.03311648740536842), (4737, 0.0), (4738, 0.0), (4739, 0.040283549986220205), (4740, 0.03485706826031489), (4741, 0.0), (4742, 0.0), (4743, 0.0028582054188726258), (4744, 0.0023746730830520165), (4745, 0.0), (4746, 0.0), (4747, 0.009404683379261498), (4748, 0.002536996013547311), (4749, 0.0039312641235274325), (4750, 0.0), (4751, 0.0), (4752, 0.008296761066253534), (4753, 0.0033402462336141244), (4754, 0.0), (4755, 0.0), (4756, 0.021004269052674402), (4757, 0.012163521223369028), (4758, 0.0), (4759, 0.020458032856386425)]\n"
          ]
        }
      ]
    },
    {
      "cell_type": "code",
      "source": [
        "len(Recommendation_Score)"
      ],
      "metadata": {
        "colab": {
          "base_uri": "https://localhost:8080/"
        },
        "id": "VGeaWJ_6WpZH",
        "outputId": "e165753a-2a9d-47b8-a12a-3e9c76f56174"
      },
      "execution_count": null,
      "outputs": [
        {
          "output_type": "execute_result",
          "data": {
            "text/plain": [
              "4760"
            ]
          },
          "metadata": {},
          "execution_count": 31
        }
      ]
    },
    {
      "cell_type": "markdown",
      "source": [
        "# **Get All Movies Sort Based on Recommendation Score wrt Favourite Movie**"
      ],
      "metadata": {
        "id": "QgMKQdP8W-dJ"
      }
    },
    {
      "cell_type": "code",
      "source": [
        "# sorting the movies based on their similarity score\n",
        "\n",
        "Sorted_Similar_Movies = sorted(Recommendation_Score, key = lambda x:x[1], reverse = True)\n",
        "print(Sorted_Similar_Movies)"
      ],
      "metadata": {
        "colab": {
          "base_uri": "https://localhost:8080/"
        },
        "id": "LP_cHMP_Wpba",
        "outputId": "7c626028-2ea1-4716-8a1f-74d0cee054ff"
      },
      "execution_count": null,
      "outputs": [
        {
          "output_type": "stream",
          "name": "stdout",
          "text": [
            "[(5, 1.0000000000000002), (624, 0.17284885497195412), (3634, 0.13779224634532378), (4641, 0.11174012773281286), (1936, 0.11100897190029746), (2757, 0.10738351731067615), (117, 0.1070586667014112), (4286, 0.10459469972358303), (3149, 0.10359517295076148), (3850, 0.0992716469259085), (53, 0.09834463063047184), (206, 0.09831919740260645), (193, 0.09790211808987379), (793, 0.09735248327661347), (198, 0.09687408774728139), (4487, 0.09654728312293358), (204, 0.09288191638443813), (920, 0.09252791471272682), (2313, 0.09243700904429014), (2075, 0.09192927437027046), (2042, 0.09190487807903303), (3274, 0.09187570777583107), (629, 0.08921421381514216), (59, 0.08851375533574954), (2888, 0.08832955528246805), (871, 0.08815569846198817), (4159, 0.08763000272587518), (3040, 0.08171422164086448), (115, 0.0810133155674648), (335, 0.08055162922242354), (576, 0.07883017205541629), (646, 0.07841542084148816), (3868, 0.07816331829980418), (786, 0.0779443235672489), (1173, 0.07743458529126529), (2444, 0.07656645760068978), (3614, 0.07625724280817897), (547, 0.0756388544120426), (1034, 0.07547506603012445), (1463, 0.07512798298230514), (2152, 0.07494490684474618), (4329, 0.07473277777635405), (2340, 0.07392782518162397), (3089, 0.07354192001378548), (217, 0.0732687543393516), (1472, 0.07321265787973677), (2083, 0.07306759288470756), (4507, 0.07301493097622991), (2250, 0.07252623559726025), (4148, 0.07246191622194452), (3330, 0.0718658151980631), (4253, 0.07105992694405994), (192, 0.07100327127778379), (1918, 0.07094625163838014), (226, 0.07063143276815317), (1026, 0.07054814825043954), (4045, 0.0695284127203514), (2352, 0.06851217714807352), (1387, 0.0680107904455853), (3332, 0.06769162801247033), (2766, 0.06702214435778774), (849, 0.0668464788660891), (1175, 0.06621728223904112), (1200, 0.06563838260595907), (3902, 0.06538315367132239), (692, 0.06516906630207421), (121, 0.06492515192869362), (638, 0.0647355548990956), (2176, 0.06459340334748373), (541, 0.06446810294557924), (1492, 0.0642305389294209), (20, 0.0639823697751402), (2487, 0.0638463115760725), (3416, 0.0636956194509545), (4712, 0.06365749560074765), (1084, 0.06313606227815262), (3243, 0.06307764296048277), (3145, 0.06294646076495715), (3154, 0.06265790225555096), (1071, 0.06244218074051012), (1970, 0.06225319300501565), (2934, 0.06201918291309455), (1130, 0.061745797855679074), (97, 0.06172971303721913), (1340, 0.0615660480299279), (1739, 0.06142014642055685), (92, 0.06138099023925915), (2434, 0.06136338662636601), (847, 0.061277600186148355), (606, 0.061070093794308715), (1438, 0.06097586921277699), (4263, 0.060656464374055294), (1541, 0.06061016016922217), (96, 0.0605853762397138), (3285, 0.06025390365640826), (1577, 0.06023491457347864), (2026, 0.060081359428623415), (1202, 0.060043012264312925), (98, 0.05993495463924576), (1297, 0.059763643158592374), (4628, 0.05961945027038562), (946, 0.05931263398031095), (2739, 0.058739718511785576), (2157, 0.058651290288236416), (4684, 0.05833021142188175), (2118, 0.058242329757033404), (2012, 0.05808456407105719), (1592, 0.057930469215201674), (197, 0.057757953081107385), (3726, 0.05774077385386814), (3381, 0.05703153469046845), (515, 0.05700686316521811), (1703, 0.05683493632657592), (2158, 0.05655552349796264), (434, 0.056375090810300704), (1847, 0.05634182256819155), (183, 0.05610053557740391), (3867, 0.05599336796096235), (4299, 0.05592593948173272), (3866, 0.05592226501591026), (3179, 0.05581812386999849), (4197, 0.05579216750798285), (2016, 0.05571658027584617), (2165, 0.055669327685833055), (2949, 0.05548504548783982), (2153, 0.05509091501523734), (3025, 0.05506737634277806), (2845, 0.05487987895961894), (3370, 0.054850983692381935), (23, 0.054730982878127866), (904, 0.05467534297099474), (3986, 0.05459922170077189), (4311, 0.05438851468388722), (3460, 0.054382975002784724), (1985, 0.05419407210768305), (896, 0.05416740344082522), (1920, 0.05410173252735104), (2988, 0.0540913040254835), (4427, 0.05394663110588191), (1925, 0.05314009675032464), (500, 0.05293380359496411), (1424, 0.052928543307840505), (3977, 0.052913497294897305), (3659, 0.052865810836320894), (4465, 0.0528597990192211), (73, 0.0528185072939865), (1128, 0.05279428346584699), (166, 0.05264220703642698), (3389, 0.05242336484143791), (215, 0.05235700345951524), (1831, 0.052143696052991295), (3, 0.051991101182556704), (4542, 0.05191423373570848), (1068, 0.05181605319490794), (1923, 0.051758176684605875), (739, 0.05175288225720699), (1444, 0.051745412169588764), (2581, 0.05161991919894038), (25, 0.05132948307271069), (213, 0.0513240197116603), (2622, 0.05092177599334816), (221, 0.05077073825174379), (2093, 0.050706897013073425), (476, 0.05057641999238512), (543, 0.05046625988628828), (18, 0.05041567800294472), (703, 0.05025753943037661), (1428, 0.05016358987753851), (3406, 0.04999470901291966), (3853, 0.04997680865721587), (1533, 0.04975069553089713), (3167, 0.04964769104732634), (1683, 0.04958760250288441), (3234, 0.049574336069239285), (4664, 0.049562963516941734), (3728, 0.04956081569074125), (1553, 0.04955280745889118), (3344, 0.049152353644988184), (4391, 0.049152083769684905), (2358, 0.0489051496858421), (2968, 0.04851062237792318), (2799, 0.04829006300898524), (1747, 0.048240757163130074), (1782, 0.04823383256097708), (3664, 0.04819696023783603), (2808, 0.04804642807806665), (3006, 0.0478523840882613), (84, 0.04776099764261722), (2517, 0.04773608580086505), (1197, 0.047625836940009755), (1367, 0.04759883419510873), (3751, 0.04757552815007292), (621, 0.0474897931397351), (863, 0.047460859519750466), (4067, 0.047302728983261086), (2526, 0.04723843587922458), (721, 0.047211854068644955), (2853, 0.04713508715994717), (4581, 0.047102152260115986), (2317, 0.04708350017656063), (1458, 0.0470443901969034), (2754, 0.046870814577508496), (1255, 0.04670874535741801), (3556, 0.04669376093068921), (3297, 0.04649331970842404), (2618, 0.046457438319118693), (3043, 0.04633567436709836), (4368, 0.04632902958030083), (1756, 0.04620020165751364), (3394, 0.04615902936731012), (74, 0.046012175151584706), (184, 0.04572149966227531), (334, 0.04567881287492419), (1153, 0.045478350864763734), (188, 0.04528759510782297), (2528, 0.045166572046033845), (190, 0.0450677444361461), (1076, 0.044972835384419214), (3620, 0.04489432908773262), (1165, 0.04469211317133195), (4399, 0.044674099799609755), (457, 0.04463919904909993), (1316, 0.04462338686378738), (690, 0.04461944286529379), (377, 0.044576073906104824), (978, 0.04435782224957702), (1534, 0.0443269431435703), (2981, 0.04420573861100233), (210, 0.044113443830359866), (2264, 0.04405135558980532), (4472, 0.044003679013157444), (4216, 0.04399586262663996), (3010, 0.04373475727046702), (3326, 0.043599092065097475), (787, 0.04347711524878203), (2989, 0.04339619103300888), (181, 0.04290562040980764), (1736, 0.0428491032207031), (1888, 0.04279520535604432), (2546, 0.042609928501651094), (4705, 0.04257605394506902), (622, 0.04256077976851931), (3012, 0.04254842649174695), (164, 0.04247696434364334), (2965, 0.04240813010484856), (1489, 0.04223134570792094), (840, 0.04217963319635654), (3174, 0.042120152476865326), (30, 0.04203136500225513), (1334, 0.042017966935728575), (3674, 0.04190907670463735), (416, 0.041693663438259754), (4202, 0.0416393545905579), (4102, 0.041594310696607385), (848, 0.041555043952663524), (2780, 0.041512372481951325), (2082, 0.041226432331392365), (4023, 0.04115574849925091), (1347, 0.0409778531695555), (3298, 0.04079595241746611), (856, 0.04074132083212212), (4726, 0.0406225641850233), (3392, 0.04059700679953304), (924, 0.04049869304098984), (2195, 0.04046937711340454), (845, 0.040468327780578225), (3317, 0.04044201838769587), (2587, 0.04037669030046276), (3042, 0.040348486003074585), (2615, 0.040332217790873974), (4739, 0.040283549986220205), (2102, 0.040282142933451726), (3364, 0.040230967095732234), (1251, 0.040227924626276994), (1015, 0.0401062603785966), (3961, 0.039965801695405145), (667, 0.03995335604557463), (349, 0.039924756792408624), (14, 0.039865931000102474), (2762, 0.039781693616613115), (4374, 0.0397775692427994), (2512, 0.03976658537540595), (1944, 0.039748203148848575), (237, 0.039742431875325314), (2194, 0.03969734652719536), (256, 0.039683304160885745), (2049, 0.03967722151791658), (2984, 0.039611391172781556), (3731, 0.03961034646235649), (854, 0.03952231011774016), (3097, 0.03952131344679334), (4390, 0.03948967370886237), (1156, 0.03943904235190134), (2661, 0.039387358202182046), (4379, 0.03932049929469749), (940, 0.03929464724061075), (2240, 0.039176956261386155), (982, 0.03917456232062322), (2256, 0.03914323897850246), (4471, 0.039096440818256153), (2468, 0.03901721278900605), (2750, 0.03900147542344524), (929, 0.038958920762024965), (487, 0.03884287994523147), (2199, 0.03876372068213571), (2069, 0.03874486803121904), (262, 0.03873133747826553), (4227, 0.038660819299183816), (3741, 0.038657440701476045), (111, 0.038513706910497394), (2260, 0.03850026522550276), (3904, 0.03849531560534405), (1122, 0.03826347768718754), (4404, 0.03816280029091988), (1554, 0.03815443149634065), (2404, 0.03813448933771303), (1643, 0.03808945015791165), (866, 0.038051289235831856), (972, 0.03798515264805272), (3656, 0.03797410421618581), (2878, 0.037938456581659445), (4121, 0.0378511581099656), (2269, 0.03782540083263778), (3142, 0.0377852583505776), (3161, 0.037759310064626295), (175, 0.03769439618895211), (1304, 0.03759607958930253), (3453, 0.03758680536926543), (2423, 0.03752873772566149), (2603, 0.03752700134867373), (2771, 0.03747275681858659), (1359, 0.03744789749484171), (3479, 0.03744292109630333), (180, 0.03742388811277312), (3303, 0.03741497250996542), (2514, 0.03740857076963766), (551, 0.03737738329458575), (989, 0.03732733363408579), (2745, 0.037213470500897766), (2554, 0.037193088766875396), (1717, 0.037104975021020024), (2056, 0.037095897958795504), (1351, 0.036768938624794724), (3318, 0.03673801749601924), (4004, 0.03672085686119418), (205, 0.03669515479097453), (452, 0.036631582064792306), (807, 0.03652824580701043), (2430, 0.036514842931044886), (1232, 0.0364882707051294), (1544, 0.03647955424395278), (1080, 0.03643054219250844), (4026, 0.036425411040373896), (3477, 0.03638218902567232), (773, 0.03631401155183756), (1597, 0.03620388724550976), (812, 0.036190755403458445), (3666, 0.0361849820451536), (4059, 0.036148969659094955), (3272, 0.03613394985993698), (1140, 0.036118653577644495), (889, 0.036082894719689826), (1491, 0.036028375702843854), (105, 0.036023750278429245), (659, 0.03600691134709896), (2617, 0.0359386673214765), (3380, 0.03592326524877934), (4511, 0.03579625487997188), (1973, 0.03574882336032115), (781, 0.03567489860461309), (277, 0.03566512585178935), (928, 0.03566099407697014), (4288, 0.03564812703161603), (4187, 0.03562912357770426), (575, 0.03559033790267256), (3848, 0.03557042988013686), (2024, 0.035528725928526794), (3694, 0.03550393340276885), (1036, 0.03544690404008707), (2279, 0.035354094033420866), (4011, 0.0352966882593777), (3589, 0.035296126971696776), (733, 0.035268952581731884), (3802, 0.035268476736471085), (1848, 0.035265072026565286), (1565, 0.03522023913848677), (2931, 0.035199022880070666), (1103, 0.03518763615654491), (4189, 0.0351806141380837), (1596, 0.03515891345729999), (3305, 0.0351447316168426), (243, 0.035101606460067214), (2502, 0.03507923124728721), (419, 0.035076126182355956), (3249, 0.035066420011648954), (2626, 0.03503283045098919), (1794, 0.03498677133533102), (1614, 0.03493295117387936), (4027, 0.03491042094141474), (1990, 0.03487105541070044), (4740, 0.03485706826031489), (2912, 0.03484904012196731), (3018, 0.03483414660199983), (2409, 0.034768149610276786), (3811, 0.034756279655472), (1168, 0.03474025714295902), (814, 0.034680876359444716), (2830, 0.03466115781054531), (1591, 0.03460193961325507), (50, 0.03458541865944816), (1854, 0.03457109325916501), (3947, 0.03452595793065548), (4433, 0.034492753262143516), (1473, 0.03437630231783342), (632, 0.034345584030086536), (1390, 0.034342078660378444), (1321, 0.0343311565054904), (951, 0.034162533812549065), (3377, 0.03414555581199886), (2365, 0.034134226700289025), (604, 0.03412240253335977), (373, 0.03410869054302112), (216, 0.03401145657551796), (818, 0.03400017622289548), (822, 0.033904035073556486), (2919, 0.03389060488135574), (3960, 0.033759977301779584), (83, 0.03372403219744964), (4545, 0.03370246699996364), (1283, 0.03365991613229467), (794, 0.03365706220597388), (401, 0.03358450592317135), (4603, 0.03357163548872598), (2710, 0.03354001952409), (3655, 0.03344652950137269), (1983, 0.03344126870746689), (3684, 0.03343887719208766), (2718, 0.033401838001341916), (3289, 0.03339997564013305), (3738, 0.033389972184672406), (2045, 0.03329258374166843), (486, 0.03327923104736056), (4401, 0.03327099332879129), (3593, 0.03324217035736985), (2300, 0.0331985023155797), (619, 0.03319671298509278), (4736, 0.03311648740536842), (1410, 0.033109393434277684), (7, 0.033098270930275266), (3732, 0.03307666525435625), (1052, 0.032942547007362336), (1187, 0.03294097440336716), (1628, 0.03293086041328987), (2648, 0.03291457939423611), (732, 0.03291237848846514), (317, 0.03290906342982372), (4169, 0.032744810274454264), (1243, 0.032723623264302684), (4126, 0.03262518320175473), (4130, 0.03254810924357972), (3554, 0.032501997388816976), (916, 0.03245066957896539), (513, 0.03242693914534766), (887, 0.03237955583644685), (1295, 0.032334200323611666), (72, 0.03227560284098183), (345, 0.032254279817866924), (1101, 0.032030200387214935), (4657, 0.032027242821635375), (4295, 0.0320110049377968), (2196, 0.031998335704039066), (4114, 0.0319971376567221), (2538, 0.03195013599325861), (4434, 0.03194869003870376), (4262, 0.03191421813939419), (1830, 0.031889611485029945), (521, 0.031831025464106676), (2821, 0.031809849719949546), (2447, 0.03178644979135188), (2978, 0.0317287441991584), (1551, 0.03165650012851913), (4256, 0.03165518593230832), (270, 0.0316455907144068), (4489, 0.03158326535942217), (2956, 0.03158002650815522), (2107, 0.0315276041217359), (1394, 0.031526327877962876), (2465, 0.031471642500088104), (447, 0.0314196182553607), (474, 0.031393190200134084), (4410, 0.031392442587634135), (687, 0.031302944524438485), (2129, 0.03125712571106975), (2831, 0.03114164242390815), (3591, 0.031133211661790453), (4321, 0.031027918592879705), (1981, 0.031003206129129608), (884, 0.03098212254696136), (1801, 0.030962442798306834), (4022, 0.030951797394216732), (4038, 0.030928845290234496), (512, 0.030903511106909677), (2148, 0.030865613178758574), (418, 0.030865199945605028), (2166, 0.030852137137890333), (1248, 0.030850215685340045), (3801, 0.030814107036461487), (246, 0.030766552424621), (1691, 0.030708941421796834), (947, 0.030684487636103028), (2846, 0.0306819963861224), (253, 0.030653624895538963), (685, 0.030643058895990827), (2714, 0.030617890564479045), (509, 0.030538812823729347), (1035, 0.0305049393125552), (790, 0.030495999167797813), (655, 0.03043425793662662), (450, 0.0303613888863361), (283, 0.03031490970332031), (126, 0.030295333153078967), (211, 0.030239321468804557), (580, 0.03023091990310969), (1660, 0.03022721379587777), (1589, 0.030174042924741705), (2957, 0.030137752846569124), (3807, 0.030099920333131563), (3158, 0.03009310985507165), (3539, 0.030018846219254783), (4324, 0.0299699821032249), (4005, 0.029958547630836156), (4604, 0.029939713346560235), (1419, 0.029912547792799428), (3218, 0.029890459267909727), (3343, 0.029799795141570065), (1401, 0.029793103169862403), (2565, 0.029742008183280648), (3346, 0.029699702218067604), (109, 0.02968679319413762), (2550, 0.029674354565662413), (1835, 0.029603816808614312), (113, 0.02959577521465848), (3653, 0.02949050256754724), (1940, 0.029478088141179887), (2060, 0.02947648239008662), (1827, 0.029471311924620387), (321, 0.029466199389080516), (1964, 0.029460726642525588), (1028, 0.02944059214441208), (3911, 0.02943613646731795), (617, 0.029423350963058502), (2323, 0.029410754567873947), (530, 0.029410208335250695), (2057, 0.029405998103140936), (3976, 0.029315667794321237), (3083, 0.029293787881685157), (187, 0.029254002927778657), (4424, 0.0292345393668767), (4252, 0.029208905509732236), (127, 0.02917554624389309), (961, 0.029152513883807185), (11, 0.029151519581503006), (343, 0.02914961834704074), (1055, 0.02914672933636025), (588, 0.02913415443218989), (4287, 0.029044367323679304), (3265, 0.02903721590610318), (1315, 0.029015221714168805), (3384, 0.029004575137588896), (3408, 0.029002602543798855), (1774, 0.02897695207974772), (502, 0.028966857021296075), (52, 0.028931576350254846), (762, 0.028908192333174668), (1504, 0.028900487379628168), (1776, 0.028891886468371597), (329, 0.028887809910595412), (1226, 0.02888617341439182), (3071, 0.028792877598433145), (1461, 0.02878987632786209), (506, 0.028770809285795864), (1281, 0.02876201264752068), (3956, 0.02861893571988011), (3837, 0.028540428059490856), (1824, 0.02853650145259442), (901, 0.028527107036171978), (4485, 0.02852139375091276), (3313, 0.028452243791384103), (1110, 0.02843655793764634), (3700, 0.028334134299448775), (26, 0.028306705099380432), (2122, 0.028304211146674356), (4267, 0.028287039087982403), (3168, 0.028272248191692394), (1678, 0.0282455568563084), (1566, 0.02823713405941938), (2813, 0.028236664786241147), (4307, 0.02818916497525015), (3470, 0.02818223197469009), (2469, 0.0281781347844548), (2474, 0.02817657068342038), (412, 0.02813786211144816), (3847, 0.028039074378870234), (3279, 0.02798105114414164), (3523, 0.02795036465774479), (651, 0.027930725632666114), (3808, 0.027877123308343486), (3085, 0.027875996500874252), (2124, 0.027864909114527936), (2216, 0.02784122788196074), (391, 0.02779862554894081), (782, 0.02776091773274476), (1082, 0.027710128638506137), (1353, 0.027579261225111767), (141, 0.027578050785576767), (422, 0.027570281187136503), (1480, 0.027569781510654416), (2455, 0.027549541528334248), (4403, 0.027537492814963198), (3831, 0.027533071098472767), (3597, 0.02747678605117096), (3374, 0.027459772366033662), (1137, 0.02741712990898712), (3650, 0.02739303295325339), (3888, 0.02737751374176154), (1306, 0.027368136612041887), (1963, 0.027315354007839632), (1968, 0.027279192416129007), (2720, 0.027224735999065736), (2649, 0.02722378798982651), (1813, 0.027219778903433856), (2251, 0.02712846415178801), (3675, 0.027115727873569546), (1943, 0.02710773962308712), (1527, 0.027079338042146284), (2414, 0.027064713634759253), (381, 0.02706454547764088), (4554, 0.02703965496463568), (1724, 0.02703427430491464), (360, 0.027015667776014756), (4058, 0.02699765345452806), (304, 0.02690236074620536), (2014, 0.026888445303204583), (2143, 0.026878784262500125), (581, 0.026835523745137722), (399, 0.026806884497428424), (3955, 0.026794045872180698), (3461, 0.026763301179614427), (1053, 0.026755212727941), (2537, 0.026746997372499352), (2706, 0.02672706048099464), (1354, 0.026708746147783458), (572, 0.026654854864268378), (1752, 0.02663008585918719), (578, 0.026533033392524878), (1907, 0.026516546880609563), (4587, 0.026505836159583643), (1915, 0.026448342495796452), (991, 0.026443298988694193), (3056, 0.026412003288488608), (465, 0.026411944024002987), (344, 0.026407037685397355), (3602, 0.026400089709130426), (28, 0.02639892672416919), (4203, 0.026367414610529216), (830, 0.026363463309911572), (860, 0.02635587909847232), (1160, 0.026262907383164183), (1479, 0.026254334405247798), (808, 0.02625251382693572), (1216, 0.02623390230156658), (1503, 0.026230099881653215), (1092, 0.026225414889140035), (2552, 0.02621295519588855), (1606, 0.026211678054671388), (2624, 0.026192781025964767), (3488, 0.02617557697019615), (2511, 0.026142997421642132), (816, 0.026134088667333404), (2484, 0.02606971619240655), (1018, 0.026053494614228616), (2868, 0.026044918346467317), (1958, 0.02600647643119095), (1470, 0.025988532450221927), (382, 0.025950735421649447), (1808, 0.025945550531195363), (3720, 0.025910468769048966), (2673, 0.02588677901913369), (1022, 0.025881977582446838), (2777, 0.025840032331287104), (195, 0.025838077178384114), (4498, 0.02582503380988108), (2841, 0.025803173010537823), (2854, 0.02579785462310224), (3115, 0.025792797639833775), (2736, 0.025777864745408587), (892, 0.02569637696912564), (717, 0.025689643563470775), (718, 0.025686814084245366), (3533, 0.02568167301120885), (1587, 0.025673539697411756), (1542, 0.025614702053031506), (54, 0.02561381166639335), (3069, 0.02560671380463711), (4598, 0.025568473588961096), (2104, 0.025564482694505182), (1279, 0.025559978584221307), (1143, 0.02551737783874582), (2448, 0.02546340152338773), (669, 0.02545902877825703), (2991, 0.02544217895576188), (3386, 0.02541170670978688), (1998, 0.025410777063495257), (930, 0.02540753877620284), (43, 0.02539713407385111), (458, 0.025381535884679694), (3226, 0.025351291323809595), (249, 0.02533587709838619), (1484, 0.025321062345409942), (3466, 0.02527461998768201), (722, 0.025192522511231937), (4128, 0.02512960218868434), (3594, 0.0251220625839011), (1237, 0.025117201613387197), (4291, 0.025072624125419152), (2494, 0.025043929692553063), (2996, 0.025033271064657345), (285, 0.025025277769560948), (2958, 0.025013682109132514), (2350, 0.02500570219173065), (2366, 0.024987922843503093), (4538, 0.024956147873244825), (641, 0.024955879858945863), (4699, 0.0249201069307894), (1546, 0.024907505056422405), (2652, 0.024904583677742658), (4599, 0.024897348779831574), (3435, 0.024835784601748553), (673, 0.02482322470249808), (4116, 0.024799692900689826), (4669, 0.024774823939945602), (1263, 0.024759695637933916), (4710, 0.024645508716159198), (2181, 0.02463694107915051), (4623, 0.024613039174817275), (2322, 0.024568482498583857), (4679, 0.024551641812386553), (403, 0.024520988695051642), (376, 0.02450897529199371), (4473, 0.024484699798984134), (688, 0.02446706818548213), (662, 0.024454116205898185), (3375, 0.024340098059938576), (468, 0.02433069451984068), (1292, 0.02432880599927105), (3363, 0.02431670134960961), (1261, 0.024282002883757307), (1146, 0.024276787008157722), (2522, 0.024243416380348933), (1118, 0.02423372521879063), (2410, 0.024229850417982344), (1858, 0.024175193546741747), (2384, 0.02417382561980473), (1450, 0.024161286779844485), (663, 0.02412358758824693), (4582, 0.02411446635796144), (1249, 0.024110924683552807), (573, 0.02410955304798425), (2438, 0.024103791816416767), (987, 0.024093275279546064), (1285, 0.02403795209464039), (3777, 0.024034019590687482), (1653, 0.024022781423662105), (483, 0.024017338707940098), (2698, 0.024001451302790404), (1408, 0.023992239612882944), (3610, 0.02397525557335428), (3004, 0.023968462881392535), (3127, 0.02396435758011528), (2273, 0.0239594278681669), (4242, 0.02394328098837772), (2908, 0.02392895900824091), (2000, 0.02390804138484417), (4298, 0.0238735194263278), (743, 0.02386975021356988), (2727, 0.023836370433434954), (1528, 0.023816617392704527), (3667, 0.023733241082002022), (1575, 0.02371656359691777), (769, 0.02362411961630855), (742, 0.02357471274448745), (548, 0.023544718664145942), (1679, 0.023517671927378747), (481, 0.02349582709047899), (1706, 0.023440396278339083), (1362, 0.023417463986073632), (771, 0.02338405077798367), (2272, 0.023321387205020753), (1032, 0.023267425442356368), (726, 0.023254142567763245), (959, 0.023250574289663668), (3699, 0.023233959295473318), (2406, 0.02320405707185714), (2162, 0.023201371419833035), (566, 0.023181806337637702), (2079, 0.023173103380918554), (4571, 0.023160752743690505), (1402, 0.023160424348940393), (1693, 0.023129673725481203), (2318, 0.023110333700105113), (1205, 0.023094646384629686), (2499, 0.02307753713919295), (4176, 0.02306098057580522), (392, 0.023056041540440612), (239, 0.023022590688509908), (2986, 0.023017872181373227), (3401, 0.023006328826263064), (4089, 0.022997241695255854), (4717, 0.02297776545443186), (3452, 0.0229711443145698), (1339, 0.02296458056268348), (2650, 0.022947551297660636), (3670, 0.02294173999960919), (1013, 0.022934404541747798), (4594, 0.022921022201359838), (3081, 0.022901486410258527), (3498, 0.022871278138503134), (2395, 0.022865899311650024), (583, 0.022864857689111402), (4435, 0.022855791114041728), (2353, 0.022805511213119082), (2275, 0.02278488175562622), (1919, 0.022779032793845105), (1689, 0.022772432861532237), (2413, 0.022767479592062264), (3951, 0.022750414720984793), (3540, 0.02274095333123447), (760, 0.022734750893309837), (4178, 0.02268589368343011), (2427, 0.022647905146407833), (2598, 0.022647474116973744), (4060, 0.022599811195160913), (4002, 0.02259936512434109), (3433, 0.022539362698062552), (694, 0.022510144766252262), (1044, 0.0225022637973174), (2899, 0.022502203916158935), (1236, 0.022499418300209253), (3337, 0.0224972940231382), (4217, 0.022496888692766483), (3633, 0.02248672823997116), (2227, 0.022464289004416306), (508, 0.0224189901059536), (2493, 0.0224037310768748), (3450, 0.022383547207127635), (3423, 0.022309707294694257), (3110, 0.022294023309153543), (1726, 0.022273056622179245), (3639, 0.022271124483851247), (2689, 0.022269796423175045), (956, 0.022240589913243333), (3683, 0.02221778373079869), (4512, 0.022205593992809088), (3690, 0.022181585030177562), (1761, 0.022180868587684085), (2631, 0.022119538656487994), (1843, 0.022114465762969892), (1344, 0.02209900113302686), (605, 0.02206794502883401), (478, 0.02206637866531913), (1762, 0.02197647252657688), (4555, 0.02196734558404312), (853, 0.021964304474332653), (3117, 0.02196192459806389), (524, 0.021959643221046054), (1956, 0.021954439907118182), (1939, 0.02193777954631929), (2408, 0.021933615198509053), (813, 0.021898656010511032), (3822, 0.02189245276512957), (4359, 0.021854208882838483), (4198, 0.021827226960994657), (2112, 0.021803449967250733), (3146, 0.021766703173029967), (1151, 0.021764136220408285), (1469, 0.021748533452790743), (2297, 0.021711466015357797), (1474, 0.02170175776123328), (3580, 0.021701499166985324), (3982, 0.021699703178539923), (4445, 0.021687566134509804), (444, 0.021682419882150722), (1498, 0.02167653460841364), (708, 0.021674789395971956), (4605, 0.02165766758034674), (2817, 0.021645500750309632), (1806, 0.021635866066112702), (1890, 0.021634816523970313), (1420, 0.021616793905254585), (3336, 0.021545616729662088), (4124, 0.021523979987498228), (2890, 0.021514790922120136), (2591, 0.02147560483503843), (2159, 0.021458247635940057), (1883, 0.021436294392804315), (2435, 0.021433205585441213), (3642, 0.02142156772266523), (3677, 0.021360640432979958), (4446, 0.021347048433401624), (3086, 0.021340134212941467), (2571, 0.021339045253830995), (3833, 0.021334670320885086), (1043, 0.021306924867357913), (3005, 0.021233352154907254), (2131, 0.021217431733294045), (705, 0.02119187175817866), (4497, 0.021186189620508597), (485, 0.021169919007890236), (1933, 0.021157300368739737), (1993, 0.021148494509164124), (10, 0.021119521548410902), (4155, 0.021100438852535916), (3790, 0.021098688444065518), (2029, 0.02109304804598628), (1119, 0.021091212496598538), (123, 0.021086069153309833), (1505, 0.021068967328357557), (440, 0.021064831645504295), (3120, 0.02105997970564131), (554, 0.02105480045932205), (3213, 0.021046637709521688), (4510, 0.021034767253735185), (4756, 0.021004269052674402), (1436, 0.02096875633399993), (2095, 0.020962234862507412), (1997, 0.02093938229411156), (2937, 0.020929769764705935), (2432, 0.02092151904322992), (4170, 0.02092054622143165), (1637, 0.020914396345604973), (3087, 0.02090269156283136), (4722, 0.020893900196989), (161, 0.020879301796246662), (1185, 0.020879146092041286), (469, 0.02084355775436172), (4033, 0.020840406737074314), (2480, 0.02082759488214331), (2680, 0.020805628133717956), (3973, 0.020759062097316004), (2064, 0.020753759362990423), (1582, 0.02074190093571629), (1272, 0.020699305308518844), (2308, 0.020687322966547617), (1700, 0.020685687514392974), (2361, 0.020681183539483318), (2418, 0.020667400501547264), (76, 0.020579547434147444), (366, 0.020568450022924498), (3147, 0.020561607111961085), (3264, 0.02054767118620649), (2130, 0.020519679512881035), (3774, 0.02051413870482576), (1572, 0.0205072576150492), (875, 0.020497655869350165), (4759, 0.020458032856386425), (68, 0.020439935540988663), (70, 0.020426847015266723), (408, 0.02042671941839041), (831, 0.020423509950786435), (2311, 0.02041766506973614), (1139, 0.020415466047734747), (1579, 0.020402161359527344), (3150, 0.020399824996463582), (806, 0.020386167917230136), (665, 0.0203448165739447), (3200, 0.020338922666749738), (2334, 0.020332758350948756), (3241, 0.02030156533930309), (3845, 0.020297483179841508), (2601, 0.020294543184052022), (684, 0.020275660890313324), (3778, 0.020213247387624776), (3517, 0.020188036471488053), (1820, 0.020184802673508844), (439, 0.020180038981139486), (3920, 0.020156489324780445), (2790, 0.020142487858911116), (2513, 0.020130567053001525), (4720, 0.02010971231960604), (1107, 0.020101654145658572), (1867, 0.02004762998477231), (2466, 0.020023820450720063), (3959, 0.019961674820392183), (1335, 0.019951194065624667), (1532, 0.019941496146213215), (3395, 0.019939324113801858), (4503, 0.019922981094009834), (517, 0.01990849464992142), (3607, 0.019862154288270414), (1647, 0.01985858013386975), (4557, 0.01981055477683632), (4255, 0.019765218061543834), (2412, 0.019751544521534783), (2061, 0.019748216626432398), (976, 0.019684366395389567), (4341, 0.019653621410298788), (1581, 0.019631261851343944), (2210, 0.019595347730832886), (894, 0.019568923757428414), (1595, 0.019552069727826655), (753, 0.01950377676981544), (2344, 0.019500213541434944), (1378, 0.01948110987426891), (114, 0.019478273015007843), (3492, 0.01947367760513486), (1562, 0.019458883092677466), (330, 0.019451224953814898), (2185, 0.019444583013024076), (79, 0.019436872361486775), (323, 0.019415367797801033), (3931, 0.019381658788057005), (155, 0.01937180233451674), (4031, 0.019368113529151732), (795, 0.01931713421364884), (1466, 0.019314804128180277), (1072, 0.019311530777614556), (4394, 0.019310174585077007), (503, 0.019278209606463828), (174, 0.019258816127705754), (4151, 0.019233768907753072), (2271, 0.019210957559706754), (397, 0.019208247133684783), (1974, 0.01919890350464364), (475, 0.01917482203158725), (3617, 0.01915565805931417), (4153, 0.01914433195448172), (3188, 0.019135607515499854), (119, 0.019128980925922127), (1506, 0.019124292740772098), (1585, 0.01911110371385822), (4663, 0.01911023675272418), (4696, 0.019095061072705165), (1838, 0.01908872199447709), (4569, 0.019055549575533296), (2087, 0.01903301973461021), (3292, 0.019027081718433706), (3946, 0.019011444208698002), (433, 0.019001044107847913), (2785, 0.018969838536060064), (3402, 0.018963135792776448), (358, 0.018962858246358644), (2008, 0.018961373104572368), (3362, 0.018955006160471286), (3475, 0.018931126973752384), (2422, 0.018926422330476495), (445, 0.01890781345896247), (1913, 0.0189053948883018), (4423, 0.01890037314167778), (3637, 0.018894143756901308), (1780, 0.01884563872891332), (3465, 0.018823872399884038), (1738, 0.01881369541872797), (3473, 0.0187753119301024), (2357, 0.018766250706021434), (3649, 0.01875287314229148), (1074, 0.018733245856241764), (4182, 0.018689764579095484), (2445, 0.018683563655433735), (1979, 0.01867806674184549), (1671, 0.018659474867755474), (1033, 0.01865268457812513), (3819, 0.018651964871077502), (2967, 0.018646442321465853), (939, 0.018632701722095895), (385, 0.018625569468136174), (1079, 0.01860894837983593), (311, 0.018601320077957784), (833, 0.01854712770796539), (1123, 0.018530400180713866), (2479, 0.018501399692496524), (2280, 0.018500334946370284), (3011, 0.018499275172897588), (4453, 0.018499220038220264), (2242, 0.018496448275096587), (2859, 0.018485183331855934), (2749, 0.018474555666759512), (1276, 0.018453173518437612), (962, 0.01845206328620698), (4580, 0.018446283135590512), (3563, 0.01844333461208289), (1710, 0.018433435789562382), (2100, 0.018421486041878585), (1561, 0.01841391968365195), (613, 0.018408350812856647), (3978, 0.01838292449170285), (723, 0.018374425434814014), (1314, 0.018371787311653235), (3682, 0.01835413000907976), (3371, 0.018353652272196798), (2806, 0.018349066165039847), (2812, 0.018339292880569694), (3735, 0.018334086920589854), (1132, 0.018316318637507465), (3985, 0.01831376702980977), (463, 0.018307894551141013), (1654, 0.018286461935803897), (1793, 0.01827449053377731), (3333, 0.018273027993780264), (244, 0.018270023055477758), (2925, 0.01826369436582956), (695, 0.018253600289125108), (4246, 0.018248197900375917), (563, 0.01824727870008734), (1559, 0.018181714328960576), (3856, 0.01818129322108515), (3638, 0.018172300470652318), (2023, 0.018149223841552223), (829, 0.018147047588069867), (124, 0.018038084841327552), (3577, 0.018012867795698138), (1511, 0.017991282159827763), (148, 0.01798407275911766), (2963, 0.017964649645322198), (170, 0.01795621820927303), (2593, 0.017953962339719614), (810, 0.017898608143364244), (1802, 0.01789334531583631), (146, 0.017871761932874985), (1150, 0.01787041111233259), (1875, 0.017869878222141363), (4209, 0.017860500871149994), (555, 0.017852721212339096), (149, 0.017841284862093337), (3464, 0.017831697158443544), (1116, 0.017824479233533714), (3874, 0.017823422676369126), (2880, 0.01781620731628041), (1777, 0.01778015606226401), (2462, 0.017752237465415717), (3259, 0.017744127087442278), (719, 0.017744041167104943), (240, 0.01773216682065956), (4478, 0.01771368173005145), (2011, 0.017694805836284053), (4179, 0.017679256688440614), (3306, 0.017669069051604633), (3525, 0.017647899434014888), (2086, 0.017646205294913616), (497, 0.017635775460414574), (2871, 0.017621455984996745), (3304, 0.017620567067068212), (3060, 0.01759218621178531), (1605, 0.017580450952555626), (2993, 0.017580323812691867), (1856, 0.0175796029553536), (658, 0.01757422752092081), (4274, 0.017566323809527457), (1429, 0.01752227883796043), (777, 0.017518085048335668), (3849, 0.017475364654119474), (3103, 0.01746527844445867), (357, 0.017462454500463624), (3980, 0.01741246486818115), (918, 0.017411896858571578), (4205, 0.01738146099669731), (1881, 0.017329465990665403), (3769, 0.017323474133474792), (137, 0.017322421100641413), (1193, 0.017321785769011565), (55, 0.017312155363243174), (1445, 0.01731114878476992), (657, 0.017280671837709018), (4280, 0.017273910594138398), (2541, 0.017226213060081243), (42, 0.01720986637149586), (122, 0.017203853382914507), (431, 0.017189208502478442), (908, 0.01718842212750538), (4141, 0.017183877608974524), (2613, 0.017171121032456327), (2816, 0.01714324555537184), (2035, 0.0171430588521137), (784, 0.017139907227948687), (4584, 0.017135585011076447), (4648, 0.017134907841669485), (1616, 0.01713436975199562), (2237, 0.01710889629440432), (1978, 0.017074684139877176), (1290, 0.01707447575408633), (2222, 0.01707438260947603), (1136, 0.01706007965956871), (778, 0.017050828904083423), (3895, 0.01703494267965843), (291, 0.017023215343489228), (3090, 0.017018626728843893), (3842, 0.016998424494962805), (196, 0.01699708782787604), (764, 0.016996872467286754), (3169, 0.016985206683539145), (2856, 0.016978858169253885), (3884, 0.01695829468253624), (2320, 0.016944313420739182), (1465, 0.016904085206216), (2070, 0.016896930805873404), (1166, 0.016888897569303358), (134, 0.01688652513589748), (3403, 0.01688525109574182), (2287, 0.016882735212125494), (3830, 0.016877942913956008), (1398, 0.016872811171133064), (2942, 0.016871767785575757), (56, 0.01686891120336946), (2684, 0.01686554733332919), (219, 0.01685754468832223), (2403, 0.016799041632305355), (2276, 0.01678793458807352), (2761, 0.01677854300404297), (3355, 0.016768592105370746), (4088, 0.016748893422025447), (2586, 0.016748639793516658), (909, 0.016745726790735754), (1971, 0.0167438739612455), (3034, 0.016676152327774377), (3651, 0.016673757543830606), (1763, 0.016664289720083766), (1741, 0.016664182123989655), (145, 0.016661143466806902), (398, 0.016645384664087853), (4380, 0.01663252291358211), (1767, 0.01662526298247144), (2440, 0.01661744296406675), (3367, 0.016594400640366797), (1172, 0.016588475569331212), (3772, 0.016586838759529657), (2842, 0.0165632646782769), (3662, 0.016560044197572572), (1887, 0.0165174699954148), (1330, 0.016516441717728734), (906, 0.016499119683932268), (2711, 0.016467668793430625), (2815, 0.016440048270443333), (737, 0.016439578071213445), (2836, 0.01643953731705649), (3545, 0.01640755765865071), (707, 0.016399519573912995), (2178, 0.016365478548346007), (2589, 0.016340457849041225), (1852, 0.016338547189402332), (1862, 0.01632393026124697), (3414, 0.016315690427427903), (1447, 0.016304668288102862), (414, 0.016299428680913143), (729, 0.01625329073216742), (616, 0.016216677703747864), (3454, 0.016207040239569537), (2505, 0.01618706465202108), (99, 0.0161517895888657), (3585, 0.016148359156335695), (4200, 0.016120457013288486), (3026, 0.01610350872167909), (4682, 0.01607679166379474), (2534, 0.01605486572475134), (1937, 0.016053635865412266), (2062, 0.016042916154704875), (1412, 0.01601447251889701), (1317, 0.016005607132860977), (546, 0.015985833588229865), (827, 0.015961567527452123), (142, 0.015945636460853035), (2681, 0.015928745680579854), (1677, 0.01592048944289161), (3308, 0.015903600126024167), (4499, 0.0158887481115174), (3044, 0.015887917145806903), (1632, 0.015885508513952203), (1624, 0.015866181824038535), (1524, 0.015850437407936513), (4528, 0.01582897001880762), (3524, 0.015805144413024497), (2768, 0.01578016863577264), (1840, 0.0157465980627415), (3328, 0.015733779309981818), (302, 0.015729870850457416), (3575, 0.015721118746603653), (1992, 0.01571864368893887), (2950, 0.015708946739376603), (649, 0.015702328162124444), (3891, 0.01569008927292463), (430, 0.01568797752595581), (3361, 0.01568394807407059), (4161, 0.01568032240210797), (3112, 0.015673159692002597), (3199, 0.015670658296345126), (819, 0.015667878400546523), (3991, 0.015624875243445368), (2786, 0.015608698036513397), (2924, 0.015579276034117944), (3566, 0.015563196132856765), (3993, 0.01554526520787653), (4690, 0.015537822026369188), (443, 0.01553754829294012), (2760, 0.015531983764058479), (3626, 0.015525259539602793), (3084, 0.015458893238960124), (3319, 0.015455552675168384), (4369, 0.015454854006976633), (1987, 0.015444353783599173), (1662, 0.015441977054552629), (801, 0.015412208856419383), (88, 0.0154037188372537), (824, 0.01538050534499241), (3063, 0.015304960326193273), (1721, 0.015293485357665799), (3421, 0.01528037415314931), (3611, 0.015263366654123353), (294, 0.01525357762553101), (4448, 0.0152216789502876), (3119, 0.015219026907731196), (106, 0.015206712889945644), (4617, 0.015182856986844694), (3975, 0.015180035503415073), (2521, 0.015162208528835822), (2904, 0.015160077473961222), (4407, 0.015150460300210705), (1061, 0.01514715561249563), (2319, 0.015141634532509728), (2225, 0.015140732997262282), (821, 0.015139184620843814), (3219, 0.015136823542793418), (3458, 0.015131754619126714), (1584, 0.015130944356548), (4366, 0.015128312854226885), (3536, 0.015123389348087019), (501, 0.015108567136400557), (3439, 0.01510560796478471), (1594, 0.015040358182971378), (1039, 0.015028110443988506), (1379, 0.01500068728340759), (176, 0.014976898005371702), (2230, 0.014968792610630976), (333, 0.014965658919817803), (3099, 0.014965569144872161), (2585, 0.014954291105571291), (1310, 0.014953767488143395), (4055, 0.014943974532665057), (3857, 0.014920421543768927), (271, 0.014913562943720106), (3797, 0.014865342029136712), (3283, 0.014846193473694076), (3101, 0.014841239994566735), (850, 0.014838351411166729), (967, 0.014831232725056978), (1, 0.014798802030248788), (383, 0.014766310811302205), (1454, 0.014754845862846037), (3740, 0.014738970371713098), (4237, 0.014716704468119098), (3232, 0.014710571715300946), (2145, 0.01468104866664172), (2932, 0.014677482322366969), (4081, 0.014656141260204002), (2826, 0.014653297391222288), (3948, 0.01461550851125132), (3915, 0.014590974691055308), (3889, 0.01456874227679315), (2877, 0.014529753042919763), (3076, 0.01452828238219979), (2477, 0.014513768071902338), (709, 0.01449215502602143), (3215, 0.014473868932681952), (1062, 0.014470891803438194), (4532, 0.014470040699984933), (4562, 0.014467890924814378), (257, 0.014465665061784748), (3441, 0.014455754575074396), (3624, 0.014440406050203712), (791, 0.014431136312156336), (395, 0.014412683274416185), (1221, 0.014388401870091367), (374, 0.014380540219559899), (880, 0.014366168390330948), (1324, 0.014329488027368501), (1779, 0.01430208375630059), (2857, 0.014297527003268482), (2645, 0.014286628089542508), (738, 0.014257262403799192), (1300, 0.014226916545659262), (4158, 0.014226063921444824), (2154, 0.01421939059697496), (3942, 0.014206349408669638), (1323, 0.014202798789669405), (2103, 0.014192526026102936), (470, 0.014168000300821056), (2488, 0.01415532525277363), (3658, 0.014138310336265423), (4518, 0.014137733479566615), (2188, 0.01413574252923008), (817, 0.014104934541583304), (4382, 0.014093964292999694), (4504, 0.014067516990525343), (3752, 0.014043414599743929), (3919, 0.014042767076020403), (3828, 0.01403958113539629), (2795, 0.014019283994935353), (1695, 0.01400806289824088), (531, 0.013982825678806057), (34, 0.013978386758133055), (798, 0.013909377712164337), (2351, 0.013901053182583065), (2296, 0.013886107430258211), (4469, 0.013870151018961562), (4204, 0.01386145932527658), (1375, 0.013853185582442586), (542, 0.013852764961021), (4345, 0.0138254796951232), (2009, 0.013793539994007974), (2894, 0.013785354318621646), (3225, 0.013765850288219292), (3014, 0.013759649827374994), (3000, 0.013754042020719878), (4215, 0.01373867692975665), (4490, 0.013736191279674268), (955, 0.013731649047936733), (969, 0.013711243824012169), (2770, 0.013700931231493898), (153, 0.013687901755294085), (4724, 0.013684432788232868), (3999, 0.01366899666903954), (2746, 0.013658654462769267), (2665, 0.013611471336723985), (229, 0.013588612386372455), (3335, 0.013572803811847311), (1558, 0.013549047422952916), (319, 0.013544510602313422), (182, 0.013540525496427635), (3547, 0.01352611746399035), (1326, 0.013525280216491223), (4517, 0.01351466376229446), (295, 0.013511701738826695), (3190, 0.01349507027306312), (1642, 0.013489799093205022), (697, 0.013489563217896652), (3627, 0.01348601882641077), (1064, 0.013449398300110429), (2558, 0.013435176343649342), (4547, 0.013435106788016014), (2913, 0.01340541957115574), (380, 0.013379138033755865), (1264, 0.01337214490174499), (2884, 0.013370861458576536), (4056, 0.013360818396336602), (3506, 0.013358836027090464), (3858, 0.013354938092010044), (3759, 0.013333704147341911), (3742, 0.013313557787659497), (855, 0.013297764206572645), (1059, 0.013297392592172285), (2187, 0.013293347672652077), (61, 0.013262557079257383), (2660, 0.013255131477299585), (1550, 0.013246231683656092), (3766, 0.01323844944402975), (1586, 0.013206428983501878), (1869, 0.013196627205016284), (4389, 0.013195265112690088), (4020, 0.013178782505071155), (4637, 0.01317260631055167), (428, 0.013159237120343906), (839, 0.013157979962113122), (1999, 0.013155484812275828), (4735, 0.01313632112332577), (1115, 0.013132411348887325), (4309, 0.01311140371415476), (804, 0.013109496905045256), (2400, 0.013100640476618837), (2553, 0.013096346710761443), (885, 0.013073514110997678), (4721, 0.013073311740974437), (4333, 0.013033415015921607), (4108, 0.013031507502203978), (3221, 0.013025722786073057), (1030, 0.013003417250004878), (1645, 0.012977468785893176), (3275, 0.012974967615149317), (937, 0.01296973666090672), (4477, 0.012969296051203493), (2372, 0.012950120442299989), (3281, 0.01293738155117487), (1836, 0.012930796982383712), (3019, 0.012923107368896259), (4549, 0.012919462194992131), (3352, 0.012918326239220158), (3572, 0.01289388965397796), (2867, 0.012891435510318756), (4003, 0.012864837234034457), (4653, 0.012842635297020634), (2662, 0.012835811944148312), (1275, 0.012809073975397139), (3529, 0.01279733116335095), (4028, 0.012767023245372867), (2625, 0.012754187971892737), (3816, 0.012753869400480745), (2811, 0.012753603437032857), (274, 0.012746339066493903), (1418, 0.012735464358634199), (4651, 0.012730932406183611), (2575, 0.01272904627100296), (2375, 0.012724719070223479), (4244, 0.012717675058737311), (2458, 0.012691631417844094), (3181, 0.012690766565697498), (388, 0.012681397718365895), (751, 0.01267539673846874), (1056, 0.012671143116884095), (876, 0.012670981615204746), (1184, 0.012664500398904724), (3497, 0.012655310546798734), (1177, 0.012654308647769286), (3883, 0.012654001913091073), (3813, 0.012637913546935383), (2346, 0.012621886080004294), (2638, 0.012613139163114824), (3516, 0.012596987398241775), (886, 0.012593903459538473), (704, 0.012592717886692263), (3223, 0.012583197778832616), (975, 0.012575728708807712), (900, 0.012560031161671224), (3992, 0.012548464641207133), (1148, 0.012533911721462584), (683, 0.012532361866317182), (281, 0.012532047751535007), (3269, 0.012529117728230189), (2368, 0.012519497502290613), (340, 0.012513037566459962), (3373, 0.012494554483641618), (533, 0.012485982051116845), (2382, 0.012485676518336269), (1833, 0.012480797445779747), (1518, 0.01247457695023625), (2588, 0.012474428497002943), (3131, 0.012459833913269302), (992, 0.012459285821721067), (1716, 0.012449829764608445), (2903, 0.012449163972538289), (805, 0.012422221392279487), (1448, 0.012412564006475599), (4574, 0.01240183752674228), (1537, 0.012400789610990512), (701, 0.012391933639568206), (3839, 0.012390546885977908), (15, 0.012390521250965283), (4293, 0.012387508515997875), (1352, 0.012380956175646768), (3640, 0.012380332857784074), (227, 0.012378594434459511), (2391, 0.012370937342181167), (2044, 0.012370592592453928), (3780, 0.012367107912133248), (2393, 0.012360781725804274), (626, 0.012352049966538228), (2347, 0.01234891219667498), (2337, 0.012330076330435796), (301, 0.012319412389426583), (888, 0.01230340258222927), (4531, 0.012302676894224788), (612, 0.01229765100418561), (4551, 0.012285546071904144), (3422, 0.012284043733792783), (3329, 0.0122809029728292), (4695, 0.01227369703026979), (456, 0.012271703680868128), (2040, 0.012264133119634363), (4392, 0.012263362659822448), (4619, 0.01224826207860447), (523, 0.012242426117888085), (254, 0.012235723703583896), (48, 0.012231783824068698), (1754, 0.012228900974816567), (1271, 0.01221914224531285), (1225, 0.012219078837596764), (3474, 0.012206498105806325), (3388, 0.012203643271410219), (3924, 0.012203023995808039), (2217, 0.012192097554446685), (2464, 0.012174978101072315), (1902, 0.012174612461340186), (4757, 0.012163521223369028), (3242, 0.012160611885070878), (4048, 0.01215283541628865), (2355, 0.012151502612243986), (4556, 0.012147396300471607), (2345, 0.012140889736123497), (4281, 0.012140283420429328), (2229, 0.012131679839566981), (2221, 0.012117163621850769), (675, 0.012106183850918868), (2037, 0.012097975286387397), (342, 0.012093133341712086), (1229, 0.012092272382429738), (4074, 0.01208912336762736), (2969, 0.01208872742705694), (4008, 0.012086491521317827), (2097, 0.012080240120488465), (1195, 0.012072081461624019), (2531, 0.01207124913713057), (2214, 0.01207000894560201), (4304, 0.012056591097488089), (2405, 0.01204672039247594), (1325, 0.012032309523727717), (3111, 0.012023151611451198), (2180, 0.01200716252520138), (1874, 0.011997125180290585), (637, 0.011994387122441599), (4456, 0.011993698003171533), (1707, 0.0119873926135272), (2213, 0.011979391562808583), (1382, 0.01195547555088063), (4377, 0.011951864921064391), (1392, 0.011943633980420178), (3360, 0.011932533670586111), (3153, 0.011927146465038629), (472, 0.011924417603080727), (4150, 0.011923635526762375), (3095, 0.011918136210931931), (2254, 0.011912576350050181), (1768, 0.011908636582637753), (865, 0.011893093074441464), (33, 0.011871706049625768), (1704, 0.011871638982893302), (21, 0.011871390607326737), (1250, 0.011870075601771972), (1141, 0.011863469599218888), (4231, 0.011841944567722817), (2096, 0.011832364063549282), (792, 0.011808580104305641), (3908, 0.011799379054750212), (4214, 0.01179653957802624), (2549, 0.011795491648659742), (3910, 0.011793671513325246), (945, 0.011792439913260058), (1599, 0.011791467852121207), (3462, 0.01179075037652598), (647, 0.011786485612235631), (2397, 0.01177995713722576), (3792, 0.011779029325476482), (1687, 0.011770168353411731), (2798, 0.011761866510328265), (1234, 0.011755345418499142), (3483, 0.011753741517047906), (1853, 0.01175039757663316), (4300, 0.0117371723608597), (2849, 0.011736021457437731), (1476, 0.011734825819610578), (4123, 0.01172136426836475), (3494, 0.011720890158581581), (3739, 0.011710032407368445), (407, 0.01169486814597669), (552, 0.011694090346468029), (4137, 0.011689009779831571), (4474, 0.011688597442916396), (2396, 0.011687964486694184), (51, 0.011679693364116785), (3984, 0.011674761879595324), (4337, 0.011663174235382072), (696, 0.011658627795835003), (2709, 0.011651203834678443), (1821, 0.011649164588538907), (299, 0.011644260389490334), (135, 0.01163612340277331), (173, 0.011634558202421597), (429, 0.011634284511331337), (1191, 0.011628373982910886), (3564, 0.011627631657172352), (1223, 0.011627493617130608), (3437, 0.011621422646603052), (4007, 0.011619653442435979), (4050, 0.011603437890373314), (3387, 0.011599492224075685), (1517, 0.011594937612956269), (3862, 0.0115939689583122), (1224, 0.0115881244145943), (3382, 0.011583639379573655), (879, 0.011581633838825687), (1196, 0.01157011949664967), (2019, 0.011566259554319329), (1513, 0.011564079123501872), (66, 0.011560099974784733), (423, 0.011559067053135896), (834, 0.011551320066753768), (1727, 0.011542139766431158), (689, 0.011519165228547743), (677, 0.01151162339907836), (1167, 0.01150785219793773), (133, 0.0114935778071857), (584, 0.011486585199283533), (4226, 0.011483470566904517), (1891, 0.011482194124199211), (2281, 0.01148031791535819), (1634, 0.011479850355223918), (1508, 0.011469260954319839), (3596, 0.011463016628635754), (2053, 0.01146102973144613), (1629, 0.011459110466730805), (466, 0.011451181364590304), (464, 0.01144892544007182), (120, 0.011448898741693535), (2126, 0.011448454005475556), (1622, 0.011448163991167664), (1411, 0.01144564554007824), (3237, 0.011440314498158813), (1829, 0.011433728670439416), (2668, 0.011422241622221184), (1257, 0.011413687217297932), (2321, 0.011405361936947349), (2258, 0.011390248229432952), (3938, 0.011389065514766622), (90, 0.01138841776521692), (2232, 0.011377904687731642), (3260, 0.011364188027039321), (652, 0.011354753318585072), (3092, 0.011347781717636325), (2784, 0.011346629904573172), (1337, 0.01132877186842587), (1740, 0.011324280114339967), (3510, 0.011324035746857124), (1966, 0.011316430766853541), (2489, 0.01131313852574553), (1942, 0.011294231615822655), (994, 0.011281429078409611), (4068, 0.011277938941433278), (2295, 0.011277627834040377), (1284, 0.01127518927905076), (1440, 0.01127250703101591), (544, 0.011265327588359854), (2401, 0.011256830468292142), (3175, 0.011255843220177524), (873, 0.011248201785265359), (3949, 0.011233167266830475), (2461, 0.011230405970935293), (864, 0.011217328708218068), (3348, 0.011209262325237848), (1922, 0.011206315523088862), (209, 0.011201693094361056), (3210, 0.011197586694113994), (1996, 0.011190235618442453), (2612, 0.011186431210185185), (3886, 0.011184587737195507), (44, 0.01118234688219681), (3155, 0.011177069908125337), (1421, 0.01116611212951325), (1407, 0.011162725840640963), (2284, 0.011161027154667255), (1912, 0.01115013354423097), (172, 0.01113633149322165), (2516, 0.0111297286669372), (2819, 0.011127398431839977), (1385, 0.011115092812061977), (2695, 0.011114825442718548), (4709, 0.011107541059203547), (3612, 0.01110537593178747), (3246, 0.011103913153146726), (3747, 0.011094257024754401), (986, 0.011092657403062013), (479, 0.011088023117973175), (370, 0.01108314941661568), (2212, 0.011077065780235148), (280, 0.011072106153469988), (1416, 0.01106857438308519), (3315, 0.011064737577075864), (3177, 0.011063003274421581), (4268, 0.01105629703679233), (4152, 0.01105082778840365), (1744, 0.011049659900334201), (2509, 0.01103926225763608), (228, 0.011038785478657878), (3390, 0.01103585767675768), (988, 0.011026281608097738), (1029, 0.01102079614976844), (984, 0.01101752590252783), (1483, 0.011015027264952907), (835, 0.011011411758405237), (4000, 0.01101115612332152), (2174, 0.011003616063194022), (3553, 0.011002234842736288), (1252, 0.010998591026093801), (1878, 0.010997666818492534), (2892, 0.01099478023830932), (763, 0.01099472347886534), (3021, 0.010991364515221135), (767, 0.010987385650824995), (534, 0.010964180246196479), (1775, 0.010960485584377101), (3310, 0.01095797853179264), (3646, 0.010952197025699877), (325, 0.010945260932714418), (2085, 0.01094394137294623), (1621, 0.01094374017226177), (4466, 0.010937796019713892), (282, 0.01093635215448617), (2215, 0.01093141392789705), (2961, 0.010927051921858671), (1613, 0.010925880876777615), (1338, 0.010918471233131038), (4125, 0.010909767759160579), (4275, 0.010891111598918956), (2170, 0.010891098325927525), (3300, 0.010884804706933588), (2441, 0.010878039833507706), (189, 0.010877406016543882), (1041, 0.010872382457684876), (1682, 0.010869379186006702), (2910, 0.010861547173620551), (870, 0.010854891612139688), (3463, 0.0108355978402064), (4387, 0.010824427036484058), (799, 0.010821910304777443), (895, 0.010791120643022156), (1017, 0.010790079944840035), (1967, 0.010784429570322367), (410, 0.010775860361528906), (1823, 0.010775293240823838), (4356, 0.010772007256436261), (4442, 0.010767641467112513), (676, 0.01076228786160182), (643, 0.010757293734700833), (3342, 0.010755492421808205), (4673, 0.010751964351697018), (1456, 0.010750922286582554), (4192, 0.01074986956186246), (1481, 0.010744373590138794), (4199, 0.010735079349872766), (2080, 0.010725687588902843), (379, 0.01072524184868071), (87, 0.01071645034294507), (1081, 0.010714742766492655), (3843, 0.01071249638623756), (4402, 0.010710155881164408), (1085, 0.010708435250320081), (4271, 0.010707491878062875), (3102, 0.010705645339419768), (3660, 0.010705206515269367), (112, 0.010687439494328675), (3471, 0.010680951865007195), (85, 0.010679419651813767), (324, 0.010675577532397602), (1331, 0.010674600044893285), (1357, 0.010673998421291589), (4658, 0.010672432842983274), (1543, 0.010671304084699766), (1361, 0.010669991999759834), (396, 0.010667809685970529), (1982, 0.010667239363312604), (4174, 0.01066093094296311), (354, 0.010657728212545592), (2851, 0.01064659550928101), (2948, 0.010641784769938182), (1038, 0.010636391889640882), (3504, 0.01063291257571022), (3876, 0.010632153932633587), (1478, 0.010630403658476456), (1308, 0.010626664877863653), (2752, 0.010617689346294045), (4583, 0.010612909757799127), (4277, 0.010609229181045229), (2886, 0.010591099376003638), (2228, 0.010576439044870057), (4725, 0.010563446988084625), (3171, 0.010559867123139206), (2728, 0.01054287869213319), (4683, 0.010539453233092978), (2224, 0.010533945258679985), (1873, 0.01051447455937684), (3293, 0.010507169147860554), (4006, 0.010497890820544083), (2402, 0.010489544440724523), (828, 0.010486655316306841), (878, 0.010485161560304882), (1133, 0.010481490497017083), (276, 0.010467132266068956), (1720, 0.010462107212523957), (1817, 0.010451515811703931), (4440, 0.010450593529106263), (2781, 0.010428445714963546), (981, 0.010427632401469126), (236, 0.010427467113139455), (3974, 0.010425103866291677), (3407, 0.010421688509477486), (2457, 0.010419112584387089), (4482, 0.010418161776704847), (2756, 0.010417161364380298), (287, 0.010416397519089531), (1239, 0.010408658251866579), (3941, 0.01040291258333792), (1665, 0.010394086466842227), (1219, 0.010390884061611426), (3327, 0.010389274440543361), (375, 0.010380961757021141), (1620, 0.010380192138357083), (4590, 0.010371633507327584), (1329, 0.010365573030237754), (1253, 0.010357488571331125), (2580, 0.010343743187953962), (2163, 0.010335063891132402), (3814, 0.010331783565764184), (1318, 0.010329918467860376), (2600, 0.010309791854734032), (1183, 0.010304062040160704), (927, 0.01030338931265666), (4029, 0.010293921862036584), (2360, 0.010292569413669034), (948, 0.0102892958000349), (1009, 0.010275311506898255), (3854, 0.010265742893258626), (1954, 0.010260261738066868), (746, 0.010257519912471522), (2574, 0.010239281894412084), (4327, 0.010236834456337045), (558, 0.010236552383284301), (2759, 0.010235335047729395), (2047, 0.010235218538456122), (712, 0.010233233138225849), (1667, 0.010230884886416405), (3160, 0.010229872983961998), (4534, 0.010216184547719758), (4247, 0.010180303010337198), (2939, 0.010177766026499965), (2975, 0.010175846220023281), (1186, 0.010170308890673167), (4122, 0.010148790049415038), (2003, 0.010147947057727143), (4502, 0.01013897454584132), (1796, 0.01012875160717645), (1493, 0.01012688130403782), (199, 0.01012218166360184), (3872, 0.010121976142188176), (3141, 0.010119961177965814), (1772, 0.01010609915727028), (1360, 0.010103358328036431), (2363, 0.010098661558048823), (4488, 0.010096774322295514), (1680, 0.01008200809510219), (427, 0.010075329138769325), (3418, 0.010074422227127035), (4053, 0.010073084741904596), (3267, 0.01007288494788423), (1545, 0.010072731225191412), (2686, 0.010063811336070465), (2055, 0.010061244122322819), (1521, 0.010058372138481812), (1764, 0.010040015515231517), (3965, 0.010031841599761823), (242, 0.01002834055199231), (1067, 0.01001839595391712), (1058, 0.010016118790705335), (642, 0.010004711551241817), (842, 0.009992070833935631), (1000, 0.009984797372632567), (4475, 0.009982675782929721), (2065, 0.009973484100827986), (679, 0.009972803260309545), (2077, 0.009966002028584811), (2607, 0.009950447838531157), (177, 0.009928125822565413), (3077, 0.00991967672288897), (1215, 0.009914361571420055), (2952, 0.009903393954772646), (4292, 0.009896726022674423), (3579, 0.00988675318167282), (2204, 0.009872507172918763), (2982, 0.009847846809449794), (2933, 0.00983641294621084), (974, 0.009833155726596935), (3855, 0.009828060160316957), (2578, 0.009818375351779146), (565, 0.009810882278989096), (368, 0.009808936107722361), (4460, 0.009808840025547022), (1845, 0.009794859259379821), (4144, 0.009792278655153674), (1365, 0.009780919681884381), (1312, 0.009774608353662742), (2827, 0.009771267478677495), (1430, 0.009767116514504967), (851, 0.009724993530600717), (248, 0.009717443181815295), (1343, 0.009714347258843431), (2548, 0.009705825500973835), (2497, 0.009701280814390508), (4063, 0.009693889482286428), (2921, 0.00968268543701766), (461, 0.009677175610472813), (2132, 0.00967655424780747), (3535, 0.009676491292824817), (3528, 0.009676102471049075), (1042, 0.009673679405000185), (2985, 0.009661259172229703), (653, 0.009658577415655869), (2621, 0.00965815364038496), (4177, 0.00965468648259771), (4232, 0.009650883616339073), (2692, 0.009639835665946629), (4515, 0.009629177790213028), (160, 0.00962798775387757), (147, 0.009604276907138574), (958, 0.009600918990059897), (3001, 0.009589444718925876), (3024, 0.00958155718477904), (1571, 0.009576144448015737), (2635, 0.009575100273377905), (874, 0.009573346382592718), (4193, 0.00955258090093875), (1540, 0.009546058645043872), (2034, 0.009542669424859658), (1784, 0.009538196210819895), (251, 0.009514801001933899), (1795, 0.009497867510428566), (3312, 0.009491377689894944), (1485, 0.009476895753532708), (4097, 0.009476328198759505), (3254, 0.009470527751136942), (802, 0.009468392847164626), (1950, 0.009460935671683308), (645, 0.00946006893793297), (1815, 0.009459582577828635), (1050, 0.00945732911403552), (905, 0.009453017285589404), (4240, 0.009446508575980488), (3708, 0.009435195736907613), (4095, 0.009421054297153335), (4747, 0.009404683379261498), (4207, 0.009391198703948687), (1750, 0.009387408502701962), (4086, 0.009363895872224052), (2076, 0.009362684626131736), (1507, 0.009357950394104364), (38, 0.009338796541247215), (4659, 0.00933799972094526), (2486, 0.009330036127765111), (953, 0.00932587266683805), (4610, 0.009316818107564767), (4335, 0.009307927049844364), (979, 0.009288320664593558), (405, 0.009276816797640789), (510, 0.009258493408339338), (4173, 0.009258430345057137), (1078, 0.009244831247259461), (1737, 0.00923058614593113), (207, 0.00923018083871265), (756, 0.00922378040425067), (3109, 0.009216007072599019), (89, 0.00921386083938455), (309, 0.009212554270823984), (2602, 0.009211158482516562), (1701, 0.009196323126723888), (2066, 0.00919287707729484), (682, 0.009190594958480878), (609, 0.009190113069422624), (2805, 0.0091853451045443), (2147, 0.009184974307265293), (384, 0.009182634447013392), (4105, 0.00917266701584129), (2208, 0.009171513800106916), (139, 0.009168576270621752), (40, 0.009166740332730614), (4707, 0.00915270147791317), (2330, 0.009149182020884893), (2304, 0.009130451122076515), (1260, 0.009115586192190482), (891, 0.00911518944496985), (3208, 0.009096494957801845), (3189, 0.00909151968605665), (656, 0.009091101645017512), (1699, 0.009088059146639517), (2697, 0.009088047816715043), (2054, 0.009086287154246595), (2383, 0.00908617522781865), (1369, 0.009085946101812346), (3756, 0.009080511227495867), (1371, 0.009077463423820169), (1863, 0.009071771448975146), (2675, 0.00907126082001483), (1233, 0.009066726119344871), (4639, 0.00905477171973834), (797, 0.009031017164308501), (3652, 0.0090293842461466), (3192, 0.009027646770861788), (942, 0.009024848117692975), (3129, 0.009024642764169338), (2801, 0.009010662326566865), (3958, 0.009007851607090124), (1932, 0.008985473975853628), (162, 0.008975395596232784), (1681, 0.00897160588030622), (1377, 0.008954942891564675), (4018, 0.008952881631609478), (837, 0.008952463839076566), (1303, 0.00895037795596786), (1989, 0.00891628205695009), (1162, 0.008915333521259764), (1674, 0.008914278319629489), (678, 0.008908634195965237), (971, 0.008906979451798525), (4388, 0.008898786450824816), (3899, 0.008898425862455355), (1557, 0.008891852452605525), (809, 0.008883819910093606), (757, 0.008867418444692325), (3806, 0.008861494764198794), (1431, 0.008860907408975792), (846, 0.008860666822227992), (3209, 0.008849982501076173), (1435, 0.008846898310593286), (3912, 0.00884067023624007), (2627, 0.008839758626352043), (2443, 0.008822305335901722), (4118, 0.008812284085402385), (4656, 0.008811868550916643), (4436, 0.008811781205143511), (528, 0.00881105395876105), (3812, 0.008807595363934237), (2252, 0.008804667123953752), (1425, 0.008802989167606896), (3586, 0.008794468776833219), (2398, 0.008792808465706627), (3768, 0.008781035653916953), (4727, 0.00877866663396807), (1342, 0.008771437621127545), (131, 0.008767068525912365), (4094, 0.008757740014331812), (2316, 0.008752984416659764), (1705, 0.008750649994565748), (1930, 0.008747680521680335), (1282, 0.008736304096888746), (2449, 0.008709405838567936), (4289, 0.008697619721841509), (2636, 0.00869586161994329), (451, 0.008690742724391784), (3427, 0.008686050172817972), (315, 0.008679978444699856), (3983, 0.008677362098324216), (938, 0.008673878209661699), (3926, 0.008667269053406338), (1417, 0.0086654860296215), (4310, 0.008662131023196911), (785, 0.00865849196201227), (4233, 0.00865522733096286), (4070, 0.008654957043416872), (4265, 0.008648319817216784), (3905, 0.008643981597524214), (654, 0.008612816300471525), (259, 0.00860381646326923), (1104, 0.008601203700376453), (3334, 0.008597871395130158), (4708, 0.008587269120206706), (438, 0.008587166205629842), (1393, 0.00858047291657218), (143, 0.008572379468110052), (535, 0.008538315773417763), (3945, 0.00852990697711585), (201, 0.008525896534351117), (1757, 0.00852447192229808), (322, 0.008521078864646807), (1857, 0.008518900946876417), (1459, 0.008517699816071362), (1047, 0.008514077903305935), (1432, 0.00851216597822359), (1024, 0.008511194476702308), (1536, 0.00849768247482022), (224, 0.00849346358320735), (3685, 0.008489284802317719), (1005, 0.008485120646656023), (1949, 0.008471874763627651), (3507, 0.008471262805546593), (4486, 0.008470198133459736), (4218, 0.008464384405971161), (2944, 0.008458358043620636), (2239, 0.008440927744954356), (4073, 0.008434213587911701), (1846, 0.008429707360706801), (2519, 0.008429176317226962), (1735, 0.00842730405454573), (1861, 0.008414558152357681), (2235, 0.008397050425702199), (49, 0.008387616611658601), (869, 0.008378503358652345), (3645, 0.008367405847926283), (556, 0.00836479372516204), (4093, 0.008359134521824699), (2245, 0.008358003558509443), (1832, 0.00834594818107077), (2788, 0.008319403353170112), (4752, 0.008296761066253534), (4438, 0.008296156649499004), (1207, 0.008266949826895936), (3245, 0.008256533426289781), (713, 0.008238480035922948), (1945, 0.008233834478261913), (1471, 0.00823216454249292), (2994, 0.008224781460538635), (45, 0.008212675026080637), (494, 0.008209314187124893), (1388, 0.008207384481550457), (4184, 0.008205149272420251), (1818, 0.008200135964722681), (560, 0.008196515865083583), (1787, 0.008195893535956986), (4171, 0.008185949963804742), (859, 0.008179688007267136), (1256, 0.00817036682370644), (931, 0.008166160462420656), (1455, 0.008161872226879219), (1895, 0.008151633366478526), (1783, 0.008142076938563057), (3133, 0.008133610504928406), (2336, 0.008125934926952882), (3570, 0.00812067544419695), (2205, 0.00809992518515985), (81, 0.008096594790063834), (702, 0.008096028686671017), (1086, 0.008082341620479907), (1986, 0.008081700774498343), (3121, 0.008081366553060632), (492, 0.008079122092231128), (2699, 0.008073032574124317), (2825, 0.008072761734739675), (3966, 0.008070451389324596), (2327, 0.008067915342840841), (1899, 0.00806705663619561), (1649, 0.008064612441464931), (2120, 0.008063487961159329), (1180, 0.008060201023008048), (1457, 0.008058666065957633), (1673, 0.008055920379054029), (3508, 0.008042045076498477), (710, 0.008038993813890647), (3718, 0.008024073155034232), (1610, 0.00801177823651396), (9, 0.008007861686693426), (3321, 0.008006567481524795), (539, 0.007996520662265028), (1406, 0.007986615149872735), (2584, 0.007978919581278441), (2315, 0.007975995518538547), (306, 0.007972834352814413), (2274, 0.00796213750067528), (1157, 0.007939739766941463), (1270, 0.007933080831715773), (569, 0.007928802495730474), (3244, 0.007926966169230987), (3531, 0.007926058326655312), (825, 0.007925558032220344), (4186, 0.007921247722557513), (4600, 0.007919048136134789), (2203, 0.007918185893612371), (1714, 0.007911569170892082), (2007, 0.007898530904267384), (108, 0.007898126987266094), (1063, 0.0078956001192601), (338, 0.00789489655412627), (2135, 0.007891184324455304), (511, 0.007880947368821846), (2918, 0.007872895780620259), (3582, 0.007872305405110455), (4543, 0.00787109878649007), (915, 0.00786336162349815), (1125, 0.007852679710379302), (138, 0.007846350179369518), (1230, 0.007843592326019125), (2043, 0.007836071379295538), (1231, 0.007830646442170984), (4109, 0.007829799805379574), (367, 0.007828397051968257), (3247, 0.007826286423756743), (1657, 0.007815337593860707), (2206, 0.007810945761177743), (4481, 0.0078077186863497825), (2897, 0.007805451468091853), (898, 0.007795295803274202), (4437, 0.007783818150999688), (2005, 0.007781007439127512), (2962, 0.00777631559785504), (740, 0.00777014323079544), (144, 0.0077657867557605785), (1630, 0.007753811523601058), (577, 0.007750116792274429), (2751, 0.007749293280831968), (3794, 0.007739989135613925), (191, 0.007720739985483521), (2929, 0.007717736881715851), (1054, 0.007716352017957032), (1384, 0.007701590360698219), (3082, 0.007696333043051641), (4110, 0.007679981019913846), (2184, 0.007676314864374598), (820, 0.007643850972563569), (2074, 0.007639312709471622), (912, 0.007609204479793953), (3280, 0.007608069916810131), (1405, 0.007607597179439744), (545, 0.007601669851248167), (202, 0.007600244756389828), (1090, 0.00759166283189874), (417, 0.007590545269620717), (532, 0.00758819545254336), (2742, 0.007587144785942147), (2874, 0.0075843414815822685), (1509, 0.007583726145978362), (3775, 0.007583424695115056), (3118, 0.007583354094548128), (2119, 0.007580690744555338), (4325, 0.007579621606573211), (2429, 0.007575042674949518), (1482, 0.007563765978449113), (520, 0.007560874630354816), (2324, 0.007559025220030968), (745, 0.007555474974034925), (4468, 0.0075554099621003255), (1789, 0.007545952892502958), (2460, 0.007541292189681193), (4165, 0.007535899211556346), (4035, 0.007529393036292702), (3711, 0.007529102949142461), (4353, 0.007514823648543012), (2539, 0.007511937266572748), (2110, 0.007497733733153162), (2791, 0.007494398494747253), (4235, 0.007487447934019317), (1698, 0.007474511509313127), (1259, 0.007469040722214899), (2822, 0.0074680786546876985), (1850, 0.007463772571637993), (4164, 0.007462883931072417), (3860, 0.0074091439038516185), (2424, 0.007406944198184999), (1745, 0.007406606169383104), (1309, 0.007406001338082536), (1567, 0.007402427884181893), (394, 0.007395183785496407), (1523, 0.007392801114778442), (3693, 0.007383201677714789), (1816, 0.007366310866468368), (288, 0.0073487757920832515), (1639, 0.007325627437745379), (664, 0.007325127940611164), (3070, 0.007299674831930385), (2114, 0.007285098997529008), (2833, 0.0072840216142491), (75, 0.007268073184721193), (58, 0.007255738881815629), (1694, 0.007255440131483397), (314, 0.007253878133614821), (47, 0.007253356602653081), (64, 0.007247539174537346), (640, 0.0072442024698020045), (4450, 0.007243928401882194), (3484, 0.007196378995215799), (2388, 0.007192736743247418), (1213, 0.007178425230950586), (1797, 0.007164180833000167), (4553, 0.007145418266957319), (1194, 0.007139720141905422), (2025, 0.007138283094173013), (862, 0.007119108860832933), (1348, 0.0071180365801541915), (1296, 0.007112212008860378), (2971, 0.007110364313482794), (2331, 0.007099965808464042), (4096, 0.007079591818046918), (86, 0.007027813243804151), (1646, 0.006962567274510999), (1781, 0.006953094149133779), (2013, 0.006894532100132508), (2078, 0.006882080466246034), (2734, 0.006877727162914367), (2022, 0.0068627207085815555), (1214, 0.006852208640523811), (3713, 0.006813218131769036), (2326, 0.00679487908240793), (926, 0.0067492251488620045), (3045, 0.006748337873435997), (2555, 0.006662250719193535), (435, 0.006626286476260609), (2524, 0.0065848001945231814), (3391, 0.006530735620052418), (3356, 0.006526646663479912), (668, 0.006465026705306106), (3144, 0.006443103542624981), (1320, 0.006414878240273827), (561, 0.006381024561831173), (2614, 0.006361432752814864), (2671, 0.0063557487808579135), (844, 0.0063147767323046364), (369, 0.006254083243179482), (2809, 0.006166732138393008), (553, 0.006153864773834884), (4261, 0.00606282860260009), (3456, 0.00590998116862646), (0, 0.00587261476331117), (3750, 0.005851686647251201), (1442, 0.005800151526150203), (4719, 0.005673460711612521), (3240, 0.005661452096789097), (1019, 0.005559485418012377), (3137, 0.005437630374850189), (3932, 0.005403623671497441), (788, 0.005379207649142427), (3325, 0.0052336960894327775), (3534, 0.004837651831303539), (2678, 0.004770729147797737), (3552, 0.004764253624510176), (611, 0.00470639005295663), (2299, 0.004684313701759013), (3178, 0.004631425687564098), (3512, 0.004491871242562191), (3276, 0.0044219398607563565), (2998, 0.004397686527090822), (3925, 0.004360228458551747), (4607, 0.004253714643366445), (2529, 0.004252244412307089), (2379, 0.004227572955711213), (2490, 0.0042220834509773845), (3051, 0.0041785021875711025), (2764, 0.004173388104039719), (3672, 0.004162513828017424), (2858, 0.004152042594178134), (2137, 0.004151810818641354), (3139, 0.004147378563718784), (4082, 0.004138191635946862), (2722, 0.004112276689816527), (2189, 0.004112002994426053), (3166, 0.0040633267193800485), (2349, 0.004055918156841284), (1145, 0.004050703014205025), (2407, 0.004049237757311987), (3990, 0.004043317737146379), (2889, 0.004032524241918498), (4704, 0.004001822739333496), (3052, 0.004001159097086473), (735, 0.0040000037246168026), (3055, 0.003986070838958984), (2775, 0.003976745098192731), (4017, 0.003975136569662455), (2870, 0.003971060924701301), (3561, 0.0039710044410797354), (3030, 0.003968359850102981), (627, 0.003966554872352831), (2883, 0.003964086575516241), (3635, 0.003960476939475303), (2923, 0.003946881449237799), (3291, 0.00393651137903847), (2731, 0.003932065041090527), (4749, 0.0039312641235274325), (4222, 0.003928650517958214), (4529, 0.003927632078994617), (2310, 0.003916589770660395), (4221, 0.003916510832243011), (4484, 0.00390562507874936), (4611, 0.0039045464749432935), (2694, 0.003902028726104568), (3939, 0.0039015305036522985), (2861, 0.0038827638000607954), (2655, 0.0038820164247120596), (4172, 0.0038726204344677237), (2559, 0.003850801119366528), (3878, 0.0038500426456645133), (4418, 0.0038472563423685015), (2832, 0.003844306150492872), (4444, 0.003837260003089759), (2628, 0.003834738754152827), (2392, 0.0038247677252776814), (3762, 0.003816307650248972), (3892, 0.003808025311363441), (3282, 0.003798917532837747), (4019, 0.0037973618269247457), (2425, 0.0037965170514612243), (2643, 0.003788512582108717), (4546, 0.003786462827677675), (2255, 0.003779327089280889), (2257, 0.0037714599695300773), (3322, 0.0037700834738500083), (3262, 0.00376919111704006), (2901, 0.0037609938773819213), (4230, 0.0037533685906917494), (4142, 0.0037451579894694983), (2838, 0.00374361587792745), (2286, 0.003743561132583192), (1208, 0.003734630677213849), (4400, 0.003734236167736266), (2530, 0.003723153450966833), (3015, 0.003712022759384712), (4606, 0.003708523294406646), (2306, 0.00370616775741432), (3239, 0.0036932050984538342), (3128, 0.003692594354266794), (3354, 0.003688062345536093), (3140, 0.003686550335583209), (526, 0.003683582933048495), (1711, 0.0036734450813053323), (1121, 0.0036699896566766), (3687, 0.0036587617442557945), (4692, 0.00365660012340573), (4521, 0.003656346402717556), (4544, 0.003654289171915738), (4612, 0.0036467381415955934), (3616, 0.0036427385257927244), (3357, 0.0036411849689575258), (2834, 0.0036342158398356013), (3537, 0.003633386440455788), (2557, 0.003633036149174397), (3159, 0.003625484996823934), (4306, 0.0036215930263734505), (4107, 0.003617103085277734), (3922, 0.0036161801745431834), (3613, 0.0036131333071439914), (4660, 0.0036122198727105647), (670, 0.0036100657528758606), (3521, 0.0036087948657532974), (2266, 0.003606939887100748), (4572, 0.0035951452770505315), (3074, 0.0035939698172016104), (4443, 0.003588492915255731), (326, 0.003587408025924383), (2797, 0.0035854671375773286), (2568, 0.003582667634926132), (4723, 0.0035815952707566935), (3031, 0.00357833141162172), (3832, 0.0035760982338105336), (2848, 0.0035756179480619247), (3123, 0.0035730624225454722), (402, 0.00357102925926043), (3302, 0.003569117410876476), (2879, 0.003567467956623212), (4147, 0.0035668379695908414), (3544, 0.00356574421285777), (2459, 0.0035654720042457965), (1655, 0.0035632924285418253), (2966, 0.003561040671736182), (3358, 0.0035563165764508956), (3020, 0.0035561769060263376), (3228, 0.0035549566713666946), (2415, 0.0035545356285831904), (1593, 0.003549982541061518), (4062, 0.0035480228188278645), (3206, 0.0035441903075676944), (2778, 0.0035420700894415865), (3779, 0.0035372628353273223), (2454, 0.0035372506655322734), (3901, 0.003532772221694548), (3257, 0.003529696050665818), (2619, 0.00352764319999307), (3413, 0.0035184745683722227), (2895, 0.003506320868758286), (489, 0.003504210946327742), (4458, 0.0034936799049072064), (4701, 0.0034912785220895864), (949, 0.003484321748884124), (1049, 0.0034735117319280623), (2772, 0.0034700120495207753), (2769, 0.0034575684916778745), (2738, 0.003456917059769911), (4632, 0.003453514562062132), (3763, 0.0034522980248952837), (3935, 0.003451775549620016), (4416, 0.0034481071307324476), (2570, 0.003447729382124839), (2378, 0.0034473781876337164), (3621, 0.0034469654563565335), (3745, 0.0034458929161197732), (4633, 0.0034426065168815688), (1792, 0.003442471438427815), (2089, 0.003442091504318577), (4694, 0.0034418770613266142), (4145, 0.003441009070629605), (2707, 0.0034380306631454543), (518, 0.003434139139302366), (1885, 0.0034322926041036378), (4412, 0.0034314644925474203), (2417, 0.0034298100221102413), (1748, 0.0034296419831072876), (4030, 0.0034286754621362004), (4589, 0.0034286583732554415), (1169, 0.003428373569137064), (3094, 0.0034275565565396893), (4032, 0.0034181142573609003), (4075, 0.0034180503560228446), (2142, 0.0034164345667045035), (1547, 0.0034117643187720446), (3359, 0.003409066031837952), (2696, 0.003405231084648283), (3072, 0.0034046637280097753), (3307, 0.0034027056260836565), (1947, 0.00340056064196695), (3754, 0.0033971752657905654), (4163, 0.0033962147356365975), (3729, 0.0033948312865808208), (3425, 0.003394198587758438), (4713, 0.003391034419572792), (4398, 0.003384907084453478), (3230, 0.0033818765979533195), (2987, 0.0033817964187864416), (448, 0.003381168819232414), (3419, 0.0033805388972281657), (3396, 0.0033788300044101734), (823, 0.003376495381232252), (4650, 0.0033758710138751587), (2872, 0.0033719356937143563), (925, 0.003368237575778448), (3165, 0.003364558652559113), (2478, 0.0033627833489323646), (2560, 0.003362036490658548), (614, 0.00336097776520951), (3952, 0.003359308556696499), (4516, 0.0033590619688452167), (1656, 0.003358448369462972), (3903, 0.0033553046712061965), (2796, 0.0033523429293879615), (985, 0.0033509355012343815), (2702, 0.0033480153906301465), (1924, 0.003346590166919069), (4117, 0.003343892526647237), (1497, 0.0033431533817268474), (3661, 0.0033408869218138912), (4753, 0.0033402462336141244), (4243, 0.0033348118343568644), (3296, 0.003331722148374237), (2223, 0.00333066994208845), (2051, 0.003328189165867248), (2302, 0.003327202985172477), (2629, 0.003325270300770095), (2437, 0.003324930745951842), (1909, 0.0033248947647486877), (107, 0.003322339367046667), (2893, 0.0033219208048498178), (3186, 0.0033214631492754485), (998, 0.003320781703619544), (999, 0.003318063875240838), (2881, 0.003317654852120306), (2411, 0.0033169889064620663), (3148, 0.0033166302144964806), (4731, 0.003316617946783376), (2623, 0.0033162177885785417), (2936, 0.0033160238753450855), (4092, 0.0033150092441866807), (2914, 0.003312876477640933), (3680, 0.003312499121410468), (4494, 0.0033092862873627072), (1383, 0.003306710284459061), (235, 0.0033063522716559593), (3013, 0.003304519039547349), (1349, 0.003300605311760088), (3587, 0.003299801869424189), (2740, 0.00329823564719247), (1023, 0.0032927671800866073), (3560, 0.0032913725085521404), (3962, 0.003289936434060934), (2974, 0.003288848079519274), (922, 0.003286518506984808), (4718, 0.0032853367815349702), (3196, 0.00328480627105102), (4160, 0.003284331118377847), (2579, 0.0032834833867492206), (596, 0.003282170560103641), (2916, 0.0032811741628014637), (1499, 0.003279165551878916), (3032, 0.003278872995842237), (4535, 0.003278709578516205), (436, 0.003277416611255384), (4396, 0.003277356546110378), (2134, 0.0032765749477346295), (308, 0.0032756700458405857), (2356, 0.003274663427391546), (2436, 0.0032740138559311286), (3737, 0.003270957619703828), (4051, 0.0032681016728912326), (3804, 0.003267697945244321), (2840, 0.0032671303938598037), (3248, 0.0032669563669065387), (3877, 0.0032614944953184267), (3273, 0.00326122524280771), (2209, 0.003261203007123064), (2782, 0.003260824989635477), (3157, 0.0032604987434851243), (4397, 0.003260129104542835), (41, 0.0032595250316035692), (4593, 0.003257322130980834), (4706, 0.0032544542040404316), (3003, 0.0032541111755811114), (4259, 0.003253808993328965), (4113, 0.003253631935509065), (2108, 0.0032513324034488243), (1109, 0.0032481970866512547), (3062, 0.003247633466320059), (4138, 0.003246952008628207), (2535, 0.00324671596514186), (1960, 0.003243328247357058), (1658, 0.0032431624716158566), (2592, 0.0032429559839091864), (3967, 0.0032382535093460553), (4042, 0.0032353931494703246), (857, 0.0032348039158445543), (62, 0.003234140900933322), (2428, 0.0032327655470873987), (715, 0.0032324909844870914), (1580, 0.0032324033723873827), (3417, 0.003226315339019773), (371, 0.0032234038985637296), (587, 0.003221623152726108), (3116, 0.0032189804446246043), (4602, 0.0032139531608548896), (4308, 0.003212424486347309), (1733, 0.003211890370205448), (4046, 0.0032113367785757104), (2390, 0.003211282141293326), (3183, 0.0032077533287206503), (4601, 0.0032062811786490453), (3714, 0.0032018537655419347), (318, 0.0032012662108481553), (4140, 0.0032006341601034088), (1866, 0.0031986018314956594), (4101, 0.0031972121781354574), (4732, 0.00319503919227602), (4133, 0.0031941076913986257), (3749, 0.0031939426654111302), (1905, 0.003193644653993415), (2293, 0.0031930306722110155), (4522, 0.0031923093799423245), (1805, 0.0031915580532745095), (4013, 0.0031892540776908914), (350, 0.003189044702276033), (499, 0.0031878929676129996), (3064, 0.0031874621315749678), (2915, 0.003185561925702757), (2748, 0.003185399781942893), (3258, 0.003185333268440861), (4087, 0.0031843954661063827), (2882, 0.0031831909155924936), (2507, 0.003182126974820773), (8, 0.003181298470234406), (2595, 0.0031772373008735694), (1897, 0.0031761075290626757), (3771, 0.0031728295799226323), (2705, 0.003171820958643436), (1959, 0.0031687116483871823), (952, 0.0031665706648416354), (4734, 0.0031657013412032834), (3704, 0.0031655889042365684), (3449, 0.0031654202587369992), (3271, 0.003165137549412676), (3893, 0.003164552224956858), (4024, 0.003163377565552161), (2116, 0.003161574361506885), (3757, 0.003159905868874457), (728, 0.003159473739941435), (2190, 0.003157544462434173), (4579, 0.0031574510808075663), (2776, 0.00315495505225767), (3692, 0.0031540254666782637), (4132, 0.0031530948348753767), (2475, 0.0031502344695208467), (1995, 0.0031498555966044096), (4540, 0.0031475628169895836), (4245, 0.0031473041942434794), (3184, 0.003146306630319048), (1708, 0.0031462450654504304), (1798, 0.0031447405900439413), (3496, 0.0031443547830446944), (4269, 0.0031420985664801686), (2723, 0.0031416401062135716), (4371, 0.003141275842040401), (3781, 0.0031386419836250375), (4495, 0.0031376393377001164), (872, 0.003136015394725111), (4111, 0.003135903469088476), (1409, 0.003133862684072547), (2725, 0.0031328172733992156), (4431, 0.0031327404199442584), (3873, 0.003132279559628136), (4680, 0.0031320227604740244), (1712, 0.003131156857678294), (2940, 0.003130984596401367), (2964, 0.0031302726663113485), (2712, 0.003129841570235652), (3007, 0.003129431599425598), (12, 0.0031281756116451507), (2609, 0.003124486101674955), (826, 0.003124103942500977), (3601, 0.0031240828939741675), (2151, 0.003123213639014147), (2664, 0.003122962549800766), (3235, 0.003122775633918245), (4357, 0.00312254788465672), (2970, 0.0031223480910657114), (1619, 0.003121745987151477), (4355, 0.0031207224894793154), (3987, 0.0031199421256232385), (2105, 0.0031193026281239036), (4175, 0.003119192531699643), (3434, 0.0031164155240953574), (3678, 0.0031163409918769968), (680, 0.0031152914800404246), (3590, 0.0031116797542817642), (623, 0.003111179960548176), (493, 0.0031101886093940546), (208, 0.0031099603238923957), (1951, 0.0031079490419372207), (1896, 0.0031075936209915703), (3314, 0.003106772536440921), (4054, 0.0031061149845819603), (3618, 0.0031050503132541846), (2792, 0.00310346615511591), (4505, 0.0031006866501503984), (2953, 0.0031006291047843766), (4575, 0.0030994334976650103), (1685, 0.003099275436586199), (2288, 0.0030984645686281216), (2755, 0.003097509653605543), (4052, 0.0030959500377922057), (2610, 0.0030957717480113735), (4318, 0.0030953875692994602), (1822, 0.0030922621692212335), (3037, 0.0030920705233480716), (4, 0.0030907834083147806), (1893, 0.0030896442148058293), (4420, 0.0030888362616246), (4566, 0.003087997531432592), (1400, 0.0030878374223213935), (1916, 0.003086912453453192), (2394, 0.003086643493958199), (1075, 0.0030858423319262765), (783, 0.003085806648262001), (2385, 0.003085319737651154), (1007, 0.0030838549750770742), (3511, 0.0030835192552235192), (1670, 0.003083148237582225), (3882, 0.003082997308875706), (3187, 0.0030826185609703198), (178, 0.0030815415002194836), (3654, 0.003080770598873393), (1570, 0.00308069474845587), (2419, 0.003077559786651302), (3372, 0.003076489220017268), (2633, 0.003075317175721243), (4225, 0.003075001938075032), (1188, 0.0030746295000474246), (716, 0.0030718025570648736), (4624, 0.0030717396277597153), (1192, 0.00306913489274519), (2088, 0.003069077417879745), (564, 0.00306890886254787), (4363, 0.0030680456608206935), (255, 0.0030674936609811697), (1439, 0.0030671237853642642), (4430, 0.0030669843702478645), (3493, 0.0030660058840853116), (2640, 0.0030649882862332396), (4354, 0.003064390745752381), (2926, 0.003063536104524032), (3770, 0.0030632529757212497), (1006, 0.0030604011028375236), (660, 0.0030599185259510557), (3599, 0.0030585803032382917), (4083, 0.0030582537062521504), (3514, 0.0030581203242974722), (482, 0.003057548280896235), (3351, 0.003057288187507004), (2561, 0.0030561021680535405), (4629, 0.0030558488437017815), (890, 0.003055098499225296), (4419, 0.0030538291392147006), (1475, 0.0030537727833991244), (2545, 0.003051906929340708), (2370, 0.0030518583884523126), (4136, 0.0030515811773313205), (3224, 0.003049792852794374), (1851, 0.003049679598029657), (2911, 0.003048694237857111), (1083, 0.0030478451269172297), (4361, 0.0030476630790948634), (3353, 0.0030454330799074836), (1048, 0.0030440545374785565), (1364, 0.003041690459409176), (4625, 0.0030415611573066338), (3349, 0.0030391233699844106), (4025, 0.0030390182246910593), (1124, 0.003036974005710303), (4079, 0.00303667140619509), (2744, 0.0030359376185135623), (2072, 0.0030353991765190605), (774, 0.0030352143130415554), (2123, 0.0030320435119649877), (3689, 0.0030299420430783728), (1765, 0.0030296987040185973), (4340, 0.0030296735994608257), (3527, 0.0030280275441319656), (4334, 0.0030276160188657405), (980, 0.003027537597436787), (4422, 0.003027161504899767), (3198, 0.0030261116969434523), (4249, 0.0030224566515136653), (3623, 0.003021849783435289), (2863, 0.0030203634725637367), (4470, 0.0030201078076426253), (3636, 0.003018793054835957), (1494, 0.0030177680258011612), (1516, 0.0030168050219841927), (2048, 0.003015027046916546), (3290, 0.003014594430174129), (3233, 0.0030135743347671374), (4643, 0.003013200795611746), (1860, 0.003012564624684606), (631, 0.003011903593413782), (1946, 0.003010149556184504), (3016, 0.0030072253634764595), (1294, 0.0030071620230378597), (4563, 0.0030038146573961805), (3701, 0.0030031078750024794), (4098, 0.0030026924032358826), (1254, 0.0030022245186449507), (3809, 0.003001300644031124), (71, 0.003000999925685469), (3445, 0.0030000087969769937), (1355, 0.0029997826534079474), (2977, 0.0029993577369998243), (4533, 0.0029980079874934672), (3526, 0.0029978472411879464), (4273, 0.0029976246386612436), (3542, 0.0029971407773489896), (3571, 0.002995410677671671), (2386, 0.002994895041660609), (1174, 0.0029946544272695702), (1931, 0.0029929462964678726), (1077, 0.0029926412551662326), (933, 0.002991655141585153), (1176, 0.002990166504484994), (1182, 0.002988709780872891), (406, 0.0029886958706491352), (593, 0.002987822524746174), (3113, 0.002987765406033491), (238, 0.002987708887838799), (1688, 0.0029870686319860102), (3606, 0.0029867502889540133), (4283, 0.0029859943700383047), (2073, 0.0029854740992203877), (750, 0.002984328462553961), (3182, 0.002984050038890964), (2292, 0.0029835008317452604), (3707, 0.002981391421440525), (2155, 0.002980536265557217), (832, 0.0029784936634104364), (1087, 0.0029781086257646603), (3501, 0.0029776400023967162), (3643, 0.002975896408775772), (353, 0.002975103460419457), (4049, 0.0029729526104774746), (1413, 0.0029729158705136057), (1204, 0.0029720939857662285), (4135, 0.002970878696926251), (2091, 0.0029701012360075383), (579, 0.0029694615283372998), (2277, 0.0029694245251640572), (2374, 0.0029687663447145363), (2887, 0.002968175437264695), (2647, 0.0029669076907067175), (4014, 0.0029638940791016162), (1138, 0.002963221138610462), (1872, 0.002962783297012822), (4677, 0.0029607629355871325), (4501, 0.0029595330708432313), (636, 0.00295838939124069), (1722, 0.002958104991616736), (1510, 0.0029572644776883748), (3551, 0.002956523194831637), (1574, 0.0029560819267853053), (2193, 0.002955976242293872), (4266, 0.0029558958836820868), (2144, 0.0029547865044831866), (3227, 0.0029536049017770466), (628, 0.0029534154310158316), (2109, 0.002952845170108066), (897, 0.002951607240329605), (993, 0.0029508732465320835), (2192, 0.00294999267251915), (2606, 0.0029495601808829874), (2169, 0.0029482645088875392), (3436, 0.002948163154625389), (2783, 0.0029479928624503416), (104, 0.0029478222404465274), (2492, 0.0029476629322551517), (4686, 0.0029471880999447386), (504, 0.002947032260109219), (2067, 0.002946941128362521), (3541, 0.00294665502256906), (2533, 0.002946242341433235), (1876, 0.0029461572496685133), (3125, 0.0029437982942008213), (378, 0.0029418749160268366), (3491, 0.002940829383781445), (1131, 0.002939105158493312), (3341, 0.002937532319586197), (4715, 0.0029368864449017657), (1488, 0.002936694262047533), (4640, 0.0029347466558591606), (1170, 0.002932620415992314), (2354, 0.002932249693857818), (749, 0.002931090125587742), (4330, 0.0029309627761622244), (761, 0.0029297642296376237), (3478, 0.0029293360048133683), (2495, 0.002929070220852154), (1179, 0.002928922942540588), (1163, 0.0029241662354642494), (2387, 0.0029229590544432474), (3665, 0.00292235796668513), (4320, 0.002921889924781172), (4016, 0.002921264258622595), (2900, 0.0029200139248026485), (2943, 0.0029188011060985192), (1021, 0.0029178559319815436), (1112, 0.0029176164366414518), (3673, 0.0029174655610020254), (1612, 0.0029170002770957135), (3216, 0.002915040343697575), (1298, 0.0029131004028761626), (2999, 0.0029127185263099703), (4409, 0.0029120002214878676), (3299, 0.0029108176353429705), (346, 0.0029107720306230747), (2289, 0.002909044205367285), (1102, 0.0029073007333183906), (1811, 0.00290577227355639), (3727, 0.002904403678824459), (400, 0.002902433696189967), (490, 0.0029007117268769526), (4520, 0.0028998474975747857), (348, 0.002899788093913127), (3565, 0.0028990762882618536), (247, 0.0028963743113847745), (2569, 0.0028945272731978676), (1500, 0.002894327342404357), (4228, 0.002894019982696727), (3067, 0.0028938596322544575), (1598, 0.0028916718941819058), (1666, 0.0028887313157670963), (2416, 0.002887075918830362), (867, 0.0028869862792365846), (1313, 0.0028865807616841616), (4668, 0.002886372851506087), (973, 0.0028860180475711542), (3173, 0.0028848463554959547), (2173, 0.0028845508934734606), (3093, 0.002882870520438094), (2946, 0.0028828367101679975), (3195, 0.0028827381495005085), (3906, 0.0028820964061698853), (3647, 0.0028820832315816333), (2687, 0.0028819968456911945), (1100, 0.002880848733903491), (4349, 0.0028804428460867727), (2463, 0.002879406306356714), (169, 0.002878049335038529), (727, 0.0028780101606116697), (3499, 0.002877736581962952), (4685, 0.002875946599435389), (4284, 0.0028742171814084834), (1319, 0.002873963286439667), (1807, 0.0028733136786543746), (3046, 0.0028730772004945584), (2980, 0.0028729257116602764), (3557, 0.0028725779767908776), (3827, 0.002872138898826108), (3379, 0.0028719387153382614), (1286, 0.0028717668328621087), (1882, 0.0028701169148501525), (2111, 0.002869398792272022), (4362, 0.0028682644148885317), (2945, 0.0028674413416942797), (4530, 0.002864863587026973), (2226, 0.0028643679791141193), (2802, 0.0028643648630571968), (4687, 0.0028642893983110325), (3220, 0.0028629363307816204), (3447, 0.0028624217074012946), (4036, 0.002862218311422753), (2632, 0.002860473736041223), (1617, 0.00285979077736527), (3719, 0.0028591893627954203), (3706, 0.0028588178310758614), (4743, 0.0028582054188726258), (446, 0.002857583044584856), (3412, 0.00285693139969679), (2909, 0.002856924271537885), (1350, 0.0028534222953300126), (1422, 0.0028521533944995204), (693, 0.00285109445574182), (1096, 0.0028498353828103817), (4395, 0.0028497817481589944), (755, 0.002846803838980743), (3765, 0.002845501598561609), (4693, 0.0028454670078408716), (4576, 0.0028452013559104837), (3075, 0.00284497818905909), (522, 0.0028434998713978647), (292, 0.0028420804222144278), (4183, 0.0028411655518386326), (4381, 0.00283987014370053), (4550, 0.0028398080355518554), (4573, 0.0028397386096869663), (1245, 0.0028395029273559674), (4129, 0.00283538530655785), (3890, 0.002834007322149813), (488, 0.002833397832864144), (3028, 0.002830749747191465), (167, 0.002829904228739932), (4336, 0.0028294800289357033), (4069, 0.002829418174446549), (1247, 0.002829331766522601), (2268, 0.002829085648719884), (3641, 0.002829084715173164), (4139, 0.0028287243370013907), (1969, 0.0028269522775461174), (2653, 0.0028267632536711947), (1060, 0.0028263061726838865), (19, 0.002826289701550506), (2467, 0.00282622180257549), (2027, 0.0028256555048381963), (3696, 0.0028249768046800417), (2642, 0.002822282473328709), (2716, 0.0028215893902058696), (923, 0.0028210092935245625), (4461, 0.0028200308182440063), (3917, 0.002817867544882897), (1864, 0.002817485034259703), (3900, 0.002816819027164976), (3487, 0.0028164536132854563), (3826, 0.0028161832774942475), (1117, 0.0028140743114343945), (4729, 0.0028137755744139245), (620, 0.0028135177600278837), (1020, 0.0028103660142438564), (2117, 0.0028098516365757274), (3503, 0.002808938278029858), (1446, 0.002807172684852455), (4670, 0.0028060125360327786), (2367, 0.0028040336051611886), (4523, 0.0028022183503225357), (852, 0.002802124837831286), (731, 0.002802116449508324), (1027, 0.0028011192603275624), (2141, 0.0027998984532759588), (4567, 0.0027996781700045394), (4536, 0.0027986604845260856), (2309, 0.0027982548335167426), (883, 0.0027982439292663034), (4614, 0.002798030073962813), (3214, 0.0027966031635552595), (2779, 0.0027963860146769702), (3268, 0.0027958480218162897), (1877, 0.0027952887139345585), (3122, 0.002794491485741987), (356, 0.002794158446459186), (1929, 0.0027925954768147636), (2540, 0.002791877247862836), (1001, 0.002791875843060773), (1002, 0.002791052117996638), (3151, 0.0027903937743205156), (3733, 0.0027899101659083427), (157, 0.0027898705116993685), (2473, 0.002789801445642011), (29, 0.002789561729610087), (2121, 0.002788766583423695), (3035, 0.0027886983258612716), (3784, 0.0027882335969694606), (4085, 0.0027880609097031524), (1273, 0.0027878956182327452), (3691, 0.0027873926162294057), (3170, 0.0027867865959345216), (4213, 0.0027854742575205145), (3036, 0.0027850365381351058), (2765, 0.0027844437681657083), (2068, 0.002783548093582114), (505, 0.002782806108586099), (644, 0.0027827373581553534), (4206, 0.0027825243709348477), (4428, 0.0027815494905500454), (3898, 0.002779828820599372), (437, 0.002779530941551202), (3799, 0.0027767704964865975), (2995, 0.0027762730833775498), (911, 0.0027751985341203517), (2572, 0.0027748734534644047), (2679, 0.002771930202785761), (203, 0.0027717179660145196), (698, 0.0027715118560603345), (2651, 0.0027714914455484675), (2133, 0.002770720325782821), (1742, 0.0027697700046483823), (1404, 0.0027689959097818625), (2997, 0.002768757541425598), (1759, 0.002767804301535859), (2800, 0.0027675757427087656), (966, 0.0027658046527695695), (3194, 0.002764906651656665), (116, 0.00276471242211363), (3954, 0.002764640943584323), (3734, 0.0027628673127760577), (2303, 0.0027627508685447062), (387, 0.0027627026878690943), (2972, 0.0027611797196430117), (1663, 0.0027596413151113478), (4257, 0.0027595119469516413), (2348, 0.0027591885786612392), (3615, 0.0027585202445938716), (2525, 0.002758384500735785), (31, 0.0027549494714499373), (2004, 0.0027531930287708617), (507, 0.0027505581376778498), (4254, 0.0027505034001232462), (1203, 0.0027503929829906302), (154, 0.002749641914107577), (3057, 0.0027480111591989035), (1372, 0.0027478889238907738), (307, 0.002747695681583238), (903, 0.002745859533593504), (140, 0.002743987392534079), (941, 0.00274360791576382), (734, 0.002743402387639494), (279, 0.002742317136041297), (212, 0.0027414019940202633), (2496, 0.002739435191769955), (1206, 0.002738378199182707), (963, 0.002738208688931469), (2099, 0.002737981868461948), (1884, 0.002737952634198796), (2634, 0.002737115882987074), (2149, 0.002737009866534213), (3399, 0.0027367661781224654), (471, 0.0027355705624335087), (4634, 0.0027333875878921615), (2862, 0.0027299803376015165), (372, 0.0027293859566712955), (598, 0.0027293217396993034), (944, 0.002729197480755242), (1819, 0.002729078932563371), (3725, 0.002727550394458645), (1555, 0.0027269911419716152), (921, 0.0027262789892681253), (1433, 0.002725273762540571), (2201, 0.0027249971544865605), (935, 0.002724646270006832), (4591, 0.00272443516673273), (838, 0.002723865457347313), (3829, 0.002722985948895728), (2446, 0.0027207479495452254), (868, 0.0027197681633090933), (3500, 0.0027177134961295975), (2907, 0.002716765772940952), (1641, 0.002716427318200612), (1650, 0.002716312559944919), (2556, 0.002716247521548244), (589, 0.0027148177355195806), (1514, 0.0027109997508986323), (766, 0.0027104344430962167), (744, 0.0027090017172629512), (1519, 0.0027088390304951153), (1760, 0.002708353948583496), (4616, 0.0027059812293198267), (136, 0.0027051087349641706), (2735, 0.0027046475047192114), (3558, 0.002704394848491577), (3913, 0.002704353820760402), (2399, 0.002703999543087166), (3369, 0.002702020467028491), (1477, 0.0027018933369912616), (355, 0.0027011202321563215), (899, 0.00270029924947045), (2482, 0.002700115597232905), (590, 0.0026998561475567446), (1114, 0.0026980965594062475), (4479, 0.0026979507926821952), (1814, 0.002697187695110287), (2674, 0.00269652116444999), (4282, 0.0026964701821904536), (4348, 0.00269387779564642), (907, 0.002693843795556959), (2453, 0.0026923104170805223), (3767, 0.0026908883902362363), (4649, 0.002690179927537525), (3455, 0.0026896954372789546), (359, 0.002688262210965001), (1462, 0.002686841574373397), (4326, 0.0026856710000208377), (2362, 0.002685214461093247), (3050, 0.00268381529174542), (3284, 0.0026828725648728627), (1672, 0.002681625801925372), (910, 0.0026815003351632113), (2920, 0.0026802262216573196), (2301, 0.0026795922665171137), (1065, 0.0026773935716501744), (4620, 0.002676485474096021), (957, 0.0026748250879501632), (2954, 0.0026747262216447383), (1434, 0.002674470446525643), (218, 0.0026743421203622273), (4638, 0.0026721385591421975), (1730, 0.002670634682308488), (934, 0.002669729731402023), (1675, 0.002668610141349945), (759, 0.002667067419134325), (2803, 0.0026658099865966727), (3953, 0.002665276434397183), (3278, 0.0026635921548402667), (1892, 0.0026599649637448234), (2265, 0.0026593047060830023), (1538, 0.0026589230989680097), (2236, 0.002658159545968565), (1865, 0.0026574663202569865), (608, 0.0026553547100021868), (968, 0.0026535377736527986), (3705, 0.0026507029560799943), (473, 0.00265018799996459), (3311, 0.0026498226068916594), (449, 0.0026493185716959917), (1826, 0.002648881425188275), (4154, 0.0026469795151078607), (2338, 0.002646596745570645), (1161, 0.0026442811991366855), (1220, 0.0026439125251996125), (1719, 0.0026437043761768733), (2031, 0.002643373072487577), (1366, 0.0026423834915902606), (4350, 0.0026403312856749885), (1690, 0.0026392238883177982), (2741, 0.0026375347939599533), (3027, 0.0026359857689151616), (2285, 0.002635872460861765), (936, 0.002635719108544608), (1625, 0.002634089180671529), (2248, 0.002633529154816945), (597, 0.0026332381852671115), (4143, 0.002633153044302347), (800, 0.002632976803000221), (3863, 0.0026322907890033906), (3108, 0.0026291396924816948), (158, 0.0026276233778140005), (1980, 0.002627400417360301), (2191, 0.0026270862897789294), (3841, 0.0026269757623609865), (4080, 0.002626518143803528), (1004, 0.002625611365851913), (2976, 0.00262410841360492), (917, 0.0026220207462913196), (3795, 0.0026203669860631303), (594, 0.0026182845524699697), (1921, 0.0026179432968501844), (815, 0.002617046346786653), (1934, 0.0026155980820703442), (1414, 0.002613322745782908), (268, 0.00261267375494709), (672, 0.0026120859101890414), (1539, 0.0026120478411047958), (1977, 0.002608133124793141), (2724, 0.002602994945481591), (1423, 0.002599753848403922), (4608, 0.0025994992437739714), (132, 0.002597056933052898), (4661, 0.0025966009800442594), (4104, 0.0025965246054126083), (252, 0.002594752389653225), (4343, 0.0025910398420078895), (495, 0.0025908807747239315), (3755, 0.002588922719550567), (200, 0.0025883735317707816), (519, 0.002586442585124117), (1608, 0.002585669605622638), (4220, 0.002584183671661539), (1199, 0.002584092822996215), (2753, 0.0025806294664784935), (222, 0.0025782792532524634), (4066, 0.0025725111253441764), (480, 0.002570480247003558), (3894, 0.0025690850519153336), (32, 0.0025688462164857235), (4156, 0.0025677857532476946), (4432, 0.002563963631544439), (1301, 0.0025592059565143956), (3880, 0.002555669457248235), (4296, 0.002551570367299712), (3096, 0.002546377867902107), (2721, 0.0025453373534709126), (4429, 0.002543416802095775), (1217, 0.0025431344694973406), (2520, 0.0025393824716658303), (2747, 0.0025382365202990427), (103, 0.0025372194206669495), (4748, 0.002536996013547311), (3211, 0.0025362692632787615), (1397, 0.002533180717137332), (165, 0.002532292029459401), (2270, 0.0025309927293468253), (1828, 0.0025276079255532376), (4386, 0.0025264199738662956), (1370, 0.0025258039460963593), (278, 0.0025229241785785406), (861, 0.0025225191468746847), (3238, 0.002520930072060863), (364, 0.002520117148571046), (2527, 0.002519446346838873), (3393, 0.0025193818714847518), (3629, 0.0025157478504461875), (286, 0.0025137128137117304), (269, 0.0025135625383927913), (4627, 0.0025135555332484426), (2611, 0.002513101487698569), (3569, 0.0025115308384354796), (2743, 0.002511498900071413), (4411, 0.0025095610887709294), (4476, 0.00250663217806239), (60, 0.002505827873611717), (1088, 0.0025041068203755304), (4344, 0.0025040345111485276), (1627, 0.0025040136648033146), (2146, 0.002503387689778889), (3376, 0.002501436146741359), (496, 0.0025009140303643472), (3409, 0.0024991895910105957), (1743, 0.002493414870094272), (432, 0.0024920310733500583), (3065, 0.0024881577242365357), (2758, 0.0024878542281254416), (3669, 0.0024824703530544373), (267, 0.0024824378065507885), (3668, 0.002479445401925579), (1356, 0.0024793495630807305), (3657, 0.002472016966097308), (4636, 0.0024703011028809198), (2039, 0.0024640543087433224), (2127, 0.0024591538204808117), (3347, 0.0024586266499796562), (3821, 0.002456667212181178), (2211, 0.0024545273927659974), (3091, 0.002451890761546137), (3928, 0.002446907155402987), (2876, 0.0024465293508523665), (2359, 0.0024449798213401945), (4733, 0.002444195299949228), (3331, 0.002441861605395058), (16, 0.002441559415285774), (1209, 0.002441083650700634), (3252, 0.00244087900462041), (2481, 0.002439445405519995), (3430, 0.00243828020492903), (3927, 0.0024382235217317), (796, 0.0024319920472826166), (442, 0.0024289205321253115), (2563, 0.002422692702270589), (1305, 0.002421710936815255), (441, 0.002420694361777702), (2844, 0.002419361956713368), (4015, 0.0024164151637486417), (3957, 0.0024144962015143594), (843, 0.0024089899098979598), (3548, 0.002408928477362138), (1241, 0.0024081356238829336), (1427, 0.002401284764053599), (1415, 0.0024000240225712337), (1464, 0.002399537758209757), (1098, 0.002388695923719624), (1037, 0.0023829024840022976), (3875, 0.0023809725174954535), (156, 0.0023796609243628103), (4744, 0.0023746730830520165), (4626, 0.0023683385729680695), (691, 0.00236754548349656), (3410, 0.00235725589635419), (4674, 0.0023527460513243924), (3431, 0.002352338110734688), (194, 0.002350271838559246), (3538, 0.0023357498604658954), (1144, 0.0023354570252850015), (1871, 0.0023314991537546326), (63, 0.002331355479759503), (1886, 0.0023282942691428598), (706, 0.0023266656717557126), (527, 0.0023190469453787483), (2010, 0.002313333583805558), (2917, 0.0023073075892864454), (3301, 0.0022939096780114697), (159, 0.0022926398689762156), (1040, 0.0022879318553489024), (3152, 0.0022859037000285028), (2767, 0.0022853824253711123), (571, 0.0022585583591287796), (607, 0.002257235757464943), (266, 0.0022539205042466414), (3316, 0.002253329262046646), (1403, 0.0022506454504022605), (453, 0.0022399620507120447), (4652, 0.0022390414192699328), (351, 0.0022348973960319716), (82, 0.00222293122607462), (562, 0.0022223355001506472), (296, 0.002195469690557926), (1277, 0.0021905671800369507), (1648, 0.0021875887376345275), (3546, 0.0021855041506026445), (4301, 0.002173332992580403), (2902, 0.0021544423350040543), (293, 0.0020828319819316413), (455, 0.0020786578715515816), (3365, 0.0020657739531168757), (129, 0.0020455496365541113), (858, 0.001977876272498834), (24, 0.001913223738954845), (3608, 0.0019080174902503732), (3835, 0.001764251692444918), (2, 0.0), (6, 0.0), (13, 0.0), (17, 0.0), (22, 0.0), (27, 0.0), (35, 0.0), (36, 0.0), (37, 0.0), (39, 0.0), (46, 0.0), (57, 0.0), (65, 0.0), (67, 0.0), (69, 0.0), (77, 0.0), (78, 0.0), (80, 0.0), (91, 0.0), (93, 0.0), (94, 0.0), (95, 0.0), (100, 0.0), (101, 0.0), (102, 0.0), (110, 0.0), (118, 0.0), (125, 0.0), (128, 0.0), (130, 0.0), (150, 0.0), (151, 0.0), (152, 0.0), (163, 0.0), (168, 0.0), (171, 0.0), (179, 0.0), (185, 0.0), (186, 0.0), (214, 0.0), (220, 0.0), (223, 0.0), (225, 0.0), (230, 0.0), (231, 0.0), (232, 0.0), (233, 0.0), (234, 0.0), (241, 0.0), (245, 0.0), (250, 0.0), (258, 0.0), (260, 0.0), (261, 0.0), (263, 0.0), (264, 0.0), (265, 0.0), (272, 0.0), (273, 0.0), (275, 0.0), (284, 0.0), (289, 0.0), (290, 0.0), (297, 0.0), (298, 0.0), (300, 0.0), (303, 0.0), (305, 0.0), (310, 0.0), (312, 0.0), (313, 0.0), (316, 0.0), (320, 0.0), (327, 0.0), (328, 0.0), (331, 0.0), (332, 0.0), (336, 0.0), (337, 0.0), (339, 0.0), (341, 0.0), (347, 0.0), (352, 0.0), (361, 0.0), (362, 0.0), (363, 0.0), (365, 0.0), (386, 0.0), (389, 0.0), (390, 0.0), (393, 0.0), (404, 0.0), (409, 0.0), (411, 0.0), (413, 0.0), (415, 0.0), (420, 0.0), (421, 0.0), (424, 0.0), (425, 0.0), (426, 0.0), (454, 0.0), (459, 0.0), (460, 0.0), (462, 0.0), (467, 0.0), (477, 0.0), (484, 0.0), (491, 0.0), (498, 0.0), (514, 0.0), (516, 0.0), (525, 0.0), (529, 0.0), (536, 0.0), (537, 0.0), (538, 0.0), (540, 0.0), (549, 0.0), (550, 0.0), (557, 0.0), (559, 0.0), (567, 0.0), (568, 0.0), (570, 0.0), (574, 0.0), (582, 0.0), (585, 0.0), (586, 0.0), (591, 0.0), (592, 0.0), (595, 0.0), (599, 0.0), (600, 0.0), (601, 0.0), (602, 0.0), (603, 0.0), (610, 0.0), (615, 0.0), (618, 0.0), (625, 0.0), (630, 0.0), (633, 0.0), (634, 0.0), (635, 0.0), (639, 0.0), (648, 0.0), (650, 0.0), (661, 0.0), (666, 0.0), (671, 0.0), (674, 0.0), (681, 0.0), (686, 0.0), (699, 0.0), (700, 0.0), (711, 0.0), (714, 0.0), (720, 0.0), (724, 0.0), (725, 0.0), (730, 0.0), (736, 0.0), (741, 0.0), (747, 0.0), (748, 0.0), (752, 0.0), (754, 0.0), (758, 0.0), (765, 0.0), (768, 0.0), (770, 0.0), (772, 0.0), (775, 0.0), (776, 0.0), (779, 0.0), (780, 0.0), (789, 0.0), (803, 0.0), (811, 0.0), (836, 0.0), (841, 0.0), (877, 0.0), (881, 0.0), (882, 0.0), (893, 0.0), (902, 0.0), (913, 0.0), (914, 0.0), (919, 0.0), (932, 0.0), (943, 0.0), (950, 0.0), (954, 0.0), (960, 0.0), (964, 0.0), (965, 0.0), (970, 0.0), (977, 0.0), (983, 0.0), (990, 0.0), (995, 0.0), (996, 0.0), (997, 0.0), (1003, 0.0), (1008, 0.0), (1010, 0.0), (1011, 0.0), (1012, 0.0), (1014, 0.0), (1016, 0.0), (1025, 0.0), (1031, 0.0), (1045, 0.0), (1046, 0.0), (1051, 0.0), (1057, 0.0), (1066, 0.0), (1069, 0.0), (1070, 0.0), (1073, 0.0), (1089, 0.0), (1091, 0.0), (1093, 0.0), (1094, 0.0), (1095, 0.0), (1097, 0.0), (1099, 0.0), (1105, 0.0), (1106, 0.0), (1108, 0.0), (1111, 0.0), (1113, 0.0), (1120, 0.0), (1126, 0.0), (1127, 0.0), (1129, 0.0), (1134, 0.0), (1135, 0.0), (1142, 0.0), (1147, 0.0), (1149, 0.0), (1152, 0.0), (1154, 0.0), (1155, 0.0), (1158, 0.0), (1159, 0.0), (1164, 0.0), (1171, 0.0), (1178, 0.0), (1181, 0.0), (1189, 0.0), (1190, 0.0), (1198, 0.0), (1201, 0.0), (1210, 0.0), (1211, 0.0), (1212, 0.0), (1218, 0.0), (1222, 0.0), (1227, 0.0), (1228, 0.0), (1235, 0.0), (1238, 0.0), (1240, 0.0), (1242, 0.0), (1244, 0.0), (1246, 0.0), (1258, 0.0), (1262, 0.0), (1265, 0.0), (1266, 0.0), (1267, 0.0), (1268, 0.0), (1269, 0.0), (1274, 0.0), (1278, 0.0), (1280, 0.0), (1287, 0.0), (1288, 0.0), (1289, 0.0), (1291, 0.0), (1293, 0.0), (1299, 0.0), (1302, 0.0), (1307, 0.0), (1311, 0.0), (1322, 0.0), (1327, 0.0), (1328, 0.0), (1332, 0.0), (1333, 0.0), (1336, 0.0), (1341, 0.0), (1345, 0.0), (1346, 0.0), (1358, 0.0), (1363, 0.0), (1368, 0.0), (1373, 0.0), (1374, 0.0), (1376, 0.0), (1380, 0.0), (1381, 0.0), (1386, 0.0), (1389, 0.0), (1391, 0.0), (1395, 0.0), (1396, 0.0), (1399, 0.0), (1426, 0.0), (1437, 0.0), (1441, 0.0), (1443, 0.0), (1449, 0.0), (1451, 0.0), (1452, 0.0), (1453, 0.0), (1460, 0.0), (1467, 0.0), (1468, 0.0), (1486, 0.0), (1487, 0.0), (1490, 0.0), (1495, 0.0), (1496, 0.0), (1501, 0.0), (1502, 0.0), (1512, 0.0), (1515, 0.0), (1520, 0.0), (1522, 0.0), (1525, 0.0), (1526, 0.0), (1529, 0.0), (1530, 0.0), (1531, 0.0), (1535, 0.0), (1548, 0.0), (1549, 0.0), (1552, 0.0), (1556, 0.0), (1560, 0.0), (1563, 0.0), (1564, 0.0), (1568, 0.0), (1569, 0.0), (1573, 0.0), (1576, 0.0), (1578, 0.0), (1583, 0.0), (1588, 0.0), (1590, 0.0), (1600, 0.0), (1601, 0.0), (1602, 0.0), (1603, 0.0), (1604, 0.0), (1607, 0.0), (1609, 0.0), (1611, 0.0), (1615, 0.0), (1618, 0.0), (1623, 0.0), (1626, 0.0), (1631, 0.0), (1633, 0.0), (1635, 0.0), (1636, 0.0), (1638, 0.0), (1640, 0.0), (1644, 0.0), (1651, 0.0), (1652, 0.0), (1659, 0.0), (1661, 0.0), (1664, 0.0), (1668, 0.0), (1669, 0.0), (1676, 0.0), (1684, 0.0), (1686, 0.0), (1692, 0.0), (1696, 0.0), (1697, 0.0), (1702, 0.0), (1709, 0.0), (1713, 0.0), (1715, 0.0), (1718, 0.0), (1723, 0.0), (1725, 0.0), (1728, 0.0), (1729, 0.0), (1731, 0.0), (1732, 0.0), (1734, 0.0), (1746, 0.0), (1749, 0.0), (1751, 0.0), (1753, 0.0), (1755, 0.0), (1758, 0.0), (1766, 0.0), (1769, 0.0), (1770, 0.0), (1771, 0.0), (1773, 0.0), (1778, 0.0), (1785, 0.0), (1786, 0.0), (1788, 0.0), (1790, 0.0), (1791, 0.0), (1799, 0.0), (1800, 0.0), (1803, 0.0), (1804, 0.0), (1809, 0.0), (1810, 0.0), (1812, 0.0), (1825, 0.0), (1834, 0.0), (1837, 0.0), (1839, 0.0), (1841, 0.0), (1842, 0.0), (1844, 0.0), (1849, 0.0), (1855, 0.0), (1859, 0.0), (1868, 0.0), (1870, 0.0), (1879, 0.0), (1880, 0.0), (1889, 0.0), (1894, 0.0), (1898, 0.0), (1900, 0.0), (1901, 0.0), (1903, 0.0), (1904, 0.0), (1906, 0.0), (1908, 0.0), (1910, 0.0), (1911, 0.0), (1914, 0.0), (1917, 0.0), (1926, 0.0), (1927, 0.0), (1928, 0.0), (1935, 0.0), (1938, 0.0), (1941, 0.0), (1948, 0.0), (1952, 0.0), (1953, 0.0), (1955, 0.0), (1957, 0.0), (1961, 0.0), (1962, 0.0), (1965, 0.0), (1972, 0.0), (1975, 0.0), (1976, 0.0), (1984, 0.0), (1988, 0.0), (1991, 0.0), (1994, 0.0), (2001, 0.0), (2002, 0.0), (2006, 0.0), (2015, 0.0), (2017, 0.0), (2018, 0.0), (2020, 0.0), (2021, 0.0), (2028, 0.0), (2030, 0.0), (2032, 0.0), (2033, 0.0), (2036, 0.0), (2038, 0.0), (2041, 0.0), (2046, 0.0), (2050, 0.0), (2052, 0.0), (2058, 0.0), (2059, 0.0), (2063, 0.0), (2071, 0.0), (2081, 0.0), (2084, 0.0), (2090, 0.0), (2092, 0.0), (2094, 0.0), (2098, 0.0), (2101, 0.0), (2106, 0.0), (2113, 0.0), (2115, 0.0), (2125, 0.0), (2128, 0.0), (2136, 0.0), (2138, 0.0), (2139, 0.0), (2140, 0.0), (2150, 0.0), (2156, 0.0), (2160, 0.0), (2161, 0.0), (2164, 0.0), (2167, 0.0), (2168, 0.0), (2171, 0.0), (2172, 0.0), (2175, 0.0), (2177, 0.0), (2179, 0.0), (2182, 0.0), (2183, 0.0), (2186, 0.0), (2197, 0.0), (2198, 0.0), (2200, 0.0), (2202, 0.0), (2207, 0.0), (2218, 0.0), (2219, 0.0), (2220, 0.0), (2231, 0.0), (2233, 0.0), (2234, 0.0), (2238, 0.0), (2241, 0.0), (2243, 0.0), (2244, 0.0), (2246, 0.0), (2247, 0.0), (2249, 0.0), (2253, 0.0), (2259, 0.0), (2261, 0.0), (2262, 0.0), (2263, 0.0), (2267, 0.0), (2278, 0.0), (2282, 0.0), (2283, 0.0), (2290, 0.0), (2291, 0.0), (2294, 0.0), (2298, 0.0), (2305, 0.0), (2307, 0.0), (2312, 0.0), (2314, 0.0), (2325, 0.0), (2328, 0.0), (2329, 0.0), (2332, 0.0), (2333, 0.0), (2335, 0.0), (2339, 0.0), (2341, 0.0), (2342, 0.0), (2343, 0.0), (2364, 0.0), (2369, 0.0), (2371, 0.0), (2373, 0.0), (2376, 0.0), (2377, 0.0), (2380, 0.0), (2381, 0.0), (2389, 0.0), (2420, 0.0), (2421, 0.0), (2426, 0.0), (2431, 0.0), (2433, 0.0), (2439, 0.0), (2442, 0.0), (2450, 0.0), (2451, 0.0), (2452, 0.0), (2456, 0.0), (2470, 0.0), (2471, 0.0), (2472, 0.0), (2476, 0.0), (2483, 0.0), (2485, 0.0), (2491, 0.0), (2498, 0.0), (2500, 0.0), (2501, 0.0), (2503, 0.0), (2504, 0.0), (2506, 0.0), (2508, 0.0), (2510, 0.0), (2515, 0.0), (2518, 0.0), (2523, 0.0), (2532, 0.0), (2536, 0.0), (2542, 0.0), (2543, 0.0), (2544, 0.0), (2547, 0.0), (2551, 0.0), (2562, 0.0), (2564, 0.0), (2566, 0.0), (2567, 0.0), (2573, 0.0), (2576, 0.0), (2577, 0.0), (2582, 0.0), (2583, 0.0), (2590, 0.0), (2594, 0.0), (2596, 0.0), (2597, 0.0), (2599, 0.0), (2604, 0.0), (2605, 0.0), (2608, 0.0), (2616, 0.0), (2620, 0.0), (2630, 0.0), (2637, 0.0), (2639, 0.0), (2641, 0.0), (2644, 0.0), (2646, 0.0), (2654, 0.0), (2656, 0.0), (2657, 0.0), (2658, 0.0), (2659, 0.0), (2663, 0.0), (2666, 0.0), (2667, 0.0), (2669, 0.0), (2670, 0.0), (2672, 0.0), (2676, 0.0), (2677, 0.0), (2682, 0.0), (2683, 0.0), (2685, 0.0), (2688, 0.0), (2690, 0.0), (2691, 0.0), (2693, 0.0), (2700, 0.0), (2701, 0.0), (2703, 0.0), (2704, 0.0), (2708, 0.0), (2713, 0.0), (2715, 0.0), (2717, 0.0), (2719, 0.0), (2726, 0.0), (2729, 0.0), (2730, 0.0), (2732, 0.0), (2733, 0.0), (2737, 0.0), (2763, 0.0), (2773, 0.0), (2774, 0.0), (2787, 0.0), (2789, 0.0), (2793, 0.0), (2794, 0.0), (2804, 0.0), (2807, 0.0), (2810, 0.0), (2814, 0.0), (2818, 0.0), (2820, 0.0), (2823, 0.0), (2824, 0.0), (2828, 0.0), (2829, 0.0), (2835, 0.0), (2837, 0.0), (2839, 0.0), (2843, 0.0), (2847, 0.0), (2850, 0.0), (2852, 0.0), (2855, 0.0), (2860, 0.0), (2864, 0.0), (2865, 0.0), (2866, 0.0), (2869, 0.0), (2873, 0.0), (2875, 0.0), (2885, 0.0), (2891, 0.0), (2896, 0.0), (2898, 0.0), (2905, 0.0), (2906, 0.0), (2922, 0.0), (2927, 0.0), (2928, 0.0), (2930, 0.0), (2935, 0.0), (2938, 0.0), (2941, 0.0), (2947, 0.0), (2951, 0.0), (2955, 0.0), (2959, 0.0), (2960, 0.0), (2973, 0.0), (2979, 0.0), (2983, 0.0), (2990, 0.0), (2992, 0.0), (3002, 0.0), (3008, 0.0), (3009, 0.0), (3017, 0.0), (3022, 0.0), (3023, 0.0), (3029, 0.0), (3033, 0.0), (3038, 0.0), (3039, 0.0), (3041, 0.0), (3047, 0.0), (3048, 0.0), (3049, 0.0), (3053, 0.0), (3054, 0.0), (3058, 0.0), (3059, 0.0), (3061, 0.0), (3066, 0.0), (3068, 0.0), (3073, 0.0), (3078, 0.0), (3079, 0.0), (3080, 0.0), (3088, 0.0), (3098, 0.0), (3100, 0.0), (3104, 0.0), (3105, 0.0), (3106, 0.0), (3107, 0.0), (3114, 0.0), (3124, 0.0), (3126, 0.0), (3130, 0.0), (3132, 0.0), (3134, 0.0), (3135, 0.0), (3136, 0.0), (3138, 0.0), (3143, 0.0), (3156, 0.0), (3162, 0.0), (3163, 0.0), (3164, 0.0), (3172, 0.0), (3176, 0.0), (3180, 0.0), (3185, 0.0), (3191, 0.0), (3193, 0.0), (3197, 0.0), (3201, 0.0), (3202, 0.0), (3203, 0.0), (3204, 0.0), (3205, 0.0), (3207, 0.0), (3212, 0.0), (3217, 0.0), (3222, 0.0), (3229, 0.0), (3231, 0.0), (3236, 0.0), (3250, 0.0), (3251, 0.0), (3253, 0.0), (3255, 0.0), (3256, 0.0), (3261, 0.0), (3263, 0.0), (3266, 0.0), (3270, 0.0), (3277, 0.0), (3286, 0.0), (3287, 0.0), (3288, 0.0), (3294, 0.0), (3295, 0.0), (3309, 0.0), (3320, 0.0), (3323, 0.0), (3324, 0.0), (3338, 0.0), (3339, 0.0), (3340, 0.0), (3345, 0.0), (3350, 0.0), (3366, 0.0), (3368, 0.0), (3378, 0.0), (3383, 0.0), (3385, 0.0), (3397, 0.0), (3398, 0.0), (3400, 0.0), (3404, 0.0), (3405, 0.0), (3411, 0.0), (3415, 0.0), (3420, 0.0), (3424, 0.0), (3426, 0.0), (3428, 0.0), (3429, 0.0), (3432, 0.0), (3438, 0.0), (3440, 0.0), (3442, 0.0), (3443, 0.0), (3444, 0.0), (3446, 0.0), (3448, 0.0), (3451, 0.0), (3457, 0.0), (3459, 0.0), (3467, 0.0), (3468, 0.0), (3469, 0.0), (3472, 0.0), (3476, 0.0), (3480, 0.0), (3481, 0.0), (3482, 0.0), (3485, 0.0), (3486, 0.0), (3489, 0.0), (3490, 0.0), (3495, 0.0), (3502, 0.0), (3505, 0.0), (3509, 0.0), (3513, 0.0), (3515, 0.0), (3518, 0.0), (3519, 0.0), (3520, 0.0), (3522, 0.0), (3530, 0.0), (3532, 0.0), (3543, 0.0), (3549, 0.0), (3550, 0.0), (3555, 0.0), (3559, 0.0), (3562, 0.0), (3567, 0.0), (3568, 0.0), (3573, 0.0), (3574, 0.0), (3576, 0.0), (3578, 0.0), (3581, 0.0), (3583, 0.0), (3584, 0.0), (3588, 0.0), (3592, 0.0), (3595, 0.0), (3598, 0.0), (3600, 0.0), (3603, 0.0), (3604, 0.0), (3605, 0.0), (3609, 0.0), (3619, 0.0), (3622, 0.0), (3625, 0.0), (3628, 0.0), (3630, 0.0), (3631, 0.0), (3632, 0.0), (3644, 0.0), (3648, 0.0), (3663, 0.0), (3671, 0.0), (3676, 0.0), (3679, 0.0), (3681, 0.0), (3686, 0.0), (3688, 0.0), (3695, 0.0), (3697, 0.0), (3698, 0.0), (3702, 0.0), (3703, 0.0), (3709, 0.0), (3710, 0.0), (3712, 0.0), (3715, 0.0), (3716, 0.0), (3717, 0.0), (3721, 0.0), (3722, 0.0), (3723, 0.0), (3724, 0.0), (3730, 0.0), (3736, 0.0), (3743, 0.0), (3744, 0.0), (3746, 0.0), (3748, 0.0), (3753, 0.0), (3758, 0.0), (3760, 0.0), (3761, 0.0), (3764, 0.0), (3773, 0.0), (3776, 0.0), (3782, 0.0), (3783, 0.0), (3785, 0.0), (3786, 0.0), (3787, 0.0), (3788, 0.0), (3789, 0.0), (3791, 0.0), (3793, 0.0), (3796, 0.0), (3798, 0.0), (3800, 0.0), (3803, 0.0), (3805, 0.0), (3810, 0.0), (3815, 0.0), (3817, 0.0), (3818, 0.0), (3820, 0.0), (3823, 0.0), (3824, 0.0), (3825, 0.0), (3834, 0.0), (3836, 0.0), (3838, 0.0), (3840, 0.0), (3844, 0.0), (3846, 0.0), (3851, 0.0), (3852, 0.0), (3859, 0.0), (3861, 0.0), (3864, 0.0), (3865, 0.0), (3869, 0.0), (3870, 0.0), (3871, 0.0), (3879, 0.0), (3881, 0.0), (3885, 0.0), (3887, 0.0), (3896, 0.0), (3897, 0.0), (3907, 0.0), (3909, 0.0), (3914, 0.0), (3916, 0.0), (3918, 0.0), (3921, 0.0), (3923, 0.0), (3929, 0.0), (3930, 0.0), (3933, 0.0), (3934, 0.0), (3936, 0.0), (3937, 0.0), (3940, 0.0), (3943, 0.0), (3944, 0.0), (3950, 0.0), (3963, 0.0), (3964, 0.0), (3968, 0.0), (3969, 0.0), (3970, 0.0), (3971, 0.0), (3972, 0.0), (3979, 0.0), (3981, 0.0), (3988, 0.0), (3989, 0.0), (3994, 0.0), (3995, 0.0), (3996, 0.0), (3997, 0.0), (3998, 0.0), (4001, 0.0), (4009, 0.0), (4010, 0.0), (4012, 0.0), (4021, 0.0), (4034, 0.0), (4037, 0.0), (4039, 0.0), (4040, 0.0), (4041, 0.0), (4043, 0.0), (4044, 0.0), (4047, 0.0), (4057, 0.0), (4061, 0.0), (4064, 0.0), (4065, 0.0), (4071, 0.0), (4072, 0.0), (4076, 0.0), (4077, 0.0), (4078, 0.0), (4084, 0.0), (4090, 0.0), (4091, 0.0), (4099, 0.0), (4100, 0.0), (4103, 0.0), (4106, 0.0), (4112, 0.0), (4115, 0.0), (4119, 0.0), (4120, 0.0), (4127, 0.0), (4131, 0.0), (4134, 0.0), (4146, 0.0), (4149, 0.0), (4157, 0.0), (4162, 0.0), (4166, 0.0), (4167, 0.0), (4168, 0.0), (4180, 0.0), (4181, 0.0), (4185, 0.0), (4188, 0.0), (4190, 0.0), (4191, 0.0), (4194, 0.0), (4195, 0.0), (4196, 0.0), (4201, 0.0), (4208, 0.0), (4210, 0.0), (4211, 0.0), (4212, 0.0), (4219, 0.0), (4223, 0.0), (4224, 0.0), (4229, 0.0), (4234, 0.0), (4236, 0.0), (4238, 0.0), (4239, 0.0), (4241, 0.0), (4248, 0.0), (4250, 0.0), (4251, 0.0), (4258, 0.0), (4260, 0.0), (4264, 0.0), (4270, 0.0), (4272, 0.0), (4276, 0.0), (4278, 0.0), (4279, 0.0), (4285, 0.0), (4290, 0.0), (4294, 0.0), (4297, 0.0), (4302, 0.0), (4303, 0.0), (4305, 0.0), (4312, 0.0), (4313, 0.0), (4314, 0.0), (4315, 0.0), (4316, 0.0), (4317, 0.0), (4319, 0.0), (4322, 0.0), (4323, 0.0), (4328, 0.0), (4331, 0.0), (4332, 0.0), (4338, 0.0), (4339, 0.0), (4342, 0.0), (4346, 0.0), (4347, 0.0), (4351, 0.0), (4352, 0.0), (4358, 0.0), (4360, 0.0), (4364, 0.0), (4365, 0.0), (4367, 0.0), (4370, 0.0), (4372, 0.0), (4373, 0.0), (4375, 0.0), (4376, 0.0), (4378, 0.0), (4383, 0.0), (4384, 0.0), (4385, 0.0), (4393, 0.0), (4405, 0.0), (4406, 0.0), (4408, 0.0), (4413, 0.0), (4414, 0.0), (4415, 0.0), (4417, 0.0), (4421, 0.0), (4425, 0.0), (4426, 0.0), (4439, 0.0), (4441, 0.0), (4447, 0.0), (4449, 0.0), (4451, 0.0), (4452, 0.0), (4454, 0.0), (4455, 0.0), (4457, 0.0), (4459, 0.0), (4462, 0.0), (4463, 0.0), (4464, 0.0), (4467, 0.0), (4480, 0.0), (4483, 0.0), (4491, 0.0), (4492, 0.0), (4493, 0.0), (4496, 0.0), (4500, 0.0), (4506, 0.0), (4508, 0.0), (4509, 0.0), (4513, 0.0), (4514, 0.0), (4519, 0.0), (4524, 0.0), (4525, 0.0), (4526, 0.0), (4527, 0.0), (4537, 0.0), (4539, 0.0), (4541, 0.0), (4548, 0.0), (4552, 0.0), (4558, 0.0), (4559, 0.0), (4560, 0.0), (4561, 0.0), (4564, 0.0), (4565, 0.0), (4568, 0.0), (4570, 0.0), (4577, 0.0), (4578, 0.0), (4585, 0.0), (4586, 0.0), (4588, 0.0), (4592, 0.0), (4595, 0.0), (4596, 0.0), (4597, 0.0), (4609, 0.0), (4613, 0.0), (4615, 0.0), (4618, 0.0), (4621, 0.0), (4622, 0.0), (4630, 0.0), (4631, 0.0), (4635, 0.0), (4642, 0.0), (4644, 0.0), (4645, 0.0), (4646, 0.0), (4647, 0.0), (4654, 0.0), (4655, 0.0), (4662, 0.0), (4665, 0.0), (4666, 0.0), (4667, 0.0), (4671, 0.0), (4672, 0.0), (4675, 0.0), (4676, 0.0), (4678, 0.0), (4681, 0.0), (4688, 0.0), (4689, 0.0), (4691, 0.0), (4697, 0.0), (4698, 0.0), (4700, 0.0), (4702, 0.0), (4703, 0.0), (4711, 0.0), (4714, 0.0), (4716, 0.0), (4728, 0.0), (4730, 0.0), (4737, 0.0), (4738, 0.0), (4741, 0.0), (4742, 0.0), (4745, 0.0), (4746, 0.0), (4750, 0.0), (4751, 0.0), (4754, 0.0), (4755, 0.0), (4758, 0.0)]\n"
          ]
        }
      ]
    },
    {
      "cell_type": "code",
      "source": [
        "# print the name of similar movies based on the index\n",
        "\n",
        "print('Top 30 Movies Suggested for you: \\n')\n",
        "\n",
        "i = 1\n",
        "\n",
        "for movie in Sorted_Similar_Movies:\n",
        "    index = movie[0]\n",
        "    title_from_index = df[df.index==index]['Movie_Title'].values[0]\n",
        "    if (i<31):\n",
        "        print(i, '.',title_from_index)\n",
        "        i+=1"
      ],
      "metadata": {
        "colab": {
          "base_uri": "https://localhost:8080/"
        },
        "id": "22Q_GxeJWpe8",
        "outputId": "145a97f4-883b-4e4f-8d6a-3fcf76cb170a"
      },
      "execution_count": null,
      "outputs": [
        {
          "output_type": "stream",
          "name": "stdout",
          "text": [
            "Top 30 Movies Suggested for you: \n",
            "\n",
            "1 . Dancer in the Dark\n",
            "2 . Manderlay\n",
            "3 . Melancholia\n",
            "4 . Concussion\n",
            "5 . The Musketeer\n",
            "6 . The Slaughter Rule\n",
            "7 . Willy Wonka & the Chocolate Factory\n",
            "8 . Grace Unplugged\n",
            "9 . The Naked Gun 2½: The Smell of Fear\n",
            "10 . Lockout\n",
            "11 . Charlie and the Chocolate Factory\n",
            "12 . The Green Mile\n",
            "13 . A Beautiful Mind\n",
            "14 . Bad Company\n",
            "15 . My Own Private Idaho\n",
            "16 . Bang Bang Baby\n",
            "17 . Being John Malkovich\n",
            "18 . Bee Movie\n",
            "19 . Raise Your Voice\n",
            "20 . Proof of Life\n",
            "21 . The Return of the Pink Panther\n",
            "22 . The Girl on the Train\n",
            "23 . 8 Women\n",
            "24 . O Brother, Where Art Thou?\n",
            "25 . March or Die\n",
            "26 . Across the Universe\n",
            "27 . Oculus\n",
            "28 . Crazy in Alabama\n",
            "29 . Pocketful of Miracles\n",
            "30 . Fantasia\n"
          ]
        }
      ]
    },
    {
      "cell_type": "markdown",
      "source": [
        "# **Top 10 Movie Recommendation System**"
      ],
      "metadata": {
        "id": "LG7l2qkkXLmn"
      }
    },
    {
      "cell_type": "code",
      "source": [
        "Movie_Name = input('Enter your favorite movie name: ')\n",
        "\n",
        "list_of_all_titles = df['Movie_Title'].tolist()\n",
        "\n",
        "Find_Close_Match = difflib.get_close_matches(Movie_Name, list_of_all_titles)\n",
        "\n",
        "Close_Match = Find_Close_Match[0]\n",
        "\n",
        "Index_of_Movie = df[df.Movie_Title == Close_Match]['Movie_ID'].values[0]\n",
        "\n",
        "Recommendation_Score = list(enumerate(Similarity_Score[Index_of_Movie]))\n",
        "\n",
        "sorted_similar_movies = sorted(Recommendation_Score, key = lambda x:x[1], reverse = True)\n",
        "\n",
        "print('Top 10 Movies suggested for you : \\n')\n",
        "\n",
        "i = 1\n",
        "\n",
        "for movie in sorted_similar_movies:\n",
        "    index = movie[0]\n",
        "    title_from_index = df[df.Movie_ID==index]['Movie_Title'].values\n",
        "    if (i<11):\n",
        "        print(i,'.',title_from_index)\n",
        "        i+=1"
      ],
      "metadata": {
        "colab": {
          "base_uri": "https://localhost:8080/"
        },
        "id": "mAZGu1WtXRSm",
        "outputId": "b780ec59-90a8-4c90-cd8c-c72be405f480"
      },
      "execution_count": null,
      "outputs": [
        {
          "output_type": "stream",
          "name": "stdout",
          "text": [
            "Enter your favorite movie name: American Beauty\n",
            "Top 10 Movies suggested for you : \n",
            "\n",
            "1 . ['American Beauty']\n",
            "2 . ['Lucky You']\n",
            "3 . ['Monsters University']\n",
            "4 . ['Green Room']\n",
            "5 . [\"She's the One\"]\n",
            "6 . ['Good Boy!']\n",
            "7 . ['Ghost']\n",
            "8 . ['Independence Daysaster']\n",
            "9 . ['Mother and Child']\n",
            "10 . ['Rise of the Guardians']\n"
          ]
        }
      ]
    },
    {
      "cell_type": "markdown",
      "source": [
        "# **Explanation**"
      ],
      "metadata": {
        "id": "uRgEF8hcXlGr"
      }
    },
    {
      "cell_type": "markdown",
      "source": [
        "Recommender System is a system that seeks to predict or filter preferences according to the user's choices. Recommender systems are utilized in a variety of areas including movies, music, news, books, research articles, search queries, social tags, and products in general. Recommender systems produce a list of recommendations in any of the two ways -\n",
        "\n",
        "Collaborative filtering: Collaborative filtering approaches build a model from the user's past behavior (i.e. items purchased or searched by the user) as well as similar decisions made by other users. This model is then used to predict items(or ratings for items) that users may have an interest in.\n",
        "\n",
        "Content-based filtering: Content-base filtering approaches uses a series of discrete characteristics of an item in order to recommend additional items with similar properties. Content-based filtering methods are totally based on a description of the item and a profile of the user's preferences. It recommends items based on the user's past preferences. Let's develop a basic recommendation system using Python and Pandas."
      ],
      "metadata": {
        "id": "UwZmvZ_XXp26"
      }
    },
    {
      "cell_type": "code",
      "source": [],
      "metadata": {
        "id": "U9lmxZoaXRVC"
      },
      "execution_count": null,
      "outputs": []
    },
    {
      "cell_type": "code",
      "source": [],
      "metadata": {
        "id": "steG4PKAXRYG"
      },
      "execution_count": null,
      "outputs": []
    }
  ]
}